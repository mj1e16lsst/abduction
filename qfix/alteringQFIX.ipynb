{
 "cells": [
  {
   "cell_type": "code",
   "execution_count": 58,
   "metadata": {},
   "outputs": [],
   "source": [
    "from PW_explorer.run_clingo import run_clingo\n",
    "from PW_explorer.load_worlds import load_worlds\n",
    "from PW_explorer.pwe_helper import rel_slicer\n",
    "from PW_explorer.time_series import PWETimeSeriesModule\n",
    "from PW_explorer.pwe_nb_helper import ASPRules\n",
    "from PW_explorer.export import PWEExport\n",
    "from PW_explorer.visualize import PWEVisualization\n",
    "\n",
    "import pandas as pd\n",
    "\n",
    "import networkx as nx\n",
    "import matplotlib.pyplot as plt\n",
    "from nxpd import draw\n",
    "from nxpd import nxpdParams\n",
    "nxpdParams['show'] = 'ipynb'\n",
    "from copy import deepcopy\n",
    "from collections import OrderedDict\n",
    "import random\n",
    "import csv\n",
    "import numpy as np"
   ]
  },
  {
   "cell_type": "code",
   "execution_count": 23,
   "metadata": {},
   "outputs": [],
   "source": [
    "def sql2clingo(sqlCommand,originalSchema,colour='black'):\n",
    "    sql = sqlCommand.replace('\"','')\n",
    "    sqlList = sql.split(' ') \n",
    "    #print(sqlList)\n",
    "    schemaList = originalSchema.split(',')\n",
    "    #print(schemaList)\n",
    "    clingoString = 0\n",
    "    #print(sqlList[0])\n",
    "    if sqlList[0] == 'UPDATE':\n",
    "        sql = sql.replace(' = ','=')\n",
    "        sql = sql.replace(' > ','>')\n",
    "        sql = sql.replace(' < ','<')\n",
    "        sql = sql.replace(' >= ','>=')\n",
    "        sql = sql.replace(' <= ','<=')\n",
    "        sql = sql.replace(',','')\n",
    "        sqlList = sql.split(' ') \n",
    "        setLoc = sqlList.index('SET')\n",
    "        whereLoc = sqlList.index('WHERE')\n",
    "        setCommands = sqlList[setLoc+1:whereLoc]\n",
    "        setCommands = [x.upper() for x in setCommands]\n",
    "        whereCommands = sqlList[whereLoc+1:]\n",
    "        whereCommands = [x.upper() for x in whereCommands if x != 'AND']\n",
    "\n",
    "        return [whereCommands,setCommands]\n",
    "    else:\n",
    "        return 0"
   ]
  },
  {
   "cell_type": "code",
   "execution_count": 118,
   "metadata": {},
   "outputs": [],
   "source": [
    "def getSetValue(listItem,AWhere,Alocs=['A0','A1','A2','A3','A4'],locator='='):\n",
    "    for x in listItem:\n",
    "        for y in range(len(Alocs)):\n",
    "            if Alocs[y] in x:\n",
    "                loc1 = x.index(locator) + len(locator)\n",
    "                num = int(x[loc1:])\n",
    "                AWhere[y].append(num)\n",
    "    return AWhere"
   ]
  },
  {
   "cell_type": "code",
   "execution_count": 119,
   "metadata": {},
   "outputs": [],
   "source": [
    "def getWhereCondition(listItem,AWhere,maxList,minList,Alocs=['A0','A1','A2','A3','A4'],locator='=',locator2='<',locator3 ='>=',locator4 = '>'):\n",
    "    for x in listItem:\n",
    "        for y in range(len(Alocs)):\n",
    "            if Alocs[y] in x:\n",
    "                if locator in x:\n",
    "                    if locator4 not in x:\n",
    "                        loc1 = x.index(locator) + len(locator)\n",
    "                        num = int(x[loc1:])\n",
    "                        AWhere[y].extend([num])\n",
    "                if locator2 in x:\n",
    "                    loc1 = x.index(locator2) + len(locator2)\n",
    "                    num = int(x[loc1:])\n",
    "                    maxList[y].extend([num])\n",
    "                if locator3 in x:\n",
    "                    loc1 = x.index(locator3) + len(locator3)\n",
    "                    num = int(x[loc1:])\n",
    "                    minVal[y].extend([num])\n",
    "    #print(AWhere)\n",
    "    for x in range(len(maxList)):\n",
    "        if len(maxList[x]) != 0:\n",
    "            #print(minList[x],maxList[x])\n",
    "            AWhere[x].extend([y for y in range(minList[x][0],maxList[x][0])])\n",
    "    return AWhere"
   ]
  },
  {
   "cell_type": "code",
   "execution_count": 155,
   "metadata": {},
   "outputs": [],
   "source": [
    "testQueryNames = ['/home/mj1e16/abduction/pwe/jupyterNotebooks/notInPWEenv/qfixQueries_Nrows10_Nqueries10.csv','/home/mj1e16/abduction/pwe/jupyterNotebooks/notInPWEenv/qfixQueries_Nrows10_Nqueries20.csv','/home/mj1e16/abduction/pwe/jupyterNotebooks/notInPWEenv/qfixQueries_Nrows10_Nqueries30.csv']\n",
    "originalSchema = 'id,a0,a1,a2,a3,a4,a5'.upper()"
   ]
  },
  {
   "cell_type": "code",
   "execution_count": 156,
   "metadata": {},
   "outputs": [
    {
     "data": {
      "text/plain": [
       "'/home/mj1e16/abduction/pwe/jupyterNotebooks/notInPWEenv/qfixQueries_Nrows10_Nqueries20.csv'"
      ]
     },
     "execution_count": 156,
     "metadata": {},
     "output_type": "execute_result"
    }
   ],
   "source": [
    "testQueries"
   ]
  },
  {
   "cell_type": "code",
   "execution_count": 157,
   "metadata": {},
   "outputs": [],
   "source": [
    "testQueries = testQueryNames[1]\n",
    "with open(testQueries,'r') as f:\n",
    "    data = f.read()\n",
    "#print(data)    \n",
    "queries = data.split('\\n')\n",
    "#print(queries)"
   ]
  },
  {
   "cell_type": "code",
   "execution_count": 158,
   "metadata": {},
   "outputs": [],
   "source": [
    "whereCom = []\n",
    "setCom = []\n",
    "\n",
    "for x in queries:\n",
    "    clingoString = sql2clingo(x,originalSchema)\n",
    "    if clingoString != 0:\n",
    "        whereCom.append(clingoString[0])\n",
    "        setCom.append(clingoString[1])"
   ]
  },
  {
   "cell_type": "code",
   "execution_count": 159,
   "metadata": {},
   "outputs": [],
   "source": [
    "# fset =set(frozenset(x) for x in whereCom)\n",
    "# wlst = [list(x) for x in fset]"
   ]
  },
  {
   "cell_type": "code",
   "execution_count": 160,
   "metadata": {},
   "outputs": [],
   "source": [
    "# fset =set(frozenset(x) for x in setCom)\n",
    "# slst = [list(x) for x in fset]"
   ]
  },
  {
   "cell_type": "code",
   "execution_count": 161,
   "metadata": {},
   "outputs": [],
   "source": [
    "wlst = whereCom\n",
    "slst = setCom"
   ]
  },
  {
   "cell_type": "code",
   "execution_count": 162,
   "metadata": {},
   "outputs": [],
   "source": [
    "Alocs = ['A0','A1','A2','A3','A4']\n",
    "AWhere = [[],[],[],[],[]]\n",
    "for x in wlst:\n",
    "    for y in x:\n",
    "        for z in range(len(Alocs)):\n",
    "            if Alocs[z] in y:\n",
    "                AWhere[z].append(y)"
   ]
  },
  {
   "cell_type": "code",
   "execution_count": 163,
   "metadata": {},
   "outputs": [],
   "source": [
    "fullVals = []\n",
    "for listItem in slst:\n",
    "    AWhere = [[],[],[],[],[]]\n",
    "    fullVals.append(getSetValue(listItem,AWhere))"
   ]
  },
  {
   "cell_type": "code",
   "execution_count": 164,
   "metadata": {},
   "outputs": [],
   "source": [
    "fullCons = []\n",
    "for listItem in wlst:\n",
    "    AWhere = [[],[],[],[],[]]\n",
    "    maxVal = [[],[],[],[],[]]\n",
    "    minVal = [[],[],[],[],[]]\n",
    "    fullCons.append(getWhereCondition(listItem,AWhere,maxVal,minVal))"
   ]
  },
  {
   "cell_type": "code",
   "execution_count": 165,
   "metadata": {},
   "outputs": [],
   "source": [
    "loopConditions = []\n",
    "loopCon2 = []\n",
    "for i,val in enumerate(fullVals):\n",
    "    loop = [[],[],[],[],[]]\n",
    "    for x in range(len(val)):\n",
    "        if len(val[x]) != 0:\n",
    "            for con in range(len(fullCons)):\n",
    "                if val[x][0] in fullCons[con][x]:\n",
    "#                     print(x)\n",
    "#                     print(len(loop))\n",
    "                    loop[x].append([i,con])\n",
    "                    loopCon2.append([i,con,x])\n",
    "    loopConditions.append(loop)"
   ]
  },
  {
   "cell_type": "code",
   "execution_count": 166,
   "metadata": {},
   "outputs": [
    {
     "name": "stdout",
     "output_type": "stream",
     "text": [
      "[35, 53, 2] ref\n",
      "[53, 35, 2] Match\n",
      "[48, 53, 2] ref\n",
      "[53, 48, 2] Match\n",
      "[53, 35, 2] ref\n",
      "[35, 53, 2] Match\n",
      "[53, 48, 2] ref\n",
      "[48, 53, 2] Match\n",
      "[58, 62, 0] ref\n",
      "[62, 58, 0] Match\n",
      "[58, 75, 0] ref\n",
      "[75, 58, 0] Match\n",
      "[62, 58, 0] ref\n",
      "[58, 62, 0] Match\n",
      "[62, 71, 0] ref\n",
      "[71, 62, 0] Match\n",
      "[62, 62, 4] ref\n",
      "[62, 62, 4] Match\n",
      "[62, 75, 4] ref\n",
      "[75, 62, 4] Match\n",
      "[71, 62, 0] ref\n",
      "[62, 71, 0] Match\n",
      "[71, 75, 0] ref\n",
      "[75, 71, 0] Match\n",
      "[75, 58, 0] ref\n",
      "[58, 75, 0] Match\n",
      "[75, 71, 0] ref\n",
      "[71, 75, 0] Match\n",
      "[75, 62, 4] ref\n",
      "[62, 75, 4] Match\n",
      "[75, 75, 4] ref\n",
      "[75, 75, 4] Match\n"
     ]
    }
   ],
   "source": [
    "matchers = []\n",
    "for x in range(len(loopCon2)):\n",
    "    for y in range(len(loopCon2)):\n",
    "        loopRef = loopCon2[x]\n",
    "        loopMatch = [loopCon2[y][1],loopCon2[y][0],loopCon2[y][2]]\n",
    "        if loopRef == loopMatch:\n",
    "            print(loopRef,'ref')\n",
    "            print(loopCon2[y],'Match')\n",
    "            matchers.append(loopRef)"
   ]
  },
  {
   "cell_type": "code",
   "execution_count": 167,
   "metadata": {
    "scrolled": true
   },
   "outputs": [
    {
     "name": "stdout",
     "output_type": "stream",
     "text": [
      "['A4>=74', 'A4<84', 'A2>=66', 'A2<76'] ['A2=71', 'A1=47']\n",
      "['A4>=20', 'A4<30', 'A2>=60', 'A2<70'] ['A2=62', 'A1=7']\n",
      "\n",
      "['A4>=74', 'A4<84', 'A2>=66', 'A2<76'] ['A2=71', 'A1=47']\n",
      "['A4>=20', 'A4<30', 'A2>=60', 'A2<70'] ['A2=62', 'A1=7']\n",
      "\n",
      "['A4>=20', 'A4<30', 'A2>=60', 'A2<70'] ['A2=62', 'A1=7']\n",
      "['A4>=74', 'A4<84', 'A2>=66', 'A2<76'] ['A2=71', 'A1=47']\n",
      "\n",
      "['A4>=20', 'A4<30', 'A2>=60', 'A2<70'] ['A2=62', 'A1=7']\n",
      "['A4>=74', 'A4<84', 'A2>=66', 'A2<76'] ['A2=71', 'A1=47']\n",
      "\n",
      "['A0>=62', 'A0<72', 'A4>=84', 'A4<91'] ['A0=65', 'A4=60']\n",
      "['A0>=50', 'A0<60', 'A4>=56', 'A4<66'] ['A0=59', 'A4=91']\n",
      "\n",
      "['A0>=62', 'A0<72', 'A4>=84', 'A4<91'] ['A0=65', 'A4=60']\n",
      "['A0>=50', 'A0<60', 'A4>=56', 'A4<66'] ['A0=59', 'A4=91']\n",
      "\n",
      "['A0>=50', 'A0<60', 'A4>=56', 'A4<66'] ['A0=59', 'A4=91']\n",
      "['A0>=62', 'A0<72', 'A4>=84', 'A4<91'] ['A0=65', 'A4=60']\n",
      "\n",
      "['A0>=50', 'A0<60', 'A4>=56', 'A4<66'] ['A0=59', 'A4=91']\n",
      "['A0>=62', 'A0<72', 'A4>=84', 'A4<91'] ['A0=65', 'A4=60']\n",
      "\n",
      "['A0>=50', 'A0<60', 'A4>=56', 'A4<66'] ['A0=65', 'A4=60']\n",
      "['A0>=50', 'A0<60', 'A4>=56', 'A4<66'] ['A0=65', 'A4=60']\n",
      "\n",
      "['A0>=50', 'A0<60', 'A4>=56', 'A4<66'] ['A0=65', 'A4=60']\n",
      "['A0>=50', 'A0<60', 'A4>=56', 'A4<66'] ['A0=65', 'A4=60']\n",
      "\n",
      "['A0>=62', 'A0<72', 'A4>=84', 'A4<91'] ['A0=65', 'A4=60']\n",
      "['A0>=50', 'A0<60', 'A4>=56', 'A4<66'] ['A0=59', 'A4=91']\n",
      "\n",
      "['A0>=62', 'A0<72', 'A4>=84', 'A4<91'] ['A0=65', 'A4=60']\n",
      "['A0>=50', 'A0<60', 'A4>=56', 'A4<66'] ['A0=59', 'A4=91']\n",
      "\n",
      "['A0>=50', 'A0<60', 'A4>=56', 'A4<66'] ['A0=59', 'A4=91']\n",
      "['A0>=62', 'A0<72', 'A4>=84', 'A4<91'] ['A0=65', 'A4=60']\n",
      "\n",
      "['A0>=50', 'A0<60', 'A4>=56', 'A4<66'] ['A0=59', 'A4=91']\n",
      "['A0>=62', 'A0<72', 'A4>=84', 'A4<91'] ['A0=65', 'A4=60']\n",
      "\n",
      "['A0>=50', 'A0<60', 'A4>=56', 'A4<66'] ['A0=65', 'A4=60']\n",
      "['A0>=50', 'A0<60', 'A4>=56', 'A4<66'] ['A0=65', 'A4=60']\n",
      "\n",
      "['A0>=50', 'A0<60', 'A4>=56', 'A4<66'] ['A0=65', 'A4=60']\n",
      "['A0>=50', 'A0<60', 'A4>=56', 'A4<66'] ['A0=65', 'A4=60']\n",
      "\n"
     ]
    }
   ],
   "source": [
    "for x in matchers:\n",
    "    print(wlst[x[0]],slst[x[1]])\n",
    "    print(wlst[x[1]],slst[x[0]])\n",
    "    print('')"
   ]
  },
  {
   "cell_type": "code",
   "execution_count": null,
   "metadata": {},
   "outputs": [],
   "source": []
  }
 ],
 "metadata": {
  "kernelspec": {
   "display_name": "Python 3",
   "language": "python",
   "name": "python3"
  },
  "language_info": {
   "codemirror_mode": {
    "name": "ipython",
    "version": 3
   },
   "file_extension": ".py",
   "mimetype": "text/x-python",
   "name": "python",
   "nbconvert_exporter": "python",
   "pygments_lexer": "ipython3",
   "version": "3.6.9"
  }
 },
 "nbformat": 4,
 "nbformat_minor": 2
}
