{
 "cells": [
  {
   "cell_type": "code",
   "execution_count": 1,
   "metadata": {},
   "outputs": [],
   "source": [
    "from PW_explorer.run_clingo import run_clingo\n",
    "from PW_explorer.load_worlds import load_worlds\n",
    "from PW_explorer.pwe_helper import rel_slicer\n",
    "from PW_explorer.time_series import PWETimeSeriesModule\n",
    "from PW_explorer.pwe_nb_helper import ASPRules\n",
    "from PW_explorer.export import PWEExport\n",
    "from PW_explorer.visualize import PWEVisualization\n",
    "\n",
    "import pandas as pd\n",
    "\n",
    "import networkx as nx\n",
    "import matplotlib.pyplot as plt\n",
    "from nxpd import draw\n",
    "from nxpd import nxpdParams\n",
    "nxpdParams['show'] = 'ipynb'\n",
    "from copy import deepcopy\n",
    "from collections import OrderedDict\n",
    "import random\n",
    "import csv"
   ]
  },
  {
   "cell_type": "code",
   "execution_count": 23,
   "metadata": {},
   "outputs": [],
   "source": [
    "def sql2clingo(sqlCommand,originalSchema,colour='black'):\n",
    "    sql = sqlCommand.replace('\"','')\n",
    "    sqlList = sql.split(' ') \n",
    "    #print(sqlList)\n",
    "    schemaList = originalSchema.split(',')\n",
    "    #print(schemaList)\n",
    "    clingoString = 0\n",
    "    #print(sqlList[0])\n",
    "    if sqlList[0] == 'UPDATE':\n",
    "        sql = sql.replace(' = ','=')\n",
    "        sql = sql.replace(' > ','>')\n",
    "        sql = sql.replace(' < ','<')\n",
    "        sql = sql.replace(' >= ','>=')\n",
    "        sql = sql.replace(' <= ','<=')\n",
    "        sql = sql.replace(',','')\n",
    "        sqlList = sql.split(' ') \n",
    "        setLoc = sqlList.index('SET')\n",
    "        whereLoc = sqlList.index('WHERE')\n",
    "        setCommands = sqlList[setLoc+1:whereLoc]\n",
    "        setCommands = [x.upper() for x in setCommands]\n",
    "        whereCommands = sqlList[whereLoc+1:]\n",
    "        whereCommands = [x.upper() for x in whereCommands if x != 'AND']\n",
    "\n",
    "        return [whereCommands,setCommands]\n",
    "    else:\n",
    "        return 0"
   ]
  },
  {
   "cell_type": "code",
   "execution_count": 13,
   "metadata": {},
   "outputs": [],
   "source": [
    "testQueryNames = ['/home/mj1e16/abduction/pwe/jupyterNotebooks/notInPWEenv/qfixQueries_Nrows10_Nqueries10.csv','/home/mj1e16/abduction/pwe/jupyterNotebooks/notInPWEenv/qfixQueries_Nrows100_Nqueries10.csv','/home/mj1e16/abduction/pwe/jupyterNotebooks/notInPWEenv/qfixQueries_Nrows1000_Nqueries10.csv']\n",
    "originalSchema = 'id,a0,a1,a2,a3,a4,a5'.upper()"
   ]
  },
  {
   "cell_type": "code",
   "execution_count": 14,
   "metadata": {},
   "outputs": [],
   "source": [
    "testQueries = testQueryNames[0]\n",
    "with open(testQueries,'r') as f:\n",
    "    data = f.read()\n",
    "#print(data)    \n",
    "queries = data.split('\\n')\n",
    "#print(queries)"
   ]
  },
  {
   "cell_type": "code",
   "execution_count": 24,
   "metadata": {},
   "outputs": [],
   "source": [
    "whereCom = []\n",
    "setCom = []\n",
    "\n",
    "for x in queries:\n",
    "    clingoString = sql2clingo(x,originalSchema)\n",
    "    if clingoString != 0:\n",
    "        whereCom.append(clingoString[0])\n",
    "        setCom.append(clingoString[1])"
   ]
  },
  {
   "cell_type": "code",
   "execution_count": 25,
   "metadata": {},
   "outputs": [
    {
     "data": {
      "text/plain": [
       "[['A1=3', 'A5=2'],\n",
       " ['A1>=38', 'A1<48', 'A4>=2', 'A4<12'],\n",
       " ['A1=71', 'A5=94'],\n",
       " ['A1>=53', 'A1<63', 'A4>=80', 'A4<90'],\n",
       " ['A1>=22', 'A1<32', 'A4>=72', 'A4<82'],\n",
       " ['A1=68', 'A5=37'],\n",
       " ['A1>=35', 'A1<45', 'A4>=44', 'A4<54'],\n",
       " ['A1=96', 'A5=2'],\n",
       " ['A1>=38', 'A1<48', 'A4>=2', 'A4<12'],\n",
       " ['A1=71', 'A5=94'],\n",
       " ['A1>=53', 'A1<63', 'A4>=80', 'A4<90'],\n",
       " ['A1>=22', 'A1<32', 'A4>=72', 'A4<82'],\n",
       " ['A1=68', 'A5=37'],\n",
       " ['A1>=35', 'A1<45', 'A4>=44', 'A4<54'],\n",
       " ['A4>=24', 'A4<34', 'A2>=3', 'A2<13'],\n",
       " ['A4>=68', 'A4<78', 'A2>=65', 'A2<75'],\n",
       " ['A4>=45', 'A4<55', 'A2>=75', 'A2<85'],\n",
       " ['A4>=51', 'A4<61', 'A2>=83', 'A2<93'],\n",
       " ['A0=70', 'A2=16'],\n",
       " ['A0=96', 'A2=71'],\n",
       " ['A4>=28', 'A4<38', 'A2>=18', 'A2<28'],\n",
       " ['A4>=24', 'A4<34', 'A2>=3', 'A2<13'],\n",
       " ['A1=41', 'A0=20'],\n",
       " ['A4>=68', 'A4<78', 'A2>=65', 'A2<75'],\n",
       " ['A4>=45', 'A4<55', 'A2>=75', 'A2<85'],\n",
       " ['A4>=51', 'A4<61', 'A2>=83', 'A2<93'],\n",
       " ['A0=70', 'A2=16'],\n",
       " ['A0=96', 'A2=71'],\n",
       " ['A4>=28', 'A4<38', 'A2>=18', 'A2<28'],\n",
       " ['A0>=78', 'A0<88', 'A4>=43', 'A4<53'],\n",
       " ['A0>=35', 'A0<45', 'A4>=72', 'A4<82'],\n",
       " ['A0>=12', 'A0<22', 'A4>=19', 'A4<29'],\n",
       " ['A1=51', 'A2=38'],\n",
       " ['A0>=62', 'A0<72', 'A4>=84', 'A4<94'],\n",
       " ['A0>=78', 'A0<88', 'A4>=87', 'A4<97'],\n",
       " ['A0>=75', 'A0<85', 'A4>=52', 'A4<62'],\n",
       " ['A0>=78', 'A0<88', 'A4>=43', 'A4<53'],\n",
       " ['A0>=35', 'A0<45', 'A4>=72', 'A4<82'],\n",
       " ['A0>=12', 'A0<22', 'A4>=19', 'A4<29'],\n",
       " ['A1=51', 'A2=38'],\n",
       " ['A0>=62', 'A0<72', 'A4>=84', 'A4<94'],\n",
       " ['A0>=78', 'A0<88', 'A4>=87', 'A4<97'],\n",
       " ['A0>=75', 'A0<85', 'A4>=52', 'A4<62'],\n",
       " ['A4>=17', 'A4<27', 'A2>=28', 'A2<38'],\n",
       " ['A4>=7', 'A4<17', 'A2>=55', 'A2<65'],\n",
       " ['A4>=8', 'A4<18', 'A2>=85', 'A2<95'],\n",
       " ['A4>=52', 'A4<62', 'A2>=80', 'A2<90'],\n",
       " ['A4>=39', 'A4<49', 'A2>=14', 'A2<24'],\n",
       " ['A1=32', 'A0=56'],\n",
       " ['A1=77', 'A0=62'],\n",
       " ['A4>=17', 'A4<27', 'A2>=28', 'A2<38'],\n",
       " ['A4>=7', 'A4<17', 'A2>=55', 'A2<65'],\n",
       " ['A4>=8', 'A4<18', 'A2>=85', 'A2<95'],\n",
       " ['A4>=52', 'A4<62', 'A2>=80', 'A2<90'],\n",
       " ['A4>=39', 'A4<49', 'A2>=14', 'A2<24'],\n",
       " ['A1=41', 'A0=20'],\n",
       " ['A1=32', 'A0=56'],\n",
       " ['A1=77', 'A0=19']]"
      ]
     },
     "execution_count": 25,
     "metadata": {},
     "output_type": "execute_result"
    }
   ],
   "source": [
    "AWhere = [[],[],[],[],[]]\n",
    "for x in whereCom:\n",
    "    for y in x:\n",
    "        if "
   ]
  },
  {
   "cell_type": "code",
   "execution_count": null,
   "metadata": {},
   "outputs": [],
   "source": []
  }
 ],
 "metadata": {
  "kernelspec": {
   "display_name": "Python 3",
   "language": "python",
   "name": "python3"
  },
  "language_info": {
   "codemirror_mode": {
    "name": "ipython",
    "version": 3
   },
   "file_extension": ".py",
   "mimetype": "text/x-python",
   "name": "python",
   "nbconvert_exporter": "python",
   "pygments_lexer": "ipython3",
   "version": "3.6.9"
  }
 },
 "nbformat": 4,
 "nbformat_minor": 2
}
