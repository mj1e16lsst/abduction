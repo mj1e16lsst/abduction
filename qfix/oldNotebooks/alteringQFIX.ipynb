{
 "cells": [
  {
   "cell_type": "code",
   "execution_count": 58,
   "metadata": {},
   "outputs": [],
   "source": [
    "from PW_explorer.run_clingo import run_clingo\n",
    "from PW_explorer.load_worlds import load_worlds\n",
    "from PW_explorer.pwe_helper import rel_slicer\n",
    "from PW_explorer.time_series import PWETimeSeriesModule\n",
    "from PW_explorer.pwe_nb_helper import ASPRules\n",
    "from PW_explorer.export import PWEExport\n",
    "from PW_explorer.visualize import PWEVisualization\n",
    "\n",
    "import pandas as pd\n",
    "\n",
    "import networkx as nx\n",
    "import matplotlib.pyplot as plt\n",
    "from nxpd import draw\n",
    "from nxpd import nxpdParams\n",
    "nxpdParams['show'] = 'ipynb'\n",
    "from copy import deepcopy\n",
    "from collections import OrderedDict\n",
    "import random\n",
    "import csv\n",
    "import numpy as np"
   ]
  },
  {
   "cell_type": "code",
   "execution_count": 23,
   "metadata": {},
   "outputs": [],
   "source": [
    "def sql2clingo(sqlCommand,originalSchema,colour='black'):\n",
    "    sql = sqlCommand.replace('\"','')\n",
    "    sqlList = sql.split(' ') \n",
    "    #print(sqlList)\n",
    "    schemaList = originalSchema.split(',')\n",
    "    #print(schemaList)\n",
    "    clingoString = 0\n",
    "    #print(sqlList[0])\n",
    "    if sqlList[0] == 'UPDATE':\n",
    "        sql = sql.replace(' = ','=')\n",
    "        sql = sql.replace(' > ','>')\n",
    "        sql = sql.replace(' < ','<')\n",
    "        sql = sql.replace(' >= ','>=')\n",
    "        sql = sql.replace(' <= ','<=')\n",
    "        sql = sql.replace(',','')\n",
    "        sqlList = sql.split(' ') \n",
    "        setLoc = sqlList.index('SET')\n",
    "        whereLoc = sqlList.index('WHERE')\n",
    "        setCommands = sqlList[setLoc+1:whereLoc]\n",
    "        setCommands = [x.upper() for x in setCommands]\n",
    "        whereCommands = sqlList[whereLoc+1:]\n",
    "        whereCommands = [x.upper() for x in whereCommands if x != 'AND']\n",
    "\n",
    "        return [whereCommands,setCommands]\n",
    "    else:\n",
    "        return 0"
   ]
  },
  {
   "cell_type": "code",
   "execution_count": 118,
   "metadata": {},
   "outputs": [],
   "source": [
    "def getSetValue(listItem,AWhere,Alocs=['A0','A1','A2','A3','A4'],locator='='):\n",
    "    for x in listItem:\n",
    "        for y in range(len(Alocs)):\n",
    "            if Alocs[y] in x:\n",
    "                loc1 = x.index(locator) + len(locator)\n",
    "                num = int(x[loc1:])\n",
    "                AWhere[y].append(num)\n",
    "    return AWhere"
   ]
  },
  {
   "cell_type": "code",
   "execution_count": 119,
   "metadata": {},
   "outputs": [],
   "source": [
    "def getWhereCondition(listItem,AWhere,maxList,minList,Alocs=['A0','A1','A2','A3','A4'],locator='=',locator2='<',locator3 ='>=',locator4 = '>'):\n",
    "    for x in listItem:\n",
    "        for y in range(len(Alocs)):\n",
    "            if Alocs[y] in x:\n",
    "                if locator in x:\n",
    "                    if locator4 not in x:\n",
    "                        loc1 = x.index(locator) + len(locator)\n",
    "                        num = int(x[loc1:])\n",
    "                        AWhere[y].extend([num])\n",
    "                if locator2 in x:\n",
    "                    loc1 = x.index(locator2) + len(locator2)\n",
    "                    num = int(x[loc1:])\n",
    "                    maxList[y].extend([num])\n",
    "                if locator3 in x:\n",
    "                    loc1 = x.index(locator3) + len(locator3)\n",
    "                    num = int(x[loc1:])\n",
    "                    minVal[y].extend([num])\n",
    "    #print(AWhere)\n",
    "    for x in range(len(maxList)):\n",
    "        if len(maxList[x]) != 0:\n",
    "            #print(minList[x],maxList[x])\n",
    "            AWhere[x].extend([y for y in range(minList[x][0],maxList[x][0])])\n",
    "    return AWhere"
   ]
  },
  {
   "cell_type": "code",
   "execution_count": 155,
   "metadata": {},
   "outputs": [],
   "source": [
    "testQueryNames = ['/home/mj1e16/abduction/pwe/jupyterNotebooks/notInPWEenv/qfixQueries_Nrows10_Nqueries10.csv','/home/mj1e16/abduction/pwe/jupyterNotebooks/notInPWEenv/qfixQueries_Nrows10_Nqueries20.csv','/home/mj1e16/abduction/pwe/jupyterNotebooks/notInPWEenv/qfixQueries_Nrows10_Nqueries30.csv']\n",
    "originalSchema = 'id,a0,a1,a2,a3,a4,a5'.upper()"
   ]
  },
  {
   "cell_type": "code",
   "execution_count": 156,
   "metadata": {},
   "outputs": [
    {
     "data": {
      "text/plain": [
       "'/home/mj1e16/abduction/pwe/jupyterNotebooks/notInPWEenv/qfixQueries_Nrows10_Nqueries20.csv'"
      ]
     },
     "execution_count": 156,
     "metadata": {},
     "output_type": "execute_result"
    }
   ],
   "source": [
    "testQueries"
   ]
  },
  {
   "cell_type": "code",
   "execution_count": 180,
   "metadata": {},
   "outputs": [],
   "source": [
    "testQueries = testQueryNames[0]\n",
    "with open(testQueries,'r') as f:\n",
    "    data = f.read()\n",
    "#print(data)    \n",
    "queries = data.split('\\n')\n",
    "#print(queries)"
   ]
  },
  {
   "cell_type": "code",
   "execution_count": 181,
   "metadata": {},
   "outputs": [],
   "source": [
    "whereCom = []\n",
    "setCom = []\n",
    "\n",
    "for x in queries:\n",
    "    clingoString = sql2clingo(x,originalSchema)\n",
    "    if clingoString != 0:\n",
    "        whereCom.append(clingoString[0])\n",
    "        setCom.append(clingoString[1])"
   ]
  },
  {
   "cell_type": "code",
   "execution_count": 182,
   "metadata": {},
   "outputs": [],
   "source": [
    "# fset =set(frozenset(x) for x in whereCom)\n",
    "# wlst = [list(x) for x in fset]"
   ]
  },
  {
   "cell_type": "code",
   "execution_count": 183,
   "metadata": {},
   "outputs": [],
   "source": [
    "# fset =set(frozenset(x) for x in setCom)\n",
    "# slst = [list(x) for x in fset]"
   ]
  },
  {
   "cell_type": "code",
   "execution_count": 184,
   "metadata": {},
   "outputs": [],
   "source": [
    "wlst = whereCom\n",
    "slst = setCom"
   ]
  },
  {
   "cell_type": "code",
   "execution_count": 185,
   "metadata": {},
   "outputs": [],
   "source": [
    "Alocs = ['A0','A1','A2','A3','A4']\n",
    "AWhere = [[],[],[],[],[]]\n",
    "for x in wlst:\n",
    "    for y in x:\n",
    "        for z in range(len(Alocs)):\n",
    "            if Alocs[z] in y:\n",
    "                AWhere[z].append(y)"
   ]
  },
  {
   "cell_type": "code",
   "execution_count": 186,
   "metadata": {},
   "outputs": [],
   "source": [
    "fullVals = []\n",
    "for listItem in slst:\n",
    "    AWhere = [[],[],[],[],[]]\n",
    "    fullVals.append(getSetValue(listItem,AWhere))"
   ]
  },
  {
   "cell_type": "code",
   "execution_count": 187,
   "metadata": {},
   "outputs": [],
   "source": [
    "fullCons = []\n",
    "for listItem in wlst:\n",
    "    AWhere = [[],[],[],[],[]]\n",
    "    maxVal = [[],[],[],[],[]]\n",
    "    minVal = [[],[],[],[],[]]\n",
    "    fullCons.append(getWhereCondition(listItem,AWhere,maxVal,minVal))"
   ]
  },
  {
   "cell_type": "code",
   "execution_count": 188,
   "metadata": {},
   "outputs": [],
   "source": [
    "loopConditions = []\n",
    "loopCon2 = []\n",
    "for i,val in enumerate(fullVals):\n",
    "    loop = [[],[],[],[],[]]\n",
    "    for x in range(len(val)):\n",
    "        if len(val[x]) != 0:\n",
    "            for con in range(len(fullCons)):\n",
    "                if val[x][0] in fullCons[con][x]:\n",
    "#                     print(x)\n",
    "#                     print(len(loop))\n",
    "                    loop[x].append([i,con])\n",
    "                    loopCon2.append([i,con,x])\n",
    "    loopConditions.append(loop)"
   ]
  },
  {
   "cell_type": "code",
   "execution_count": 189,
   "metadata": {},
   "outputs": [
    {
     "name": "stdout",
     "output_type": "stream",
     "text": [
      "[1, 1, 1] ref\n",
      "[1, 1, 1] Match\n",
      "[1, 8, 1] ref\n",
      "[8, 1, 1] Match\n",
      "[8, 1, 1] ref\n",
      "[1, 8, 1] Match\n",
      "[8, 8, 1] ref\n",
      "[8, 8, 1] Match\n",
      "[17, 17, 2] ref\n",
      "[17, 17, 2] Match\n",
      "[17, 25, 2] ref\n",
      "[25, 17, 2] Match\n",
      "[25, 17, 2] ref\n",
      "[17, 25, 2] Match\n",
      "[25, 25, 2] ref\n",
      "[25, 25, 2] Match\n",
      "[33, 33, 4] ref\n",
      "[33, 33, 4] Match\n",
      "[33, 40, 4] ref\n",
      "[40, 33, 4] Match\n",
      "[40, 33, 4] ref\n",
      "[33, 40, 4] Match\n",
      "[40, 40, 4] ref\n",
      "[40, 40, 4] Match\n"
     ]
    }
   ],
   "source": [
    "matchers = []\n",
    "for x in range(len(loopCon2)):\n",
    "    for y in range(len(loopCon2)):\n",
    "        loopRef = loopCon2[x]\n",
    "        loopMatch = [loopCon2[y][1],loopCon2[y][0],loopCon2[y][2]]\n",
    "        if loopRef == loopMatch:\n",
    "            print(loopRef,'ref')\n",
    "            print(loopCon2[y],'Match')\n",
    "            matchers.append(loopRef)"
   ]
  },
  {
   "cell_type": "code",
   "execution_count": 190,
   "metadata": {
    "scrolled": true
   },
   "outputs": [
    {
     "name": "stdout",
     "output_type": "stream",
     "text": [
      "['A1>=38', 'A1<48', 'A4>=2', 'A4<12'] ['A1=38', 'A2=21']\n",
      "['A1>=38', 'A1<48', 'A4>=2', 'A4<12'] ['A1=38', 'A2=21']\n",
      "\n",
      "['A1>=38', 'A1<48', 'A4>=2', 'A4<12'] ['A1=38', 'A2=21']\n",
      "['A1>=38', 'A1<48', 'A4>=2', 'A4<12'] ['A1=38', 'A2=21']\n",
      "\n",
      "['A1>=38', 'A1<48', 'A4>=2', 'A4<12'] ['A1=38', 'A2=21']\n",
      "['A1>=38', 'A1<48', 'A4>=2', 'A4<12'] ['A1=38', 'A2=21']\n",
      "\n",
      "['A1>=38', 'A1<48', 'A4>=2', 'A4<12'] ['A1=38', 'A2=21']\n",
      "['A1>=38', 'A1<48', 'A4>=2', 'A4<12'] ['A1=38', 'A2=21']\n",
      "\n",
      "['A4>=51', 'A4<61', 'A2>=83', 'A2<93'] ['A2=90', 'A1=46']\n",
      "['A4>=51', 'A4<61', 'A2>=83', 'A2<93'] ['A2=90', 'A1=46']\n",
      "\n",
      "['A4>=51', 'A4<61', 'A2>=83', 'A2<93'] ['A2=90', 'A1=46']\n",
      "['A4>=51', 'A4<61', 'A2>=83', 'A2<93'] ['A2=90', 'A1=46']\n",
      "\n",
      "['A4>=51', 'A4<61', 'A2>=83', 'A2<93'] ['A2=90', 'A1=46']\n",
      "['A4>=51', 'A4<61', 'A2>=83', 'A2<93'] ['A2=90', 'A1=46']\n",
      "\n",
      "['A4>=51', 'A4<61', 'A2>=83', 'A2<93'] ['A2=90', 'A1=46']\n",
      "['A4>=51', 'A4<61', 'A2>=83', 'A2<93'] ['A2=90', 'A1=46']\n",
      "\n",
      "['A0>=62', 'A0<72', 'A4>=84', 'A4<94'] ['A0=59', 'A4=91']\n",
      "['A0>=62', 'A0<72', 'A4>=84', 'A4<94'] ['A0=59', 'A4=91']\n",
      "\n",
      "['A0>=62', 'A0<72', 'A4>=84', 'A4<94'] ['A0=59', 'A4=91']\n",
      "['A0>=62', 'A0<72', 'A4>=84', 'A4<94'] ['A0=59', 'A4=91']\n",
      "\n",
      "['A0>=62', 'A0<72', 'A4>=84', 'A4<94'] ['A0=59', 'A4=91']\n",
      "['A0>=62', 'A0<72', 'A4>=84', 'A4<94'] ['A0=59', 'A4=91']\n",
      "\n",
      "['A0>=62', 'A0<72', 'A4>=84', 'A4<94'] ['A0=59', 'A4=91']\n",
      "['A0>=62', 'A0<72', 'A4>=84', 'A4<94'] ['A0=59', 'A4=91']\n",
      "\n"
     ]
    }
   ],
   "source": [
    "for x in matchers:\n",
    "    print(wlst[x[0]],slst[x[1]])\n",
    "    print(wlst[x[1]],slst[x[0]])\n",
    "    print('')"
   ]
  },
  {
   "cell_type": "code",
   "execution_count": null,
   "metadata": {},
   "outputs": [],
   "source": []
  },
  {
   "cell_type": "code",
   "execution_count": null,
   "metadata": {},
   "outputs": [],
   "source": []
  }
 ],
 "metadata": {
  "kernelspec": {
   "display_name": "Python 3",
   "language": "python",
   "name": "python3"
  },
  "language_info": {
   "codemirror_mode": {
    "name": "ipython",
    "version": 2
   },
   "file_extension": ".py",
   "mimetype": "text/x-python",
   "name": "python",
   "nbconvert_exporter": "python",
   "pygments_lexer": "ipython2",
   "version": "2.7.12"
  }
 },
 "nbformat": 4,
 "nbformat_minor": 2
}
