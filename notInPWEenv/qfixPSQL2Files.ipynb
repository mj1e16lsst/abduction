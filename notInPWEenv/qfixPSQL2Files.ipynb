{
 "cells": [
  {
   "cell_type": "code",
   "execution_count": 1,
   "metadata": {},
   "outputs": [],
   "source": [
    "import psycopg2\n",
    "import subprocess\n",
    "from psycopg2.extensions import ISOLATION_LEVEL_AUTOCOMMIT"
   ]
  },
  {
   "cell_type": "code",
   "execution_count": 2,
   "metadata": {},
   "outputs": [],
   "source": [
    "hostname = 'localhost'\n",
    "username = 'qfixuser'\n",
    "database = 'qfix'\n",
    "password = 'QFIXDBpassword'"
   ]
  },
  {
   "cell_type": "code",
   "execution_count": 3,
   "metadata": {},
   "outputs": [],
   "source": [
    "def alterConfigFile(numRows,numQueries,configFile='/home/mj1e16/abduction/pwe/testData/qfixNew/qfix_sync/miniconfig.txt'):\n",
    "    N_D = 'N_D: '\n",
    "    N_q = 'N_q: '\n",
    "    endLine = '\\n'\n",
    "    with open(configFile,'r') as f:\n",
    "        data =  f.read()\n",
    "    loc1 = data.find(N_D)\n",
    "    loc2 = data[loc1:].find(endLine) + loc1\n",
    "\n",
    "    dataNew = data[:loc1]+N_D+str(numRows)+data[loc2:]\n",
    "\n",
    "    loc3 = dataNew.find(N_q)\n",
    "    loc4 = dataNew[loc3:].find(endLine) + loc3\n",
    "\n",
    "    dataFinal = dataNew[:loc3]+N_q+str(numQueries)+dataNew[loc4:]\n",
    "    with open(configFile,'w') as f:\n",
    "        f.write(dataFinal)"
   ]
  },
  {
   "cell_type": "code",
   "execution_count": 4,
   "metadata": {},
   "outputs": [],
   "source": [
    "def alterRunCommands(commandFile,commandOut,database):\n",
    "    with open(commandFile,'r') as f:\n",
    "        data = f.read()\n",
    "    dataNew = data.replace('<dbName>',database)\n",
    "    with open(commandOut,'w') as f:\n",
    "        f.write(dataNew)"
   ]
  },
  {
   "cell_type": "code",
   "execution_count": 5,
   "metadata": {},
   "outputs": [],
   "source": [
    "def createDataBase(dbName,hostname='localhost',username='qfixuser',database='qfix',password='QFIXDBpassword'):\n",
    "    myConnection = psycopg2.connect( host=hostname, user=username, password=password, dbname=database )\n",
    "    myConnection.set_isolation_level(ISOLATION_LEVEL_AUTOCOMMIT)\n",
    "    curr = myConnection.cursor()\n",
    "    curr.execute('create database \"{}\";'.format(dbName))\n",
    "    "
   ]
  },
  {
   "cell_type": "code",
   "execution_count": 6,
   "metadata": {},
   "outputs": [],
   "source": [
    "def postgre2CSVQuerys(tableName,fileName,hostname='localhost',username='qfixuser',database='qfix',password='QFIXDBpassword'):\n",
    "    myConnection = psycopg2.connect( host=hostname, user=username, password=password, dbname=database )\n",
    "    curr = myConnection.cursor()\n",
    "    curr.execute('SELECT * FROM {};'.format(tableName))\n",
    "    rows = curr.fetchall()\n",
    "    queryList = []\n",
    "    for row in rows:\n",
    "        queryList.append(row[-1])\n",
    "    queryString = '\\n'.join(queryList)\n",
    "    with open(fileName,'w') as f:\n",
    "        f.write(queryString)"
   ]
  },
  {
   "cell_type": "code",
   "execution_count": 7,
   "metadata": {},
   "outputs": [],
   "source": [
    "def postgre2CSVData(tableName,fileName,hostname='localhost',username='qfixuser',database='qfix',password='QFIXDBpassword'):\n",
    "    myConnection = psycopg2.connect( host=hostname, user=username, password=password, dbname=database )\n",
    "    curr = myConnection.cursor()\n",
    "    curr.execute('SELECT * FROM {};'.format(tableName))\n",
    "    rows = curr.fetchall()\n",
    "    stringRows = [str(x) for x in rows]\n",
    "    queryString = '\\n'.join(stringRows)\n",
    "    with open(fileName,'w') as f:\n",
    "        f.write(queryString)"
   ]
  },
  {
   "cell_type": "code",
   "execution_count": 8,
   "metadata": {},
   "outputs": [],
   "source": [
    "def postgreDropTable(tableName,hostname='localhost',username='qfixuser',database='qfix',password='QFIXDBpassword'):\n",
    "    myConnection = psycopg2.connect( host=hostname, user=username, password=password, dbname=database )\n",
    "    curr = myConnection.cursor()\n",
    "    #for tab in tableNames:\n",
    "    curr.execute('DROP TABLE IF EXISTS {};'.format(tableName))\n",
    "    "
   ]
  },
  {
   "cell_type": "code",
   "execution_count": 15,
   "metadata": {},
   "outputs": [],
   "source": [
    "N_rows = [10,50,100]\n",
    "N_queries = [10,20,30]"
   ]
  },
  {
   "cell_type": "code",
   "execution_count": 16,
   "metadata": {},
   "outputs": [
    {
     "name": "stdout",
     "output_type": "stream",
     "text": [
      "Database already exists\n",
      "Database already exists\n",
      "Database already exists\n",
      "Database already exists\n",
      "Database already exists\n",
      "Database already exists\n",
      "Database already exists\n"
     ]
    }
   ],
   "source": [
    "queryName = []\n",
    "dataName = []\n",
    "for n in N_rows:\n",
    "    for q in N_queries:\n",
    "        try:\n",
    "            dbName = 'qfixedRows{}Queries{}'.format(n,q)\n",
    "            alterConfigFile(n,q)\n",
    "            alterRunCommands('/home/mj1e16/abduction/pwe/testData/qfixNew/qfix_sync/runCommandsBase.sh','/home/mj1e16/abduction/pwe/testData/qfixNew/qfix_sync/runCommands.sh',dbName)\n",
    "            createDataBase(dbName)\n",
    "            subprocess.call(['/home/mj1e16/abduction/pwe/testData/qfixNew/qfix_sync/runCommands.sh'])\n",
    "            postgre2CSVData('synth_1_clean_0','./qfixData_Nrows{}_Nqueries{}.csv'.format(n,q),database=dbName)\n",
    "            postgre2CSVQuerys('qlogs','qfixQueries_Nrows{}_Nqueries{}.csv'.format(n,q),database=dbName)\n",
    "            queryName.append('/home/mj1e16/abduction/pwe/jupyterNotebooks/notInPWEenv/qfixData_Nrows{}_Nqueries{}.csv'.format(n,q))\n",
    "            dataName.append('/home/mj1e16/abduction/pwe/jupyterNotebooks/notInPWEenv/qfixQueries_Nrows{}_Nqueries{}.csv'.format(n,q))\n",
    "        except:\n",
    "            print('Database already exists')"
   ]
  },
  {
   "cell_type": "code",
   "execution_count": 17,
   "metadata": {},
   "outputs": [],
   "source": [
    "queryName = []\n",
    "dataName = []\n",
    "for n in N_rows:\n",
    "    for q in N_queries:\n",
    "        queryName.append('/home/mj1e16/abduction/pwe/jupyterNotebooks/notInPWEenv/qfixData_Nrows{}_Nqueries{}.csv'.format(n,q))\n",
    "        dataName.append('/home/mj1e16/abduction/pwe/jupyterNotebooks/notInPWEenv/qfixQueries_Nrows{}_Nqueries{}.csv'.format(n,q))\n"
   ]
  },
  {
   "cell_type": "code",
   "execution_count": 18,
   "metadata": {},
   "outputs": [
    {
     "name": "stdout",
     "output_type": "stream",
     "text": [
      "['/home/mj1e16/abduction/pwe/jupyterNotebooks/notInPWEenv/qfixData_Nrows10_Nqueries10.csv', '/home/mj1e16/abduction/pwe/jupyterNotebooks/notInPWEenv/qfixData_Nrows10_Nqueries20.csv', '/home/mj1e16/abduction/pwe/jupyterNotebooks/notInPWEenv/qfixData_Nrows10_Nqueries30.csv', '/home/mj1e16/abduction/pwe/jupyterNotebooks/notInPWEenv/qfixData_Nrows50_Nqueries10.csv', '/home/mj1e16/abduction/pwe/jupyterNotebooks/notInPWEenv/qfixData_Nrows50_Nqueries20.csv', '/home/mj1e16/abduction/pwe/jupyterNotebooks/notInPWEenv/qfixData_Nrows50_Nqueries30.csv', '/home/mj1e16/abduction/pwe/jupyterNotebooks/notInPWEenv/qfixData_Nrows100_Nqueries10.csv', '/home/mj1e16/abduction/pwe/jupyterNotebooks/notInPWEenv/qfixData_Nrows100_Nqueries20.csv', '/home/mj1e16/abduction/pwe/jupyterNotebooks/notInPWEenv/qfixData_Nrows100_Nqueries30.csv']\n",
      "['/home/mj1e16/abduction/pwe/jupyterNotebooks/notInPWEenv/qfixQueries_Nrows10_Nqueries10.csv', '/home/mj1e16/abduction/pwe/jupyterNotebooks/notInPWEenv/qfixQueries_Nrows10_Nqueries20.csv', '/home/mj1e16/abduction/pwe/jupyterNotebooks/notInPWEenv/qfixQueries_Nrows10_Nqueries30.csv', '/home/mj1e16/abduction/pwe/jupyterNotebooks/notInPWEenv/qfixQueries_Nrows50_Nqueries10.csv', '/home/mj1e16/abduction/pwe/jupyterNotebooks/notInPWEenv/qfixQueries_Nrows50_Nqueries20.csv', '/home/mj1e16/abduction/pwe/jupyterNotebooks/notInPWEenv/qfixQueries_Nrows50_Nqueries30.csv', '/home/mj1e16/abduction/pwe/jupyterNotebooks/notInPWEenv/qfixQueries_Nrows100_Nqueries10.csv', '/home/mj1e16/abduction/pwe/jupyterNotebooks/notInPWEenv/qfixQueries_Nrows100_Nqueries20.csv', '/home/mj1e16/abduction/pwe/jupyterNotebooks/notInPWEenv/qfixQueries_Nrows100_Nqueries30.csv']\n"
     ]
    }
   ],
   "source": [
    "print(queryName)\n",
    "print(dataName)"
   ]
  },
  {
   "cell_type": "code",
   "execution_count": 24,
   "metadata": {},
   "outputs": [],
   "source": [
    "postgre2CSVData('synth_1_clean_0','./testData_Nrows{}_Nqueries{}.csv'.format(n,N_queries))"
   ]
  },
  {
   "cell_type": "code",
   "execution_count": 26,
   "metadata": {},
   "outputs": [],
   "source": [
    "postgre2CSVQuerys('qlogs','testQueries.csv')"
   ]
  },
  {
   "cell_type": "code",
   "execution_count": null,
   "metadata": {},
   "outputs": [],
   "source": []
  }
 ],
 "metadata": {
  "kernelspec": {
   "display_name": "Python 3",
   "language": "python",
   "name": "python3"
  },
  "language_info": {
   "codemirror_mode": {
    "name": "ipython",
    "version": 2
   },
   "file_extension": ".py",
   "mimetype": "text/x-python",
   "name": "python",
   "nbconvert_exporter": "python",
   "pygments_lexer": "ipython2",
   "version": "2.7.12"
  }
 },
 "nbformat": 4,
 "nbformat_minor": 2
}
