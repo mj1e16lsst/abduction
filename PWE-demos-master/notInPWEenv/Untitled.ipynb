{
 "cells": [
  {
   "cell_type": "code",
   "execution_count": 1,
   "metadata": {},
   "outputs": [],
   "source": [
    "import psycopg2"
   ]
  },
  {
   "cell_type": "code",
   "execution_count": 2,
   "metadata": {},
   "outputs": [],
   "source": [
    "hostname = 'localhost'\n",
    "username = 'qfixuser'\n",
    "database = 'qfix'\n",
    "password = 'QFIXDBpassword'"
   ]
  },
  {
   "cell_type": "code",
   "execution_count": 26,
   "metadata": {},
   "outputs": [],
   "source": [
    "myConnection = psycopg2.connect( host=hostname, user=username, password=password, dbname=database )\n",
    "# doQuery( myConnection )\n",
    "# myConnection.close()"
   ]
  },
  {
   "cell_type": "code",
   "execution_count": 21,
   "metadata": {},
   "outputs": [],
   "source": [
    "curr = myConnection.cursor()\n",
    "curr.execute('SELECT * FROM qlogs;')\n",
    "rows = curr.fetchall()"
   ]
  },
  {
   "cell_type": "code",
   "execution_count": 29,
   "metadata": {},
   "outputs": [],
   "source": [
    "curr = myConnection.cursor()\n",
    "curr.execute('SELECT * FROM synth_1_clean_0;')\n",
    "rows = curr.fetchall()"
   ]
  },
  {
   "cell_type": "code",
   "execution_count": 31,
   "metadata": {},
   "outputs": [],
   "source": [
    "def postgre2CSVQuerys(tableName,fileName,hostname='localhost',username='qfixuser',database='qfix',password='QFIXDBpassword'):\n",
    "    myConnection = psycopg2.connect( host=hostname, user=username, password=password, dbname=database )\n",
    "    curr = myConnection.cursor()\n",
    "    curr.execute('SELECT * FROM {};'.format(tableName))\n",
    "    rows = curr.fetchall()\n",
    "    queryList = []\n",
    "    for row in rows:\n",
    "        queryList.append(row[-1])\n",
    "    queryString = '\\n'.join(queryList)\n",
    "    with open(fileName,'w') as f:\n",
    "        f.write(queryString)"
   ]
  },
  {
   "cell_type": "code",
   "execution_count": null,
   "metadata": {},
   "outputs": [],
   "source": [
    "def postgre2CSVData(tableName,fileName,hostname='localhost',username='qfixuser',database='qfix',password='QFIXDBpassword'):\n",
    "    myConnection = psycopg2.connect( host=hostname, user=username, password=password, dbname=database )\n",
    "    curr = myConnection.cursor()\n",
    "    curr.execute('SELECT * FROM {};'.format(tableName))\n",
    "    rows = curr.fetchall()\n",
    "    queryList = []\n",
    "    for row in rows:\n",
    "        queryList.append(row)\n",
    "    queryString = '\\n'.join(queryList)\n",
    "    with open(fileName,'w') as f:\n",
    "        f.write(queryString)"
   ]
  },
  {
   "cell_type": "code",
   "execution_count": 30,
   "metadata": {},
   "outputs": [
    {
     "name": "stdout",
     "output_type": "stream",
     "text": [
      "(0, 13, 85, 77, 27, 52, 48)\n",
      "(1, 65, 79, 11, 5, 85, 46)\n",
      "(2, 76, 1, 46, 73, 26, 95)\n",
      "(3, 91, 4, 4, 56, 95, 41)\n",
      "(4, 21, 43, 4, 24, 46, 52)\n",
      "(5, 23, 24, 23, 48, 32, 7)\n",
      "(6, 84, 56, 65, 21, 100, 87)\n",
      "(7, 12, 34, 73, 72, 94, 45)\n",
      "(8, 83, 68, 32, 60, 89, 86)\n",
      "(9, 51, 59, 5, 26, 81, 44)\n",
      "(10, 17, 55, 71, 69, 40, 47)\n",
      "(11, 51, 78, 53, 41, 51, 7)\n",
      "(12, 4, 71, 99, 61, 42, 21)\n",
      "(13, 50, 99, 78, 55, 87, 27)\n",
      "(14, 51, 96, 59, 47, 30, 57)\n",
      "(15, 96, 1, 79, 83, 89, 76)\n",
      "(16, 81, 52, 57, 44, 9, 88)\n",
      "(17, 57, 20, 51, 50, 38, 38)\n",
      "(18, 54, 63, 62, 47, 6, 27)\n",
      "(19, 17, 59, 87, 81, 81, 83)\n",
      "(20, 25, 85, 68, 11, 5, 6)\n",
      "(21, 76, 25, 12, 64, 37, 11)\n",
      "(22, 16, 53, 18, 29, 73, 48)\n",
      "(23, 32, 48, 4, 40, 44, 23)\n",
      "(24, 10, 90, 52, 23, 62, 83)\n",
      "(25, 2, 2, 16, 73, 19, 72)\n",
      "(26, 68, 55, 23, 98, 81, 54)\n",
      "(27, 22, 65, 41, 59, 35, 65)\n",
      "(28, 5, 30, 97, 88, 33, 87)\n",
      "(29, 31, 94, 75, 43, 28, 5)\n",
      "(30, 88, 4, 83, 97, 59, 21)\n",
      "(31, 87, 98, 71, 52, 40, 38)\n",
      "(32, 20, 68, 44, 22, 14, 68)\n",
      "(33, 29, 50, 34, 88, 91, 6)\n",
      "(34, 20, 33, 99, 79, 36, 25)\n",
      "(35, 68, 84, 94, 36, 89, 70)\n",
      "(36, 48, 99, 25, 74, 12, 21)\n",
      "(37, 92, 22, 77, 61, 85, 40)\n",
      "(38, 34, 30, 87, 62, 96, 90)\n",
      "(39, 13, 56, 12, 6, 11, 88)\n",
      "(40, 79, 83, 35, 63, 79, 41)\n",
      "(41, 57, 23, 10, 29, 90, 59)\n",
      "(42, 93, 46, 29, 80, 84, 6)\n",
      "(43, 67, 10, 13, 89, 7, 28)\n",
      "(44, 99, 43, 13, 19, 27, 76)\n",
      "(45, 10, 92, 39, 98, 92, 33)\n",
      "(46, 25, 48, 11, 66, 7, 6)\n",
      "(47, 99, 30, 61, 47, 34, 11)\n",
      "(48, 92, 97, 98, 13, 24, 64)\n",
      "(49, 98, 55, 70, 67, 29, 56)\n"
     ]
    }
   ],
   "source": [
    "for row in rows:\n",
    "    print(row)"
   ]
  },
  {
   "cell_type": "code",
   "execution_count": 22,
   "metadata": {},
   "outputs": [
    {
     "ename": "UndefinedObject",
     "evalue": "unrecognized configuration parameter \"tables\"\n",
     "output_type": "error",
     "traceback": [
      "\u001b[0;31m---------------------------------------------------------------------------\u001b[0m",
      "\u001b[0;31mUndefinedObject\u001b[0m                           Traceback (most recent call last)",
      "\u001b[0;32m<ipython-input-22-6e17662c70b7>\u001b[0m in \u001b[0;36m<module>\u001b[0;34m()\u001b[0m\n\u001b[1;32m      1\u001b[0m \u001b[0mcurr\u001b[0m \u001b[0;34m=\u001b[0m \u001b[0mmyConnection\u001b[0m\u001b[0;34m.\u001b[0m\u001b[0mcursor\u001b[0m\u001b[0;34m(\u001b[0m\u001b[0;34m)\u001b[0m\u001b[0;34m\u001b[0m\u001b[0m\n\u001b[0;32m----> 2\u001b[0;31m \u001b[0mcurr\u001b[0m\u001b[0;34m.\u001b[0m\u001b[0mexecute\u001b[0m\u001b[0;34m(\u001b[0m\u001b[0;34m'SHOW TABLES;'\u001b[0m\u001b[0;34m)\u001b[0m\u001b[0;34m\u001b[0m\u001b[0m\n\u001b[0m\u001b[1;32m      3\u001b[0m \u001b[0mrows\u001b[0m \u001b[0;34m=\u001b[0m \u001b[0mcurr\u001b[0m\u001b[0;34m.\u001b[0m\u001b[0mfetchall\u001b[0m\u001b[0;34m(\u001b[0m\u001b[0;34m)\u001b[0m\u001b[0;34m\u001b[0m\u001b[0m\n",
      "\u001b[0;31mUndefinedObject\u001b[0m: unrecognized configuration parameter \"tables\"\n"
     ]
    }
   ],
   "source": [
    "curr = myConnection.cursor()\n",
    "curr.execute('SHOW TABLES;')\n",
    "rows = curr.fetchall()"
   ]
  },
  {
   "cell_type": "code",
   "execution_count": 28,
   "metadata": {},
   "outputs": [
    {
     "name": "stdout",
     "output_type": "stream",
     "text": [
      "('synth_4_clean_7',)\n",
      "('synth_4_clean_8',)\n",
      "('plots',)\n",
      "('synth_4_clean_9',)\n",
      "('synth_4_clean_10',)\n",
      "('synth_4_dirty_0',)\n",
      "('synth_4_dirty_1',)\n",
      "('qlogs',)\n",
      "('synth_4_dirty_2',)\n",
      "('configs',)\n",
      "('exps',)\n",
      "('synth_4_clean_6',)\n",
      "('synth_4_dirty_3',)\n",
      "('synth_4_dirty_4',)\n",
      "('synth_4_dirty_5',)\n",
      "('synth_4_dirty_6',)\n",
      "('synth_1',)\n",
      "('synth_4_dirty_7',)\n",
      "('synth_4_dirty_8',)\n",
      "('synth_4_dirty_9',)\n",
      "('synth_1_clean_0',)\n",
      "('synth_1_clean_1',)\n",
      "('synth_1_clean_2',)\n",
      "('synth_1_clean_3',)\n",
      "('synth_1_clean_4',)\n",
      "('synth_1_clean_5',)\n",
      "('synth_1_clean_6',)\n",
      "('synth_1_clean_7',)\n",
      "('synth_1_clean_8',)\n",
      "('synth_1_clean_9',)\n",
      "('synth_1_clean_10',)\n",
      "('synth_1_dirty_0',)\n",
      "('synth_1_dirty_1',)\n",
      "('synth_1_dirty_2',)\n",
      "('synth_1_dirty_3',)\n",
      "('synth_1_dirty_4',)\n",
      "('synth_1_dirty_5',)\n",
      "('synth_1_dirty_6',)\n",
      "('synth_1_dirty_7',)\n",
      "('synth_1_dirty_8',)\n",
      "('synth_1_dirty_9',)\n",
      "('synth_1_dirty_10',)\n",
      "('synth_2_clean_0',)\n",
      "('synth_2_clean_1',)\n",
      "('synth_2_clean_2',)\n",
      "('synth_2',)\n",
      "('synth_4_dirty_10',)\n",
      "('synth_2_clean_3',)\n",
      "('synth_2_clean_4',)\n",
      "('synth_2_clean_5',)\n",
      "('synth_2_clean_6',)\n",
      "('synth_2_clean_7',)\n",
      "('synth_2_clean_8',)\n",
      "('synth_2_clean_9',)\n",
      "('synth_2_clean_10',)\n",
      "('synth_2_dirty_0',)\n",
      "('synth_2_dirty_1',)\n",
      "('synth_2_dirty_2',)\n",
      "('synth_2_dirty_3',)\n",
      "('synth_2_dirty_4',)\n",
      "('synth_2_dirty_5',)\n",
      "('synth_2_dirty_6',)\n",
      "('synth_2_dirty_7',)\n",
      "('synth_2_dirty_8',)\n",
      "('synth_2_dirty_9',)\n",
      "('synth_2_dirty_10',)\n",
      "('synth_3_clean_0',)\n",
      "('synth_3_clean_1',)\n",
      "('synth_3_clean_2',)\n",
      "('synth_3_clean_3',)\n",
      "('synth_3_clean_4',)\n",
      "('synth_3_clean_5',)\n",
      "('synth_3_clean_6',)\n",
      "('synth_3_clean_7',)\n",
      "('synth_3_clean_8',)\n",
      "('synth_3_clean_9',)\n",
      "('synth_3_clean_10',)\n",
      "('synth_3_dirty_0',)\n",
      "('synth_3_dirty_1',)\n",
      "('synth_3',)\n",
      "('synth_3_dirty_2',)\n",
      "('synth_3_dirty_3',)\n",
      "('synth_3_dirty_4',)\n",
      "('synth_3_dirty_5',)\n",
      "('synth_3_dirty_6',)\n",
      "('synth_3_dirty_7',)\n",
      "('synth_3_dirty_8',)\n",
      "('synth_3_dirty_9',)\n",
      "('synth_3_dirty_10',)\n",
      "('synth_4_clean_0',)\n",
      "('synth_4_clean_1',)\n",
      "('synth_4_clean_2',)\n",
      "('synth_4_clean_3',)\n",
      "('synth_4_clean_4',)\n",
      "('synth_4_clean_5',)\n",
      "('synth_4',)\n"
     ]
    }
   ],
   "source": [
    "curr = myConnection.cursor()\n",
    "curr.execute(\"\"\"SELECT table_name FROM information_schema.tables\n",
    "       WHERE table_schema = 'public'\"\"\")\n",
    "for table in curr.fetchall():\n",
    "    print(table)"
   ]
  },
  {
   "cell_type": "code",
   "execution_count": 9,
   "metadata": {},
   "outputs": [],
   "source": [
    "queryList = []\n",
    "for row in rows:\n",
    "    queryList.append(row[-1])"
   ]
  },
  {
   "cell_type": "code",
   "execution_count": 11,
   "metadata": {},
   "outputs": [],
   "source": [
    "queryString = '\\n'.join(queryList)\n",
    "with open('/home/mj1e16/abduction/pwe/testData/qfixNew/qfix_sync/synth/qlog_New.csv','w') as f:\n",
    "    f.write(queryString)"
   ]
  },
  {
   "cell_type": "code",
   "execution_count": 15,
   "metadata": {},
   "outputs": [
    {
     "name": "stdout",
     "output_type": "stream",
     "text": [
      "(1, 1, 0, 'synth_1_clean_0', 'synth_1_clean_1', 'clean', 'UPDATE', '[]', '[[\"a1\", 95], [\"a2\", 91]]', '[[\"a1\", \"=\", 3], [\"a5\", \"=\", 2]]', 'UPDATE synth_1_clean_0 SET a1 = 95, a2 = 91 WHERE a1 = 3 AND a5 = 2')\n",
      "(2, 1, 1, 'synth_1_clean_1', 'synth_1_clean_2', 'clean', 'UPDATE', '[]', '[[\"a1\", 38], [\"a2\", 21]]', '[[\"a1\", \">=\", 38], [\"a1\", \"<\", 48], [\"a4\", \">=\", 2], [\"a4\", \"<\", 12]]', 'UPDATE synth_1_clean_1 SET a1 = 38, a2 = 21 WHERE a1 >= 38 AND a1 < 48 AND a4 >= 2 AND a4 < 12')\n",
      "(3, 1, 2, 'synth_1_clean_2', 'synth_1_clean_3', 'clean', 'INSERT', '[50, 44, 50, 23, 23, 22, 46]', '[]', '[]', 'INSERT INTO synth_1_clean_2 VALUES(50,44,50,23,23,22,46)')\n",
      "(4, 1, 3, 'synth_1_clean_3', 'synth_1_clean_4', 'clean', 'INSERT', '[51, 2, 84, 56, 64, 18, 100]', '[]', '[]', 'INSERT INTO synth_1_clean_3 VALUES(51,2,84,56,64,18,100)')\n",
      "(5, 1, 4, 'synth_1_clean_4', 'synth_1_clean_5', 'clean', 'UPDATE', '[]', '[[\"a1\", 33], [\"a2\", 72]]', '[[\"a1\", \"=\", 71], [\"a5\", \"=\", 94]]', 'UPDATE synth_1_clean_4 SET a1 = 33, a2 = 72 WHERE a1 = 71 AND a5 = 94')\n",
      "(6, 1, 5, 'synth_1_clean_5', 'synth_1_clean_6', 'clean', 'UPDATE', '[]', '[[\"a1\", 67], [\"a2\", 30]]', '[[\"a1\", \">=\", 53], [\"a1\", \"<\", 63], [\"a4\", \">=\", 80], [\"a4\", \"<\", 90]]', 'UPDATE synth_1_clean_5 SET a1 = 67, a2 = 30 WHERE a1 >= 53 AND a1 < 63 AND a4 >= 80 AND a4 < 90')\n",
      "(7, 1, 6, 'synth_1_clean_6', 'synth_1_clean_7', 'clean', 'UPDATE', '[]', '[[\"a1\", 59], [\"a2\", 3]]', '[[\"a1\", \">=\", 22], [\"a1\", \"<\", 32], [\"a4\", \">=\", 72], [\"a4\", \"<\", 82]]', 'UPDATE synth_1_clean_6 SET a1 = 59, a2 = 3 WHERE a1 >= 22 AND a1 < 32 AND a4 >= 72 AND a4 < 82')\n",
      "(8, 1, 7, 'synth_1_clean_7', 'synth_1_clean_8', 'clean', 'UPDATE', '[]', '[[\"a1\", 55], [\"a2\", 71]]', '[[\"a1\", \"=\", 68], [\"a5\", \"=\", 37]]', 'UPDATE synth_1_clean_7 SET a1 = 55, a2 = 71 WHERE a1 = 68 AND a5 = 37')\n",
      "(9, 1, 8, 'synth_1_clean_8', 'synth_1_clean_9', 'clean', 'UPDATE', '[]', '[[\"a1\", 78], [\"a2\", 52]]', '[[\"a1\", \">=\", 35], [\"a1\", \"<\", 45], [\"a4\", \">=\", 44], [\"a4\", \"<\", 54]]', 'UPDATE synth_1_clean_8 SET a1 = 78, a2 = 52 WHERE a1 >= 35 AND a1 < 45 AND a4 >= 44 AND a4 < 54')\n",
      "(10, 1, 9, 'synth_1_clean_9', 'synth_1_clean_10', 'clean', 'INSERT', '[52, 4, 71, 99, 59, 39, 17]', '[]', '[]', 'INSERT INTO synth_1_clean_9 VALUES(52,4,71,99,59,39,17)')\n",
      "(11, 1, 0, 'synth_1_dirty_0', 'synth_1_dirty_1', 'dirty', 'UPDATE', '[]', '[[\"a1\", 95], [\"a2\", 27]]', '[[\"a1\", \"=\", 96], [\"a5\", \"=\", 2]]', 'UPDATE synth_1_dirty_0 SET a1 = 95, a2 = 27 WHERE a1 = 96 AND a5 = 2')\n",
      "(12, 1, 1, 'synth_1_dirty_1', 'synth_1_dirty_2', 'dirty', 'UPDATE', '[]', '[[\"a1\", 38], [\"a2\", 21]]', '[[\"a1\", \">=\", 38], [\"a1\", \"<\", 48], [\"a4\", \">=\", 2], [\"a4\", \"<\", 12]]', 'UPDATE synth_1_dirty_1 SET a1 = 38, a2 = 21 WHERE a1 >= 38 AND a1 < 48 AND a4 >= 2 AND a4 < 12')\n",
      "(13, 1, 2, 'synth_1_dirty_2', 'synth_1_dirty_3', 'dirty', 'INSERT', '[50, 44, 50, 23, 23, 22, 46]', '[]', '[]', 'INSERT INTO synth_1_dirty_2 VALUES(50,44,50,23,23,22,46)')\n",
      "(14, 1, 3, 'synth_1_dirty_3', 'synth_1_dirty_4', 'dirty', 'INSERT', '[51, 2, 84, 56, 64, 18, 100]', '[]', '[]', 'INSERT INTO synth_1_dirty_3 VALUES(51,2,84,56,64,18,100)')\n",
      "(15, 1, 4, 'synth_1_dirty_4', 'synth_1_dirty_5', 'dirty', 'UPDATE', '[]', '[[\"a1\", 33], [\"a2\", 72]]', '[[\"a1\", \"=\", 71], [\"a5\", \"=\", 94]]', 'UPDATE synth_1_dirty_4 SET a1 = 33, a2 = 72 WHERE a1 = 71 AND a5 = 94')\n",
      "(16, 1, 5, 'synth_1_dirty_5', 'synth_1_dirty_6', 'dirty', 'UPDATE', '[]', '[[\"a1\", 67], [\"a2\", 30]]', '[[\"a1\", \">=\", 53], [\"a1\", \"<\", 63], [\"a4\", \">=\", 80], [\"a4\", \"<\", 90]]', 'UPDATE synth_1_dirty_5 SET a1 = 67, a2 = 30 WHERE a1 >= 53 AND a1 < 63 AND a4 >= 80 AND a4 < 90')\n",
      "(17, 1, 6, 'synth_1_dirty_6', 'synth_1_dirty_7', 'dirty', 'UPDATE', '[]', '[[\"a1\", 59], [\"a2\", 3]]', '[[\"a1\", \">=\", 22], [\"a1\", \"<\", 32], [\"a4\", \">=\", 72], [\"a4\", \"<\", 82]]', 'UPDATE synth_1_dirty_6 SET a1 = 59, a2 = 3 WHERE a1 >= 22 AND a1 < 32 AND a4 >= 72 AND a4 < 82')\n",
      "(18, 1, 7, 'synth_1_dirty_7', 'synth_1_dirty_8', 'dirty', 'UPDATE', '[]', '[[\"a1\", 55], [\"a2\", 71]]', '[[\"a1\", \"=\", 68], [\"a5\", \"=\", 37]]', 'UPDATE synth_1_dirty_7 SET a1 = 55, a2 = 71 WHERE a1 = 68 AND a5 = 37')\n",
      "(19, 1, 8, 'synth_1_dirty_8', 'synth_1_dirty_9', 'dirty', 'UPDATE', '[]', '[[\"a1\", 78], [\"a2\", 52]]', '[[\"a1\", \">=\", 35], [\"a1\", \"<\", 45], [\"a4\", \">=\", 44], [\"a4\", \"<\", 54]]', 'UPDATE synth_1_dirty_8 SET a1 = 78, a2 = 52 WHERE a1 >= 35 AND a1 < 45 AND a4 >= 44 AND a4 < 54')\n",
      "(20, 1, 9, 'synth_1_dirty_9', 'synth_1_dirty_10', 'dirty', 'INSERT', '[52, 4, 71, 99, 59, 39, 17]', '[]', '[]', 'INSERT INTO synth_1_dirty_9 VALUES(52,4,71,99,59,39,17)')\n",
      "(21, 2, 0, 'synth_2_clean_0', 'synth_2_clean_1', 'clean', 'UPDATE', '[]', '[[\"a2\", 54], [\"a1\", 44]]', '[[\"a4\", \">=\", 24], [\"a4\", \"<\", 34], [\"a2\", \">=\", 3], [\"a2\", \"<\", 13]]', 'UPDATE synth_2_clean_0 SET a2 = 54, a1 = 44 WHERE a4 >= 24 AND a4 < 34 AND a2 >= 3 AND a2 < 13')\n",
      "(22, 2, 1, 'synth_2_clean_1', 'synth_2_clean_2', 'clean', 'INSERT', '[50, 46, 32, 38, 90, 53, 56]', '[]', '[]', 'INSERT INTO synth_2_clean_1 VALUES(50,46,32,38,90,53,56)')\n",
      "(23, 2, 2, 'synth_2_clean_2', 'synth_2_clean_3', 'clean', 'INSERT', '[51, 2, 32, 13, 51, 100, 68]', '[]', '[]', 'INSERT INTO synth_2_clean_2 VALUES(51,2,32,13,51,100,68)')\n",
      "(24, 2, 3, 'synth_2_clean_3', 'synth_2_clean_4', 'clean', 'INSERT', '[52, 90, 80, 74, 91, 77, 79]', '[]', '[]', 'INSERT INTO synth_2_clean_3 VALUES(52,90,80,74,91,77,79)')\n",
      "(25, 2, 4, 'synth_2_clean_4', 'synth_2_clean_5', 'clean', 'UPDATE', '[]', '[[\"a2\", 97], [\"a1\", 16]]', '[[\"a4\", \">=\", 68], [\"a4\", \"<\", 78], [\"a2\", \">=\", 65], [\"a2\", \"<\", 75]]', 'UPDATE synth_2_clean_4 SET a2 = 97, a1 = 16 WHERE a4 >= 68 AND a4 < 78 AND a2 >= 65 AND a2 < 75')\n",
      "(26, 2, 5, 'synth_2_clean_5', 'synth_2_clean_6', 'clean', 'UPDATE', '[]', '[[\"a2\", 49], [\"a1\", 93]]', '[[\"a4\", \">=\", 45], [\"a4\", \"<\", 55], [\"a2\", \">=\", 75], [\"a2\", \"<\", 85]]', 'UPDATE synth_2_clean_5 SET a2 = 49, a1 = 93 WHERE a4 >= 45 AND a4 < 55 AND a2 >= 75 AND a2 < 85')\n",
      "(27, 2, 6, 'synth_2_clean_6', 'synth_2_clean_7', 'clean', 'UPDATE', '[]', '[[\"a2\", 90], [\"a1\", 46]]', '[[\"a4\", \">=\", 51], [\"a4\", \"<\", 61], [\"a2\", \">=\", 83], [\"a2\", \"<\", 93]]', 'UPDATE synth_2_clean_6 SET a2 = 90, a1 = 46 WHERE a4 >= 51 AND a4 < 61 AND a2 >= 83 AND a2 < 93')\n",
      "(28, 2, 7, 'synth_2_clean_7', 'synth_2_clean_8', 'clean', 'UPDATE', '[]', '[[\"a2\", 22], [\"a1\", 32]]', '[[\"a0\", \"=\", 70], [\"a2\", \"=\", 16]]', 'UPDATE synth_2_clean_7 SET a2 = 22, a1 = 32 WHERE a0 = 70 AND a2 = 16')\n",
      "(29, 2, 8, 'synth_2_clean_8', 'synth_2_clean_9', 'clean', 'UPDATE', '[]', '[[\"a2\", 92], [\"a1\", 31]]', '[[\"a0\", \"=\", 96], [\"a2\", \"=\", 71]]', 'UPDATE synth_2_clean_8 SET a2 = 92, a1 = 31 WHERE a0 = 96 AND a2 = 71')\n",
      "(30, 2, 9, 'synth_2_clean_9', 'synth_2_clean_10', 'clean', 'UPDATE', '[]', '[[\"a2\", 65], [\"a1\", 59]]', '[[\"a4\", \">=\", 28], [\"a4\", \"<\", 38], [\"a2\", \">=\", 18], [\"a2\", \"<\", 28]]', 'UPDATE synth_2_clean_9 SET a2 = 65, a1 = 59 WHERE a4 >= 28 AND a4 < 38 AND a2 >= 18 AND a2 < 28')\n",
      "(31, 2, 0, 'synth_2_dirty_0', 'synth_2_dirty_1', 'dirty', 'UPDATE', '[]', '[[\"a2\", 54], [\"a1\", 44]]', '[[\"a4\", \">=\", 24], [\"a4\", \"<\", 34], [\"a2\", \">=\", 3], [\"a2\", \"<\", 13]]', 'UPDATE synth_2_dirty_0 SET a2 = 54, a1 = 44 WHERE a4 >= 24 AND a4 < 34 AND a2 >= 3 AND a2 < 13')\n",
      "(32, 2, 1, 'synth_2_dirty_1', 'synth_2_dirty_2', 'dirty', 'INSERT', '[50, 46, 32, 38, 90, 53, 56]', '[]', '[]', 'INSERT INTO synth_2_dirty_1 VALUES(50,46,32,38,90,53,56)')\n",
      "(33, 2, 2, 'synth_2_dirty_2', 'synth_2_dirty_3', 'dirty', 'INSERT', '[51, 2, 32, 10, 51, 100, 68]', '[]', '[]', 'INSERT INTO synth_2_dirty_2 VALUES(51,2,32,10,51,100,68)')\n",
      "(34, 2, 3, 'synth_2_dirty_3', 'synth_2_dirty_4', 'dirty', 'INSERT', '[52, 90, 80, 74, 91, 77, 79]', '[]', '[]', 'INSERT INTO synth_2_dirty_3 VALUES(52,90,80,74,91,77,79)')\n",
      "(67, 4, 6, 'synth_4_clean_6', 'synth_4_clean_7', 'clean', 'UPDATE', '[]', '[[\"a3\", 100], [\"a2\", 19]]', '[[\"a1\", \"=\", 41], [\"a0\", \"=\", 20]]', 'UPDATE synth_4_clean_6 SET a3 = 100, a2 = 19 WHERE a1 = 41 AND a0 = 20')\n",
      "(35, 2, 4, 'synth_2_dirty_4', 'synth_2_dirty_5', 'dirty', 'UPDATE', '[]', '[[\"a2\", 97], [\"a1\", 16]]', '[[\"a4\", \">=\", 68], [\"a4\", \"<\", 78], [\"a2\", \">=\", 65], [\"a2\", \"<\", 75]]', 'UPDATE synth_2_dirty_4 SET a2 = 97, a1 = 16 WHERE a4 >= 68 AND a4 < 78 AND a2 >= 65 AND a2 < 75')\n",
      "(36, 2, 5, 'synth_2_dirty_5', 'synth_2_dirty_6', 'dirty', 'UPDATE', '[]', '[[\"a2\", 49], [\"a1\", 93]]', '[[\"a4\", \">=\", 45], [\"a4\", \"<\", 55], [\"a2\", \">=\", 75], [\"a2\", \"<\", 85]]', 'UPDATE synth_2_dirty_5 SET a2 = 49, a1 = 93 WHERE a4 >= 45 AND a4 < 55 AND a2 >= 75 AND a2 < 85')\n",
      "(37, 2, 6, 'synth_2_dirty_6', 'synth_2_dirty_7', 'dirty', 'UPDATE', '[]', '[[\"a2\", 90], [\"a1\", 46]]', '[[\"a4\", \">=\", 51], [\"a4\", \"<\", 61], [\"a2\", \">=\", 83], [\"a2\", \"<\", 93]]', 'UPDATE synth_2_dirty_6 SET a2 = 90, a1 = 46 WHERE a4 >= 51 AND a4 < 61 AND a2 >= 83 AND a2 < 93')\n",
      "(38, 2, 7, 'synth_2_dirty_7', 'synth_2_dirty_8', 'dirty', 'UPDATE', '[]', '[[\"a2\", 22], [\"a1\", 32]]', '[[\"a0\", \"=\", 70], [\"a2\", \"=\", 16]]', 'UPDATE synth_2_dirty_7 SET a2 = 22, a1 = 32 WHERE a0 = 70 AND a2 = 16')\n",
      "(39, 2, 8, 'synth_2_dirty_8', 'synth_2_dirty_9', 'dirty', 'UPDATE', '[]', '[[\"a2\", 92], [\"a1\", 31]]', '[[\"a0\", \"=\", 96], [\"a2\", \"=\", 71]]', 'UPDATE synth_2_dirty_8 SET a2 = 92, a1 = 31 WHERE a0 = 96 AND a2 = 71')\n",
      "(40, 2, 9, 'synth_2_dirty_9', 'synth_2_dirty_10', 'dirty', 'UPDATE', '[]', '[[\"a2\", 65], [\"a1\", 59]]', '[[\"a4\", \">=\", 28], [\"a4\", \"<\", 38], [\"a2\", \">=\", 18], [\"a2\", \"<\", 28]]', 'UPDATE synth_2_dirty_9 SET a2 = 65, a1 = 59 WHERE a4 >= 28 AND a4 < 38 AND a2 >= 18 AND a2 < 28')\n",
      "(41, 3, 0, 'synth_3_clean_0', 'synth_3_clean_1', 'clean', 'INSERT', '[50, 64, 87, 52, 74, 67, 6]', '[]', '[]', 'INSERT INTO synth_3_clean_0 VALUES(50,64,87,52,74,67,6)')\n",
      "(42, 3, 1, 'synth_3_clean_1', 'synth_3_clean_2', 'clean', 'UPDATE', '[]', '[[\"a0\", 30], [\"a4\", 3]]', '[[\"a0\", \">=\", 78], [\"a0\", \"<\", 88], [\"a4\", \">=\", 43], [\"a4\", \"<\", 53]]', 'UPDATE synth_3_clean_1 SET a0 = 30, a4 = 3 WHERE a0 >= 78 AND a0 < 88 AND a4 >= 43 AND a4 < 53')\n",
      "(43, 3, 2, 'synth_3_clean_2', 'synth_3_clean_3', 'clean', 'UPDATE', '[]', '[[\"a0\", 72], [\"a4\", 93]]', '[[\"a0\", \">=\", 35], [\"a0\", \"<\", 45], [\"a4\", \">=\", 72], [\"a4\", \"<\", 82]]', 'UPDATE synth_3_clean_2 SET a0 = 72, a4 = 93 WHERE a0 >= 35 AND a0 < 45 AND a4 >= 72 AND a4 < 82')\n",
      "(44, 3, 3, 'synth_3_clean_3', 'synth_3_clean_4', 'clean', 'UPDATE', '[]', '[[\"a0\", 88], [\"a4\", 9]]', '[[\"a0\", \">=\", 12], [\"a0\", \"<\", 22], [\"a4\", \">=\", 19], [\"a4\", \"<\", 29]]', 'UPDATE synth_3_clean_3 SET a0 = 88, a4 = 9 WHERE a0 >= 12 AND a0 < 22 AND a4 >= 19 AND a4 < 29')\n",
      "(45, 3, 4, 'synth_3_clean_4', 'synth_3_clean_5', 'clean', 'UPDATE', '[]', '[[\"a0\", 63], [\"a4\", 30]]', '[[\"a1\", \"=\", 51], [\"a2\", \"=\", 38]]', 'UPDATE synth_3_clean_4 SET a0 = 63, a4 = 30 WHERE a1 = 51 AND a2 = 38')\n",
      "(46, 3, 5, 'synth_3_clean_5', 'synth_3_clean_6', 'clean', 'UPDATE', '[]', '[[\"a0\", 59], [\"a4\", 91]]', '[[\"a0\", \">=\", 62], [\"a0\", \"<\", 72], [\"a4\", \">=\", 84], [\"a4\", \"<\", 94]]', 'UPDATE synth_3_clean_5 SET a0 = 59, a4 = 91 WHERE a0 >= 62 AND a0 < 72 AND a4 >= 84 AND a4 < 94')\n",
      "(47, 3, 6, 'synth_3_clean_6', 'synth_3_clean_7', 'clean', 'UPDATE', '[]', '[[\"a0\", 67], [\"a4\", 16]]', '[[\"a0\", \">=\", 78], [\"a0\", \"<\", 88], [\"a4\", \">=\", 87], [\"a4\", \"<\", 97]]', 'UPDATE synth_3_clean_6 SET a0 = 67, a4 = 16 WHERE a0 >= 78 AND a0 < 88 AND a4 >= 87 AND a4 < 97')\n",
      "(48, 3, 7, 'synth_3_clean_7', 'synth_3_clean_8', 'clean', 'UPDATE', '[]', '[[\"a0\", 72], [\"a4\", 21]]', '[[\"a0\", \">=\", 75], [\"a0\", \"<\", 85], [\"a4\", \">=\", 52], [\"a4\", \"<\", 62]]', 'UPDATE synth_3_clean_7 SET a0 = 72, a4 = 21 WHERE a0 >= 75 AND a0 < 85 AND a4 >= 52 AND a4 < 62')\n",
      "(49, 3, 8, 'synth_3_clean_8', 'synth_3_clean_9', 'clean', 'INSERT', '[51, 6, 86, 99, 8, 80, 41]', '[]', '[]', 'INSERT INTO synth_3_clean_8 VALUES(51,6,86,99,8,80,41)')\n",
      "(50, 3, 9, 'synth_3_clean_9', 'synth_3_clean_10', 'clean', 'INSERT', '[52, 29, 77, 88, 4, 62, 4]', '[]', '[]', 'INSERT INTO synth_3_clean_9 VALUES(52,29,77,88,4,62,4)')\n",
      "(51, 3, 0, 'synth_3_dirty_0', 'synth_3_dirty_1', 'dirty', 'INSERT', '[50, 64, 87, 52, 74, 67, 6]', '[]', '[]', 'INSERT INTO synth_3_dirty_0 VALUES(50,64,87,52,74,67,6)')\n",
      "(52, 3, 1, 'synth_3_dirty_1', 'synth_3_dirty_2', 'dirty', 'UPDATE', '[]', '[[\"a0\", 30], [\"a4\", 3]]', '[[\"a0\", \">=\", 78], [\"a0\", \"<\", 88], [\"a4\", \">=\", 43], [\"a4\", \"<\", 53]]', 'UPDATE synth_3_dirty_1 SET a0 = 30, a4 = 3 WHERE a0 >= 78 AND a0 < 88 AND a4 >= 43 AND a4 < 53')\n",
      "(53, 3, 2, 'synth_3_dirty_2', 'synth_3_dirty_3', 'dirty', 'UPDATE', '[]', '[[\"a0\", 72], [\"a4\", 93]]', '[[\"a0\", \">=\", 35], [\"a0\", \"<\", 45], [\"a4\", \">=\", 72], [\"a4\", \"<\", 82]]', 'UPDATE synth_3_dirty_2 SET a0 = 72, a4 = 93 WHERE a0 >= 35 AND a0 < 45 AND a4 >= 72 AND a4 < 82')\n",
      "(54, 3, 3, 'synth_3_dirty_3', 'synth_3_dirty_4', 'dirty', 'UPDATE', '[]', '[[\"a0\", 88], [\"a4\", 9]]', '[[\"a0\", \">=\", 12], [\"a0\", \"<\", 22], [\"a4\", \">=\", 19], [\"a4\", \"<\", 29]]', 'UPDATE synth_3_dirty_3 SET a0 = 88, a4 = 9 WHERE a0 >= 12 AND a0 < 22 AND a4 >= 19 AND a4 < 29')\n",
      "(55, 3, 4, 'synth_3_dirty_4', 'synth_3_dirty_5', 'dirty', 'UPDATE', '[]', '[[\"a0\", 63], [\"a4\", 30]]', '[[\"a1\", \"=\", 51], [\"a2\", \"=\", 38]]', 'UPDATE synth_3_dirty_4 SET a0 = 63, a4 = 30 WHERE a1 = 51 AND a2 = 38')\n",
      "(56, 3, 5, 'synth_3_dirty_5', 'synth_3_dirty_6', 'dirty', 'UPDATE', '[]', '[[\"a0\", 59], [\"a4\", 91]]', '[[\"a0\", \">=\", 62], [\"a0\", \"<\", 72], [\"a4\", \">=\", 84], [\"a4\", \"<\", 94]]', 'UPDATE synth_3_dirty_5 SET a0 = 59, a4 = 91 WHERE a0 >= 62 AND a0 < 72 AND a4 >= 84 AND a4 < 94')\n",
      "(57, 3, 6, 'synth_3_dirty_6', 'synth_3_dirty_7', 'dirty', 'UPDATE', '[]', '[[\"a0\", 67], [\"a4\", 16]]', '[[\"a0\", \">=\", 78], [\"a0\", \"<\", 88], [\"a4\", \">=\", 87], [\"a4\", \"<\", 97]]', 'UPDATE synth_3_dirty_6 SET a0 = 67, a4 = 16 WHERE a0 >= 78 AND a0 < 88 AND a4 >= 87 AND a4 < 97')\n",
      "(58, 3, 7, 'synth_3_dirty_7', 'synth_3_dirty_8', 'dirty', 'UPDATE', '[]', '[[\"a0\", 72], [\"a4\", 21]]', '[[\"a0\", \">=\", 75], [\"a0\", \"<\", 85], [\"a4\", \">=\", 52], [\"a4\", \"<\", 62]]', 'UPDATE synth_3_dirty_7 SET a0 = 72, a4 = 21 WHERE a0 >= 75 AND a0 < 85 AND a4 >= 52 AND a4 < 62')\n",
      "(59, 3, 8, 'synth_3_dirty_8', 'synth_3_dirty_9', 'dirty', 'INSERT', '[51, 6, 86, 4, 8, 80, 41]', '[]', '[]', 'INSERT INTO synth_3_dirty_8 VALUES(51,6,86,4,8,80,41)')\n",
      "(60, 3, 9, 'synth_3_dirty_9', 'synth_3_dirty_10', 'dirty', 'INSERT', '[52, 29, 77, 88, 4, 62, 4]', '[]', '[]', 'INSERT INTO synth_3_dirty_9 VALUES(52,29,77,88,4,62,4)')\n",
      "(61, 4, 0, 'synth_4_clean_0', 'synth_4_clean_1', 'clean', 'UPDATE', '[]', '[[\"a3\", 81], [\"a2\", 80]]', '[[\"a4\", \">=\", 17], [\"a4\", \"<\", 27], [\"a2\", \">=\", 28], [\"a2\", \"<\", 38]]', 'UPDATE synth_4_clean_0 SET a3 = 81, a2 = 80 WHERE a4 >= 17 AND a4 < 27 AND a2 >= 28 AND a2 < 38')\n",
      "(62, 4, 1, 'synth_4_clean_1', 'synth_4_clean_2', 'clean', 'UPDATE', '[]', '[[\"a3\", 86], [\"a2\", 88]]', '[[\"a4\", \">=\", 7], [\"a4\", \"<\", 17], [\"a2\", \">=\", 55], [\"a2\", \"<\", 65]]', 'UPDATE synth_4_clean_1 SET a3 = 86, a2 = 88 WHERE a4 >= 7 AND a4 < 17 AND a2 >= 55 AND a2 < 65')\n",
      "(63, 4, 2, 'synth_4_clean_2', 'synth_4_clean_3', 'clean', 'UPDATE', '[]', '[[\"a3\", 17], [\"a2\", 47]]', '[[\"a4\", \">=\", 8], [\"a4\", \"<\", 18], [\"a2\", \">=\", 85], [\"a2\", \"<\", 95]]', 'UPDATE synth_4_clean_2 SET a3 = 17, a2 = 47 WHERE a4 >= 8 AND a4 < 18 AND a2 >= 85 AND a2 < 95')\n",
      "(64, 4, 3, 'synth_4_clean_3', 'synth_4_clean_4', 'clean', 'UPDATE', '[]', '[[\"a3\", 30], [\"a2\", 91]]', '[[\"a4\", \">=\", 52], [\"a4\", \"<\", 62], [\"a2\", \">=\", 80], [\"a2\", \"<\", 90]]', 'UPDATE synth_4_clean_3 SET a3 = 30, a2 = 91 WHERE a4 >= 52 AND a4 < 62 AND a2 >= 80 AND a2 < 90')\n",
      "(65, 4, 4, 'synth_4_clean_4', 'synth_4_clean_5', 'clean', 'UPDATE', '[]', '[[\"a3\", 41], [\"a2\", 60]]', '[[\"a4\", \">=\", 39], [\"a4\", \"<\", 49], [\"a2\", \">=\", 14], [\"a2\", \"<\", 24]]', 'UPDATE synth_4_clean_4 SET a3 = 41, a2 = 60 WHERE a4 >= 39 AND a4 < 49 AND a2 >= 14 AND a2 < 24')\n",
      "(66, 4, 5, 'synth_4_clean_5', 'synth_4_clean_6', 'clean', 'INSERT', '[50, 82, 4, 4, 63, 28, 53]', '[]', '[]', 'INSERT INTO synth_4_clean_5 VALUES(50,82,4,4,63,28,53)')\n",
      "(68, 4, 7, 'synth_4_clean_7', 'synth_4_clean_8', 'clean', 'UPDATE', '[]', '[[\"a3\", 35], [\"a2\", 75]]', '[[\"a1\", \"=\", 32], [\"a0\", \"=\", 56]]', 'UPDATE synth_4_clean_7 SET a3 = 35, a2 = 75 WHERE a1 = 32 AND a0 = 56')\n",
      "(69, 4, 8, 'synth_4_clean_8', 'synth_4_clean_9', 'clean', 'UPDATE', '[]', '[[\"a3\", 6], [\"a2\", 23]]', '[[\"a1\", \"=\", 77], [\"a0\", \"=\", 62]]', 'UPDATE synth_4_clean_8 SET a3 = 6, a2 = 23 WHERE a1 = 77 AND a0 = 62')\n",
      "(70, 4, 9, 'synth_4_clean_9', 'synth_4_clean_10', 'clean', 'INSERT', '[51, 33, 17, 46, 4, 70, 90]', '[]', '[]', 'INSERT INTO synth_4_clean_9 VALUES(51,33,17,46,4,70,90)')\n",
      "(71, 4, 0, 'synth_4_dirty_0', 'synth_4_dirty_1', 'dirty', 'UPDATE', '[]', '[[\"a3\", 81], [\"a2\", 80]]', '[[\"a4\", \">=\", 17], [\"a4\", \"<\", 27], [\"a2\", \">=\", 28], [\"a2\", \"<\", 38]]', 'UPDATE synth_4_dirty_0 SET a3 = 81, a2 = 80 WHERE a4 >= 17 AND a4 < 27 AND a2 >= 28 AND a2 < 38')\n",
      "(72, 4, 1, 'synth_4_dirty_1', 'synth_4_dirty_2', 'dirty', 'UPDATE', '[]', '[[\"a3\", 86], [\"a2\", 88]]', '[[\"a4\", \">=\", 7], [\"a4\", \"<\", 17], [\"a2\", \">=\", 55], [\"a2\", \"<\", 65]]', 'UPDATE synth_4_dirty_1 SET a3 = 86, a2 = 88 WHERE a4 >= 7 AND a4 < 17 AND a2 >= 55 AND a2 < 65')\n",
      "(73, 4, 2, 'synth_4_dirty_2', 'synth_4_dirty_3', 'dirty', 'UPDATE', '[]', '[[\"a3\", 17], [\"a2\", 47]]', '[[\"a4\", \">=\", 8], [\"a4\", \"<\", 18], [\"a2\", \">=\", 85], [\"a2\", \"<\", 95]]', 'UPDATE synth_4_dirty_2 SET a3 = 17, a2 = 47 WHERE a4 >= 8 AND a4 < 18 AND a2 >= 85 AND a2 < 95')\n",
      "(74, 4, 3, 'synth_4_dirty_3', 'synth_4_dirty_4', 'dirty', 'UPDATE', '[]', '[[\"a3\", 30], [\"a2\", 91]]', '[[\"a4\", \">=\", 52], [\"a4\", \"<\", 62], [\"a2\", \">=\", 80], [\"a2\", \"<\", 90]]', 'UPDATE synth_4_dirty_3 SET a3 = 30, a2 = 91 WHERE a4 >= 52 AND a4 < 62 AND a2 >= 80 AND a2 < 90')\n",
      "(75, 4, 4, 'synth_4_dirty_4', 'synth_4_dirty_5', 'dirty', 'UPDATE', '[]', '[[\"a3\", 41], [\"a2\", 60]]', '[[\"a4\", \">=\", 39], [\"a4\", \"<\", 49], [\"a2\", \">=\", 14], [\"a2\", \"<\", 24]]', 'UPDATE synth_4_dirty_4 SET a3 = 41, a2 = 60 WHERE a4 >= 39 AND a4 < 49 AND a2 >= 14 AND a2 < 24')\n",
      "(76, 4, 5, 'synth_4_dirty_5', 'synth_4_dirty_6', 'dirty', 'INSERT', '[50, 82, 4, 4, 63, 28, 53]', '[]', '[]', 'INSERT INTO synth_4_dirty_5 VALUES(50,82,4,4,63,28,53)')\n",
      "(77, 4, 6, 'synth_4_dirty_6', 'synth_4_dirty_7', 'dirty', 'UPDATE', '[]', '[[\"a3\", 100], [\"a2\", 19]]', '[[\"a1\", \"=\", 41], [\"a0\", \"=\", 20]]', 'UPDATE synth_4_dirty_6 SET a3 = 100, a2 = 19 WHERE a1 = 41 AND a0 = 20')\n",
      "(78, 4, 7, 'synth_4_dirty_7', 'synth_4_dirty_8', 'dirty', 'UPDATE', '[]', '[[\"a3\", 35], [\"a2\", 75]]', '[[\"a1\", \"=\", 32], [\"a0\", \"=\", 56]]', 'UPDATE synth_4_dirty_7 SET a3 = 35, a2 = 75 WHERE a1 = 32 AND a0 = 56')\n",
      "(79, 4, 8, 'synth_4_dirty_8', 'synth_4_dirty_9', 'dirty', 'UPDATE', '[]', '[[\"a3\", 82], [\"a2\", 23]]', '[[\"a1\", \"=\", 77], [\"a0\", \"=\", 19]]', 'UPDATE synth_4_dirty_8 SET a3 = 82, a2 = 23 WHERE a1 = 77 AND a0 = 19')\n",
      "(80, 4, 9, 'synth_4_dirty_9', 'synth_4_dirty_10', 'dirty', 'INSERT', '[51, 33, 17, 46, 4, 70, 90]', '[]', '[]', 'INSERT INTO synth_4_dirty_9 VALUES(51,33,17,46,4,70,90)')\n"
     ]
    }
   ],
   "source": [
    "for x in rows:\n",
    "    print(x)"
   ]
  },
  {
   "cell_type": "code",
   "execution_count": 42,
   "metadata": {},
   "outputs": [
    {
     "ename": "UndefinedTable",
     "evalue": "relation \"qfix\" does not exist\nLINE 1: SELECT * FROM \"qfix\"\n                      ^\n",
     "output_type": "error",
     "traceback": [
      "\u001b[0;31m---------------------------------------------------------------------------\u001b[0m",
      "\u001b[0;31mUndefinedTable\u001b[0m                            Traceback (most recent call last)",
      "\u001b[0;32m<ipython-input-42-03f749f96e37>\u001b[0m in \u001b[0;36m<module>\u001b[0;34m()\u001b[0m\n\u001b[1;32m      1\u001b[0m \u001b[0mcurr\u001b[0m \u001b[0;34m=\u001b[0m \u001b[0mmyConnection\u001b[0m\u001b[0;34m.\u001b[0m\u001b[0mcursor\u001b[0m\u001b[0;34m(\u001b[0m\u001b[0;34m)\u001b[0m\u001b[0;34m\u001b[0m\u001b[0m\n\u001b[0;32m----> 2\u001b[0;31m \u001b[0mcurr\u001b[0m\u001b[0;34m.\u001b[0m\u001b[0mexecute\u001b[0m\u001b[0;34m(\u001b[0m\u001b[0;34m'SELECT * FROM \"qfix\"'\u001b[0m\u001b[0;34m)\u001b[0m\u001b[0;34m\u001b[0m\u001b[0m\n\u001b[0m\u001b[1;32m      3\u001b[0m \u001b[0mrows\u001b[0m \u001b[0;34m=\u001b[0m \u001b[0mcurr\u001b[0m\u001b[0;34m.\u001b[0m\u001b[0mfetchall\u001b[0m\u001b[0;34m(\u001b[0m\u001b[0;34m)\u001b[0m\u001b[0;34m\u001b[0m\u001b[0m\n",
      "\u001b[0;31mUndefinedTable\u001b[0m: relation \"qfix\" does not exist\nLINE 1: SELECT * FROM \"qfix\"\n                      ^\n"
     ]
    }
   ],
   "source": [
    "curr = myConnection.cursor()\n",
    "curr.execute('SELECT * FROM \"qfix\"')\n",
    "rows = curr.fetchall()"
   ]
  },
  {
   "cell_type": "code",
   "execution_count": null,
   "metadata": {},
   "outputs": [],
   "source": [
    "curr = myConnection.cursor()\n",
    "curr.execute(\"SELECT * FROM qlogs\")\n",
    "rows = cur.fetchall()"
   ]
  }
 ],
 "metadata": {
  "kernelspec": {
   "display_name": "Python 3",
   "language": "python",
   "name": "python3"
  },
  "language_info": {
   "codemirror_mode": {
    "name": "ipython",
    "version": 3
   },
   "file_extension": ".py",
   "mimetype": "text/x-python",
   "name": "python",
   "nbconvert_exporter": "python",
   "pygments_lexer": "ipython3",
   "version": "3.6.9"
  }
 },
 "nbformat": 4,
 "nbformat_minor": 2
}
