{
 "cells": [
  {
   "cell_type": "code",
   "execution_count": 1,
   "metadata": {},
   "outputs": [],
   "source": [
    "from PW_explorer.run_clingo import run_clingo\n",
    "from PW_explorer.load_worlds import load_worlds\n",
    "from PW_explorer.pwe_helper import rel_slicer\n",
    "from PW_explorer.time_series import PWETimeSeriesModule\n",
    "from PW_explorer.pwe_nb_helper import ASPRules\n",
    "from PW_explorer.export import PWEExport\n",
    "from PW_explorer.visualize import PWEVisualization\n",
    "\n",
    "import pandas as pd\n",
    "\n",
    "import networkx as nx\n",
    "import matplotlib.pyplot as plt\n",
    "from nxpd import draw\n",
    "from nxpd import nxpdParams\n",
    "nxpdParams['show'] = 'ipynb'\n",
    "from copy import deepcopy"
   ]
  },
  {
   "cell_type": "code",
   "execution_count": 2,
   "metadata": {},
   "outputs": [
    {
     "data": {
      "application/javascript": [
       "IPython.CodeCell.options_default.highlight_modes['prolog'] = {'reg':[/^%%(clingo|dlv)/]};"
      ]
     },
     "metadata": {},
     "output_type": "display_data"
    }
   ],
   "source": [
    "%load_ext PWE_NB_Extension"
   ]
  },
  {
   "cell_type": "code",
   "execution_count": 3,
   "metadata": {},
   "outputs": [],
   "source": [
    "# type brighntess population\n"
   ]
  },
  {
   "cell_type": "code",
   "execution_count": 4,
   "metadata": {},
   "outputs": [],
   "source": [
    "%%dlv --donot-run --donot-display_input -lci edb_instance\n",
    "\n",
    "emp(\"Jones\",   30000, 35, \"Accounting\").\n",
    "emp(\"Miller\",  38000, 29, \"Marketing\").\n",
    "emp(\"Koch\",  2000000, 24, \"IT\").\n",
    "emp(\"Nguyen\",  35000, 42, \"Marketing\").\n",
    "emp(\"Gruber\",  32000, 39, \"IT\").\n",
    "\n",
    "dept(\"IT\",         \"Atlanta\").\n",
    "dept(\"Marketing\",  \"New York\").\n",
    "dept(\"Accounting\", \"Los Angeles\").\n",
    "\n"
   ]
  },
  {
   "cell_type": "code",
   "execution_count": 5,
   "metadata": {},
   "outputs": [],
   "source": [
    "%%dlv --donot-run -lci ebd_instance --donot-display_input\n",
    "\n",
    "emp(\"Sun\",100,1).\n",
    "emp(\"Moon\",10,2).\n",
    "emp(\"Planet\",1,8).\n",
    "\n",
    "limit(1..10).\n",
    "%q(Ename,Emag,Epop,X) :- emp(Ename,Emag,Epop), Epop > limit(X).\n",
    "n(X) :- limit(X).\n",
    "\n"
   ]
  },
  {
   "cell_type": "code",
   "execution_count": 6,
   "metadata": {},
   "outputs": [],
   "source": [
    "%%dlv --donot-run -lci dlv_rules --donot-display_input\n",
    "\n",
    "q(Ename,Emag,Epop,X) :- emp(Ename,Emag,Epop), n(X), Epop > X.\n",
    "\n",
    "\n",
    "%q1(Ename,Emag,Epop,X) :- q(\"Planet\",1,8,X)."
   ]
  },
  {
   "cell_type": "code",
   "execution_count": 7,
   "metadata": {},
   "outputs": [
    {
     "name": "stdout",
     "output_type": "stream",
     "text": [
      "Output:\n"
     ]
    },
    {
     "data": {
      "text/html": [
       "\n",
       "        <style>\n",
       "        .highlight .hll { background-color: #ffffcc }\n",
       ".highlight  { background: #f8f8f8; }\n",
       ".highlight .c { color: #408080; font-style: italic } /* Comment */\n",
       ".highlight .err { border: 1px solid #FF0000 } /* Error */\n",
       ".highlight .k { color: #008000; font-weight: bold } /* Keyword */\n",
       ".highlight .o { color: #666666 } /* Operator */\n",
       ".highlight .ch { color: #408080; font-style: italic } /* Comment.Hashbang */\n",
       ".highlight .cm { color: #408080; font-style: italic } /* Comment.Multiline */\n",
       ".highlight .cp { color: #BC7A00 } /* Comment.Preproc */\n",
       ".highlight .cpf { color: #408080; font-style: italic } /* Comment.PreprocFile */\n",
       ".highlight .c1 { color: #408080; font-style: italic } /* Comment.Single */\n",
       ".highlight .cs { color: #408080; font-style: italic } /* Comment.Special */\n",
       ".highlight .gd { color: #A00000 } /* Generic.Deleted */\n",
       ".highlight .ge { font-style: italic } /* Generic.Emph */\n",
       ".highlight .gr { color: #FF0000 } /* Generic.Error */\n",
       ".highlight .gh { color: #000080; font-weight: bold } /* Generic.Heading */\n",
       ".highlight .gi { color: #00A000 } /* Generic.Inserted */\n",
       ".highlight .go { color: #888888 } /* Generic.Output */\n",
       ".highlight .gp { color: #000080; font-weight: bold } /* Generic.Prompt */\n",
       ".highlight .gs { font-weight: bold } /* Generic.Strong */\n",
       ".highlight .gu { color: #800080; font-weight: bold } /* Generic.Subheading */\n",
       ".highlight .gt { color: #0044DD } /* Generic.Traceback */\n",
       ".highlight .kc { color: #008000; font-weight: bold } /* Keyword.Constant */\n",
       ".highlight .kd { color: #008000; font-weight: bold } /* Keyword.Declaration */\n",
       ".highlight .kn { color: #008000; font-weight: bold } /* Keyword.Namespace */\n",
       ".highlight .kp { color: #008000 } /* Keyword.Pseudo */\n",
       ".highlight .kr { color: #008000; font-weight: bold } /* Keyword.Reserved */\n",
       ".highlight .kt { color: #B00040 } /* Keyword.Type */\n",
       ".highlight .m { color: #666666 } /* Literal.Number */\n",
       ".highlight .s { color: #BA2121 } /* Literal.String */\n",
       ".highlight .na { color: #7D9029 } /* Name.Attribute */\n",
       ".highlight .nb { color: #008000 } /* Name.Builtin */\n",
       ".highlight .nc { color: #0000FF; font-weight: bold } /* Name.Class */\n",
       ".highlight .no { color: #880000 } /* Name.Constant */\n",
       ".highlight .nd { color: #AA22FF } /* Name.Decorator */\n",
       ".highlight .ni { color: #999999; font-weight: bold } /* Name.Entity */\n",
       ".highlight .ne { color: #D2413A; font-weight: bold } /* Name.Exception */\n",
       ".highlight .nf { color: #0000FF } /* Name.Function */\n",
       ".highlight .nl { color: #A0A000 } /* Name.Label */\n",
       ".highlight .nn { color: #0000FF; font-weight: bold } /* Name.Namespace */\n",
       ".highlight .nt { color: #008000; font-weight: bold } /* Name.Tag */\n",
       ".highlight .nv { color: #19177C } /* Name.Variable */\n",
       ".highlight .ow { color: #AA22FF; font-weight: bold } /* Operator.Word */\n",
       ".highlight .w { color: #bbbbbb } /* Text.Whitespace */\n",
       ".highlight .mb { color: #666666 } /* Literal.Number.Bin */\n",
       ".highlight .mf { color: #666666 } /* Literal.Number.Float */\n",
       ".highlight .mh { color: #666666 } /* Literal.Number.Hex */\n",
       ".highlight .mi { color: #666666 } /* Literal.Number.Integer */\n",
       ".highlight .mo { color: #666666 } /* Literal.Number.Oct */\n",
       ".highlight .sa { color: #BA2121 } /* Literal.String.Affix */\n",
       ".highlight .sb { color: #BA2121 } /* Literal.String.Backtick */\n",
       ".highlight .sc { color: #BA2121 } /* Literal.String.Char */\n",
       ".highlight .dl { color: #BA2121 } /* Literal.String.Delimiter */\n",
       ".highlight .sd { color: #BA2121; font-style: italic } /* Literal.String.Doc */\n",
       ".highlight .s2 { color: #BA2121 } /* Literal.String.Double */\n",
       ".highlight .se { color: #BB6622; font-weight: bold } /* Literal.String.Escape */\n",
       ".highlight .sh { color: #BA2121 } /* Literal.String.Heredoc */\n",
       ".highlight .si { color: #BB6688; font-weight: bold } /* Literal.String.Interpol */\n",
       ".highlight .sx { color: #008000 } /* Literal.String.Other */\n",
       ".highlight .sr { color: #BB6688 } /* Literal.String.Regex */\n",
       ".highlight .s1 { color: #BA2121 } /* Literal.String.Single */\n",
       ".highlight .ss { color: #19177C } /* Literal.String.Symbol */\n",
       ".highlight .bp { color: #008000 } /* Name.Builtin.Pseudo */\n",
       ".highlight .fm { color: #0000FF } /* Name.Function.Magic */\n",
       ".highlight .vc { color: #19177C } /* Name.Variable.Class */\n",
       ".highlight .vg { color: #19177C } /* Name.Variable.Global */\n",
       ".highlight .vi { color: #19177C } /* Name.Variable.Instance */\n",
       ".highlight .vm { color: #19177C } /* Name.Variable.Magic */\n",
       ".highlight .il { color: #666666 } /* Literal.Number.Integer.Long */\n",
       "        </style>\n",
       "        "
      ],
      "text/plain": [
       "<IPython.core.display.HTML object>"
      ]
     },
     "metadata": {},
     "output_type": "display_data"
    },
    {
     "data": {
      "text/html": [
       "<div class=\"highlight\"><pre><span></span><span class=\"lineno\">1 </span><span class=\"nv\">True</span><span class=\"s s-Atom\">:</span> <span class=\"p\">{</span><span class=\"nf\">emp</span><span class=\"p\">(</span><span class=\"s2\">&quot;Sun&quot;</span><span class=\"p\">,</span><span class=\"mi\">100</span><span class=\"p\">,</span><span class=\"mi\">1</span><span class=\"p\">),</span> <span class=\"nf\">emp</span><span class=\"p\">(</span><span class=\"s2\">&quot;Moon&quot;</span><span class=\"p\">,</span><span class=\"mi\">10</span><span class=\"p\">,</span><span class=\"mi\">2</span><span class=\"p\">),</span> <span class=\"nf\">emp</span><span class=\"p\">(</span><span class=\"s2\">&quot;Planet&quot;</span><span class=\"p\">,</span><span class=\"mi\">1</span><span class=\"p\">,</span><span class=\"mi\">8</span><span class=\"p\">),</span> <span class=\"nf\">limit</span><span class=\"p\">(</span><span class=\"mi\">1</span><span class=\"p\">),</span> <span class=\"nf\">limit</span><span class=\"p\">(</span><span class=\"mi\">2</span><span class=\"p\">),</span> <span class=\"nf\">limit</span><span class=\"p\">(</span><span class=\"mi\">3</span><span class=\"p\">),</span> <span class=\"nf\">limit</span><span class=\"p\">(</span><span class=\"mi\">4</span><span class=\"p\">),</span> <span class=\"nf\">limit</span><span class=\"p\">(</span><span class=\"mi\">5</span><span class=\"p\">),</span> <span class=\"nf\">limit</span><span class=\"p\">(</span><span class=\"mi\">6</span><span class=\"p\">),</span> <span class=\"nf\">limit</span><span class=\"p\">(</span><span class=\"mi\">7</span><span class=\"p\">),</span> <span class=\"nf\">limit</span><span class=\"p\">(</span><span class=\"mi\">8</span><span class=\"p\">),</span> <span class=\"nf\">limit</span><span class=\"p\">(</span><span class=\"mi\">9</span><span class=\"p\">),</span> <span class=\"nf\">limit</span><span class=\"p\">(</span><span class=\"mi\">10</span><span class=\"p\">),</span> <span class=\"nf\">q</span><span class=\"p\">(</span><span class=\"s2\">&quot;Moon&quot;</span><span class=\"p\">,</span><span class=\"mi\">10</span><span class=\"p\">,</span><span class=\"mi\">2</span><span class=\"p\">,</span><span class=\"mi\">1</span><span class=\"p\">),</span> <span class=\"nf\">q</span><span class=\"p\">(</span><span class=\"s2\">&quot;Planet&quot;</span><span class=\"p\">,</span><span class=\"mi\">1</span><span class=\"p\">,</span><span class=\"mi\">8</span><span class=\"p\">,</span><span class=\"mi\">1</span><span class=\"p\">),</span> <span class=\"nf\">q</span><span class=\"p\">(</span><span class=\"s2\">&quot;Planet&quot;</span><span class=\"p\">,</span><span class=\"mi\">1</span><span class=\"p\">,</span><span class=\"mi\">8</span><span class=\"p\">,</span><span class=\"mi\">2</span><span class=\"p\">),</span> <span class=\"nf\">q</span><span class=\"p\">(</span><span class=\"s2\">&quot;Planet&quot;</span><span class=\"p\">,</span><span class=\"mi\">1</span><span class=\"p\">,</span><span class=\"mi\">8</span><span class=\"p\">,</span><span class=\"mi\">3</span><span class=\"p\">),</span> <span class=\"nf\">q</span><span class=\"p\">(</span><span class=\"s2\">&quot;Planet&quot;</span><span class=\"p\">,</span><span class=\"mi\">1</span><span class=\"p\">,</span><span class=\"mi\">8</span><span class=\"p\">,</span><span class=\"mi\">4</span><span class=\"p\">),</span> <span class=\"nf\">q</span><span class=\"p\">(</span><span class=\"s2\">&quot;Planet&quot;</span><span class=\"p\">,</span><span class=\"mi\">1</span><span class=\"p\">,</span><span class=\"mi\">8</span><span class=\"p\">,</span><span class=\"mi\">5</span><span class=\"p\">),</span> <span class=\"nf\">q</span><span class=\"p\">(</span><span class=\"s2\">&quot;Planet&quot;</span><span class=\"p\">,</span><span class=\"mi\">1</span><span class=\"p\">,</span><span class=\"mi\">8</span><span class=\"p\">,</span><span class=\"mi\">6</span><span class=\"p\">),</span> <span class=\"nf\">q</span><span class=\"p\">(</span><span class=\"s2\">&quot;Planet&quot;</span><span class=\"p\">,</span><span class=\"mi\">1</span><span class=\"p\">,</span><span class=\"mi\">8</span><span class=\"p\">,</span><span class=\"mi\">7</span><span class=\"p\">),</span> <span class=\"nf\">n</span><span class=\"p\">(</span><span class=\"mi\">1</span><span class=\"p\">),</span> <span class=\"nf\">n</span><span class=\"p\">(</span><span class=\"mi\">2</span><span class=\"p\">),</span> <span class=\"nf\">n</span><span class=\"p\">(</span><span class=\"mi\">3</span><span class=\"p\">),</span> <span class=\"nf\">n</span><span class=\"p\">(</span><span class=\"mi\">4</span><span class=\"p\">),</span> <span class=\"nf\">n</span><span class=\"p\">(</span><span class=\"mi\">5</span><span class=\"p\">),</span> <span class=\"nf\">n</span><span class=\"p\">(</span><span class=\"mi\">6</span><span class=\"p\">),</span> <span class=\"nf\">n</span><span class=\"p\">(</span><span class=\"mi\">7</span><span class=\"p\">),</span> <span class=\"nf\">n</span><span class=\"p\">(</span><span class=\"mi\">8</span><span class=\"p\">),</span> <span class=\"nf\">n</span><span class=\"p\">(</span><span class=\"mi\">9</span><span class=\"p\">),</span> <span class=\"nf\">n</span><span class=\"p\">(</span><span class=\"mi\">10</span><span class=\"p\">)}</span>\n",
       "<span class=\"lineno\">2 </span><span class=\"nv\">Undefined</span><span class=\"s s-Atom\">:</span> <span class=\"p\">{}</span>\n",
       "</pre></div>\n"
      ],
      "text/plain": [
       "'True: {emp(\"Sun\",100,1), emp(\"Moon\",10,2), emp(\"Planet\",1,8), limit(1), limit(2), limit(3), limit(4), limit(5), limit(6), limit(7), limit(8), limit(9), limit(10), q(\"Moon\",10,2,1), q(\"Planet\",1,8,1), q(\"Planet\",1,8,2), q(\"Planet\",1,8,3), q(\"Planet\",1,8,4), q(\"Planet\",1,8,5), q(\"Planet\",1,8,6), q(\"Planet\",1,8,7), n(1), n(2), n(3), n(4), n(5), n(6), n(7), n(8), n(9), n(10)}\\nUndefined: {}'"
      ]
     },
     "metadata": {},
     "output_type": "display_data"
    }
   ],
   "source": [
    "%dlv -l dlv_rules ebd_instance -wfs --save_meta_data_to meta_data --saveto dlv_soln --donot-display_input\n"
   ]
  },
  {
   "cell_type": "code",
   "execution_count": 155,
   "metadata": {},
   "outputs": [
    {
     "name": "stdout",
     "output_type": "stream",
     "text": [
      "Output:\n"
     ]
    },
    {
     "data": {
      "text/html": [
       "\n",
       "        <style>\n",
       "        .highlight .hll { background-color: #ffffcc }\n",
       ".highlight  { background: #f8f8f8; }\n",
       ".highlight .c { color: #408080; font-style: italic } /* Comment */\n",
       ".highlight .err { border: 1px solid #FF0000 } /* Error */\n",
       ".highlight .k { color: #008000; font-weight: bold } /* Keyword */\n",
       ".highlight .o { color: #666666 } /* Operator */\n",
       ".highlight .ch { color: #408080; font-style: italic } /* Comment.Hashbang */\n",
       ".highlight .cm { color: #408080; font-style: italic } /* Comment.Multiline */\n",
       ".highlight .cp { color: #BC7A00 } /* Comment.Preproc */\n",
       ".highlight .cpf { color: #408080; font-style: italic } /* Comment.PreprocFile */\n",
       ".highlight .c1 { color: #408080; font-style: italic } /* Comment.Single */\n",
       ".highlight .cs { color: #408080; font-style: italic } /* Comment.Special */\n",
       ".highlight .gd { color: #A00000 } /* Generic.Deleted */\n",
       ".highlight .ge { font-style: italic } /* Generic.Emph */\n",
       ".highlight .gr { color: #FF0000 } /* Generic.Error */\n",
       ".highlight .gh { color: #000080; font-weight: bold } /* Generic.Heading */\n",
       ".highlight .gi { color: #00A000 } /* Generic.Inserted */\n",
       ".highlight .go { color: #888888 } /* Generic.Output */\n",
       ".highlight .gp { color: #000080; font-weight: bold } /* Generic.Prompt */\n",
       ".highlight .gs { font-weight: bold } /* Generic.Strong */\n",
       ".highlight .gu { color: #800080; font-weight: bold } /* Generic.Subheading */\n",
       ".highlight .gt { color: #0044DD } /* Generic.Traceback */\n",
       ".highlight .kc { color: #008000; font-weight: bold } /* Keyword.Constant */\n",
       ".highlight .kd { color: #008000; font-weight: bold } /* Keyword.Declaration */\n",
       ".highlight .kn { color: #008000; font-weight: bold } /* Keyword.Namespace */\n",
       ".highlight .kp { color: #008000 } /* Keyword.Pseudo */\n",
       ".highlight .kr { color: #008000; font-weight: bold } /* Keyword.Reserved */\n",
       ".highlight .kt { color: #B00040 } /* Keyword.Type */\n",
       ".highlight .m { color: #666666 } /* Literal.Number */\n",
       ".highlight .s { color: #BA2121 } /* Literal.String */\n",
       ".highlight .na { color: #7D9029 } /* Name.Attribute */\n",
       ".highlight .nb { color: #008000 } /* Name.Builtin */\n",
       ".highlight .nc { color: #0000FF; font-weight: bold } /* Name.Class */\n",
       ".highlight .no { color: #880000 } /* Name.Constant */\n",
       ".highlight .nd { color: #AA22FF } /* Name.Decorator */\n",
       ".highlight .ni { color: #999999; font-weight: bold } /* Name.Entity */\n",
       ".highlight .ne { color: #D2413A; font-weight: bold } /* Name.Exception */\n",
       ".highlight .nf { color: #0000FF } /* Name.Function */\n",
       ".highlight .nl { color: #A0A000 } /* Name.Label */\n",
       ".highlight .nn { color: #0000FF; font-weight: bold } /* Name.Namespace */\n",
       ".highlight .nt { color: #008000; font-weight: bold } /* Name.Tag */\n",
       ".highlight .nv { color: #19177C } /* Name.Variable */\n",
       ".highlight .ow { color: #AA22FF; font-weight: bold } /* Operator.Word */\n",
       ".highlight .w { color: #bbbbbb } /* Text.Whitespace */\n",
       ".highlight .mb { color: #666666 } /* Literal.Number.Bin */\n",
       ".highlight .mf { color: #666666 } /* Literal.Number.Float */\n",
       ".highlight .mh { color: #666666 } /* Literal.Number.Hex */\n",
       ".highlight .mi { color: #666666 } /* Literal.Number.Integer */\n",
       ".highlight .mo { color: #666666 } /* Literal.Number.Oct */\n",
       ".highlight .sa { color: #BA2121 } /* Literal.String.Affix */\n",
       ".highlight .sb { color: #BA2121 } /* Literal.String.Backtick */\n",
       ".highlight .sc { color: #BA2121 } /* Literal.String.Char */\n",
       ".highlight .dl { color: #BA2121 } /* Literal.String.Delimiter */\n",
       ".highlight .sd { color: #BA2121; font-style: italic } /* Literal.String.Doc */\n",
       ".highlight .s2 { color: #BA2121 } /* Literal.String.Double */\n",
       ".highlight .se { color: #BB6622; font-weight: bold } /* Literal.String.Escape */\n",
       ".highlight .sh { color: #BA2121 } /* Literal.String.Heredoc */\n",
       ".highlight .si { color: #BB6688; font-weight: bold } /* Literal.String.Interpol */\n",
       ".highlight .sx { color: #008000 } /* Literal.String.Other */\n",
       ".highlight .sr { color: #BB6688 } /* Literal.String.Regex */\n",
       ".highlight .s1 { color: #BA2121 } /* Literal.String.Single */\n",
       ".highlight .ss { color: #19177C } /* Literal.String.Symbol */\n",
       ".highlight .bp { color: #008000 } /* Name.Builtin.Pseudo */\n",
       ".highlight .fm { color: #0000FF } /* Name.Function.Magic */\n",
       ".highlight .vc { color: #19177C } /* Name.Variable.Class */\n",
       ".highlight .vg { color: #19177C } /* Name.Variable.Global */\n",
       ".highlight .vi { color: #19177C } /* Name.Variable.Instance */\n",
       ".highlight .vm { color: #19177C } /* Name.Variable.Magic */\n",
       ".highlight .il { color: #666666 } /* Literal.Number.Integer.Long */\n",
       "        </style>\n",
       "        "
      ],
      "text/plain": [
       "<IPython.core.display.HTML object>"
      ]
     },
     "metadata": {},
     "output_type": "display_data"
    },
    {
     "data": {
      "text/html": [
       "<div class=\"highlight\"><pre><span></span><span class=\"lineno\">1 </span><span class=\"nv\">True</span><span class=\"s s-Atom\">:</span> <span class=\"p\">{</span><span class=\"nf\">emp</span><span class=\"p\">(</span><span class=\"s2\">&quot;Sun&quot;</span><span class=\"p\">,</span><span class=\"mi\">100</span><span class=\"p\">,</span><span class=\"mi\">1</span><span class=\"p\">),</span> <span class=\"nf\">emp</span><span class=\"p\">(</span><span class=\"s2\">&quot;Moon&quot;</span><span class=\"p\">,</span><span class=\"mi\">10</span><span class=\"p\">,</span><span class=\"mi\">2</span><span class=\"p\">),</span> <span class=\"nf\">emp</span><span class=\"p\">(</span><span class=\"s2\">&quot;Planet&quot;</span><span class=\"p\">,</span><span class=\"mi\">1</span><span class=\"p\">,</span><span class=\"mi\">8</span><span class=\"p\">),</span> <span class=\"nf\">limit</span><span class=\"p\">(</span><span class=\"mi\">1</span><span class=\"p\">),</span> <span class=\"nf\">limit</span><span class=\"p\">(</span><span class=\"mi\">2</span><span class=\"p\">),</span> <span class=\"nf\">limit</span><span class=\"p\">(</span><span class=\"mi\">3</span><span class=\"p\">),</span> <span class=\"nf\">limit</span><span class=\"p\">(</span><span class=\"mi\">4</span><span class=\"p\">),</span> <span class=\"nf\">limit</span><span class=\"p\">(</span><span class=\"mi\">5</span><span class=\"p\">),</span> <span class=\"nf\">limit</span><span class=\"p\">(</span><span class=\"mi\">6</span><span class=\"p\">),</span> <span class=\"nf\">limit</span><span class=\"p\">(</span><span class=\"mi\">7</span><span class=\"p\">),</span> <span class=\"nf\">limit</span><span class=\"p\">(</span><span class=\"mi\">8</span><span class=\"p\">),</span> <span class=\"nf\">limit</span><span class=\"p\">(</span><span class=\"mi\">9</span><span class=\"p\">),</span> <span class=\"nf\">limit</span><span class=\"p\">(</span><span class=\"mi\">10</span><span class=\"p\">),</span> <span class=\"nf\">n</span><span class=\"p\">(</span><span class=\"mi\">1</span><span class=\"p\">),</span> <span class=\"nf\">n</span><span class=\"p\">(</span><span class=\"mi\">2</span><span class=\"p\">),</span> <span class=\"nf\">n</span><span class=\"p\">(</span><span class=\"mi\">3</span><span class=\"p\">),</span> <span class=\"nf\">n</span><span class=\"p\">(</span><span class=\"mi\">4</span><span class=\"p\">),</span> <span class=\"nf\">n</span><span class=\"p\">(</span><span class=\"mi\">5</span><span class=\"p\">),</span> <span class=\"nf\">n</span><span class=\"p\">(</span><span class=\"mi\">6</span><span class=\"p\">),</span> <span class=\"nf\">n</span><span class=\"p\">(</span><span class=\"mi\">7</span><span class=\"p\">),</span> <span class=\"nf\">n</span><span class=\"p\">(</span><span class=\"mi\">8</span><span class=\"p\">),</span> <span class=\"nf\">n</span><span class=\"p\">(</span><span class=\"mi\">9</span><span class=\"p\">),</span> <span class=\"nf\">n</span><span class=\"p\">(</span><span class=\"mi\">10</span><span class=\"p\">)}</span>\n",
       "<span class=\"lineno\">2 </span><span class=\"nv\">Undefined</span><span class=\"s s-Atom\">:</span> <span class=\"p\">{}</span>\n",
       "</pre></div>\n"
      ],
      "text/plain": [
       "'True: {emp(\"Sun\",100,1), emp(\"Moon\",10,2), emp(\"Planet\",1,8), limit(1), limit(2), limit(3), limit(4), limit(5), limit(6), limit(7), limit(8), limit(9), limit(10), n(1), n(2), n(3), n(4), n(5), n(6), n(7), n(8), n(9), n(10)}\\nUndefined: {}'"
      ]
     },
     "metadata": {},
     "output_type": "display_data"
    }
   ],
   "source": [
    "%dlv -l ebd_instance -wfs --save_meta_data_to meta_data --saveto dlv_soln --donot-display_input\n"
   ]
  },
  {
   "cell_type": "code",
   "execution_count": 24,
   "metadata": {},
   "outputs": [],
   "source": [
    "%%dlv --donot-run -lci ebd_instance --donot-display_input\n",
    "\n",
    "data(\"Sun\",100,1).\n",
    "data(\"Sun\",1000,10).\n",
    "data(\"Moon\",10,2).\n",
    "data(\"Planet\",1,8).\n",
    "\n",
    "limit(1..10).\n",
    "n(X) :- limit(X).\n"
   ]
  },
  {
   "cell_type": "code",
   "execution_count": 27,
   "metadata": {},
   "outputs": [],
   "source": [
    "%%dlv --donot-run -lci dlv_rules --donot-display_input\n",
    "\n",
    "%q(Ename,Emag,Epop,X) :- data(Ename,Emag,Epop), n(X), Epop > X.\n",
    "\n",
    "q2(U,V,W) :- data(U,V,W), U = \"Sun\", .\n",
    "%q1(Ename,Emag,Epop,X) :- q(\"Planet\",1,8,X)."
   ]
  },
  {
   "cell_type": "code",
   "execution_count": 28,
   "metadata": {},
   "outputs": [
    {
     "name": "stdout",
     "output_type": "stream",
     "text": [
      "Output:\n"
     ]
    },
    {
     "data": {
      "text/html": [
       "\n",
       "        <style>\n",
       "        .highlight .hll { background-color: #ffffcc }\n",
       ".highlight  { background: #f8f8f8; }\n",
       ".highlight .c { color: #408080; font-style: italic } /* Comment */\n",
       ".highlight .err { border: 1px solid #FF0000 } /* Error */\n",
       ".highlight .k { color: #008000; font-weight: bold } /* Keyword */\n",
       ".highlight .o { color: #666666 } /* Operator */\n",
       ".highlight .ch { color: #408080; font-style: italic } /* Comment.Hashbang */\n",
       ".highlight .cm { color: #408080; font-style: italic } /* Comment.Multiline */\n",
       ".highlight .cp { color: #BC7A00 } /* Comment.Preproc */\n",
       ".highlight .cpf { color: #408080; font-style: italic } /* Comment.PreprocFile */\n",
       ".highlight .c1 { color: #408080; font-style: italic } /* Comment.Single */\n",
       ".highlight .cs { color: #408080; font-style: italic } /* Comment.Special */\n",
       ".highlight .gd { color: #A00000 } /* Generic.Deleted */\n",
       ".highlight .ge { font-style: italic } /* Generic.Emph */\n",
       ".highlight .gr { color: #FF0000 } /* Generic.Error */\n",
       ".highlight .gh { color: #000080; font-weight: bold } /* Generic.Heading */\n",
       ".highlight .gi { color: #00A000 } /* Generic.Inserted */\n",
       ".highlight .go { color: #888888 } /* Generic.Output */\n",
       ".highlight .gp { color: #000080; font-weight: bold } /* Generic.Prompt */\n",
       ".highlight .gs { font-weight: bold } /* Generic.Strong */\n",
       ".highlight .gu { color: #800080; font-weight: bold } /* Generic.Subheading */\n",
       ".highlight .gt { color: #0044DD } /* Generic.Traceback */\n",
       ".highlight .kc { color: #008000; font-weight: bold } /* Keyword.Constant */\n",
       ".highlight .kd { color: #008000; font-weight: bold } /* Keyword.Declaration */\n",
       ".highlight .kn { color: #008000; font-weight: bold } /* Keyword.Namespace */\n",
       ".highlight .kp { color: #008000 } /* Keyword.Pseudo */\n",
       ".highlight .kr { color: #008000; font-weight: bold } /* Keyword.Reserved */\n",
       ".highlight .kt { color: #B00040 } /* Keyword.Type */\n",
       ".highlight .m { color: #666666 } /* Literal.Number */\n",
       ".highlight .s { color: #BA2121 } /* Literal.String */\n",
       ".highlight .na { color: #7D9029 } /* Name.Attribute */\n",
       ".highlight .nb { color: #008000 } /* Name.Builtin */\n",
       ".highlight .nc { color: #0000FF; font-weight: bold } /* Name.Class */\n",
       ".highlight .no { color: #880000 } /* Name.Constant */\n",
       ".highlight .nd { color: #AA22FF } /* Name.Decorator */\n",
       ".highlight .ni { color: #999999; font-weight: bold } /* Name.Entity */\n",
       ".highlight .ne { color: #D2413A; font-weight: bold } /* Name.Exception */\n",
       ".highlight .nf { color: #0000FF } /* Name.Function */\n",
       ".highlight .nl { color: #A0A000 } /* Name.Label */\n",
       ".highlight .nn { color: #0000FF; font-weight: bold } /* Name.Namespace */\n",
       ".highlight .nt { color: #008000; font-weight: bold } /* Name.Tag */\n",
       ".highlight .nv { color: #19177C } /* Name.Variable */\n",
       ".highlight .ow { color: #AA22FF; font-weight: bold } /* Operator.Word */\n",
       ".highlight .w { color: #bbbbbb } /* Text.Whitespace */\n",
       ".highlight .mb { color: #666666 } /* Literal.Number.Bin */\n",
       ".highlight .mf { color: #666666 } /* Literal.Number.Float */\n",
       ".highlight .mh { color: #666666 } /* Literal.Number.Hex */\n",
       ".highlight .mi { color: #666666 } /* Literal.Number.Integer */\n",
       ".highlight .mo { color: #666666 } /* Literal.Number.Oct */\n",
       ".highlight .sa { color: #BA2121 } /* Literal.String.Affix */\n",
       ".highlight .sb { color: #BA2121 } /* Literal.String.Backtick */\n",
       ".highlight .sc { color: #BA2121 } /* Literal.String.Char */\n",
       ".highlight .dl { color: #BA2121 } /* Literal.String.Delimiter */\n",
       ".highlight .sd { color: #BA2121; font-style: italic } /* Literal.String.Doc */\n",
       ".highlight .s2 { color: #BA2121 } /* Literal.String.Double */\n",
       ".highlight .se { color: #BB6622; font-weight: bold } /* Literal.String.Escape */\n",
       ".highlight .sh { color: #BA2121 } /* Literal.String.Heredoc */\n",
       ".highlight .si { color: #BB6688; font-weight: bold } /* Literal.String.Interpol */\n",
       ".highlight .sx { color: #008000 } /* Literal.String.Other */\n",
       ".highlight .sr { color: #BB6688 } /* Literal.String.Regex */\n",
       ".highlight .s1 { color: #BA2121 } /* Literal.String.Single */\n",
       ".highlight .ss { color: #19177C } /* Literal.String.Symbol */\n",
       ".highlight .bp { color: #008000 } /* Name.Builtin.Pseudo */\n",
       ".highlight .fm { color: #0000FF } /* Name.Function.Magic */\n",
       ".highlight .vc { color: #19177C } /* Name.Variable.Class */\n",
       ".highlight .vg { color: #19177C } /* Name.Variable.Global */\n",
       ".highlight .vi { color: #19177C } /* Name.Variable.Instance */\n",
       ".highlight .vm { color: #19177C } /* Name.Variable.Magic */\n",
       ".highlight .il { color: #666666 } /* Literal.Number.Integer.Long */\n",
       "        </style>\n",
       "        "
      ],
      "text/plain": [
       "<IPython.core.display.HTML object>"
      ]
     },
     "metadata": {},
     "output_type": "display_data"
    },
    {
     "data": {
      "text/html": [
       "<div class=\"highlight\"><pre><span></span><span class=\"lineno\">1 </span><span class=\"nv\">True</span><span class=\"s s-Atom\">:</span> <span class=\"p\">{</span><span class=\"nf\">data</span><span class=\"p\">(</span><span class=\"s2\">&quot;Sun&quot;</span><span class=\"p\">,</span><span class=\"mi\">100</span><span class=\"p\">,</span><span class=\"mi\">1</span><span class=\"p\">),</span> <span class=\"nf\">data</span><span class=\"p\">(</span><span class=\"s2\">&quot;Sun&quot;</span><span class=\"p\">,</span><span class=\"mi\">1000</span><span class=\"p\">,</span><span class=\"mi\">10</span><span class=\"p\">),</span> <span class=\"nf\">data</span><span class=\"p\">(</span><span class=\"s2\">&quot;Moon&quot;</span><span class=\"p\">,</span><span class=\"mi\">10</span><span class=\"p\">,</span><span class=\"mi\">2</span><span class=\"p\">),</span> <span class=\"nf\">data</span><span class=\"p\">(</span><span class=\"s2\">&quot;Planet&quot;</span><span class=\"p\">,</span><span class=\"mi\">1</span><span class=\"p\">,</span><span class=\"mi\">8</span><span class=\"p\">),</span> <span class=\"nf\">limit</span><span class=\"p\">(</span><span class=\"mi\">1</span><span class=\"p\">),</span> <span class=\"nf\">limit</span><span class=\"p\">(</span><span class=\"mi\">2</span><span class=\"p\">),</span> <span class=\"nf\">limit</span><span class=\"p\">(</span><span class=\"mi\">3</span><span class=\"p\">),</span> <span class=\"nf\">limit</span><span class=\"p\">(</span><span class=\"mi\">4</span><span class=\"p\">),</span> <span class=\"nf\">limit</span><span class=\"p\">(</span><span class=\"mi\">5</span><span class=\"p\">),</span> <span class=\"nf\">limit</span><span class=\"p\">(</span><span class=\"mi\">6</span><span class=\"p\">),</span> <span class=\"nf\">limit</span><span class=\"p\">(</span><span class=\"mi\">7</span><span class=\"p\">),</span> <span class=\"nf\">limit</span><span class=\"p\">(</span><span class=\"mi\">8</span><span class=\"p\">),</span> <span class=\"nf\">limit</span><span class=\"p\">(</span><span class=\"mi\">9</span><span class=\"p\">),</span> <span class=\"nf\">limit</span><span class=\"p\">(</span><span class=\"mi\">10</span><span class=\"p\">),</span> <span class=\"nf\">q2</span><span class=\"p\">(</span><span class=\"s2\">&quot;Sun&quot;</span><span class=\"p\">,</span><span class=\"mi\">100</span><span class=\"p\">,</span><span class=\"mi\">1</span><span class=\"p\">),</span> <span class=\"nf\">q2</span><span class=\"p\">(</span><span class=\"s2\">&quot;Sun&quot;</span><span class=\"p\">,</span><span class=\"mi\">1000</span><span class=\"p\">,</span><span class=\"mi\">10</span><span class=\"p\">),</span> <span class=\"nf\">n</span><span class=\"p\">(</span><span class=\"mi\">1</span><span class=\"p\">),</span> <span class=\"nf\">n</span><span class=\"p\">(</span><span class=\"mi\">2</span><span class=\"p\">),</span> <span class=\"nf\">n</span><span class=\"p\">(</span><span class=\"mi\">3</span><span class=\"p\">),</span> <span class=\"nf\">n</span><span class=\"p\">(</span><span class=\"mi\">4</span><span class=\"p\">),</span> <span class=\"nf\">n</span><span class=\"p\">(</span><span class=\"mi\">5</span><span class=\"p\">),</span> <span class=\"nf\">n</span><span class=\"p\">(</span><span class=\"mi\">6</span><span class=\"p\">),</span> <span class=\"nf\">n</span><span class=\"p\">(</span><span class=\"mi\">7</span><span class=\"p\">),</span> <span class=\"nf\">n</span><span class=\"p\">(</span><span class=\"mi\">8</span><span class=\"p\">),</span> <span class=\"nf\">n</span><span class=\"p\">(</span><span class=\"mi\">9</span><span class=\"p\">),</span> <span class=\"nf\">n</span><span class=\"p\">(</span><span class=\"mi\">10</span><span class=\"p\">)}</span>\n",
       "<span class=\"lineno\">2 </span><span class=\"nv\">Undefined</span><span class=\"s s-Atom\">:</span> <span class=\"p\">{}</span>\n",
       "</pre></div>\n"
      ],
      "text/plain": [
       "'True: {data(\"Sun\",100,1), data(\"Sun\",1000,10), data(\"Moon\",10,2), data(\"Planet\",1,8), limit(1), limit(2), limit(3), limit(4), limit(5), limit(6), limit(7), limit(8), limit(9), limit(10), q2(\"Sun\",100,1), q2(\"Sun\",1000,10), n(1), n(2), n(3), n(4), n(5), n(6), n(7), n(8), n(9), n(10)}\\nUndefined: {}'"
      ]
     },
     "metadata": {},
     "output_type": "display_data"
    }
   ],
   "source": [
    "%dlv -l dlv_rules ebd_instance -wfs --save_meta_data_to meta_data --saveto dlv_soln --donot-display_input\n"
   ]
  },
  {
   "cell_type": "code",
   "execution_count": null,
   "metadata": {},
   "outputs": [],
   "source": [
    "%%clingo --donot-run --donot-display_input -lci hamming_gv_rules\n",
    "hamming_gv(X,Y,green) :- hamming(X,Y,2).\n",
    "hamming_gv(X,Y,blue) :- hamming(X,Y,3).\n",
    "hamming_gv(X,Y,red) :- hamming(X,Y,5).\n",
    "\n",
    "%graphviz graph graph_type=directed rankdir=LR\n",
    "%graphviz edge hamming_gv(TAIL,HEAD,_) color=$3"
   ]
  },
  {
   "cell_type": "code",
   "execution_count": 4,
   "metadata": {},
   "outputs": [],
   "source": [
    "def makeOriginal(dataValues,colour='black'):\n",
    "    clingoStart = ''\n",
    "    for x in dataValues:\n",
    "        clingoStart += 'data('+','.join(x)\n",
    "        clingoStart += ',black).'\n",
    "        clingoStart += ('\\n')\n",
    "    return clingoStart"
   ]
  },
  {
   "cell_type": "code",
   "execution_count": 5,
   "metadata": {},
   "outputs": [
    {
     "name": "stdout",
     "output_type": "stream",
     "text": [
      "data(\"Sun\",\"big\",1,black).\n",
      "data(\"Planet\",\"medium\",8,black).\n",
      "data(\"Moon\",\"small\",2,black).\n",
      "\n"
     ]
    }
   ],
   "source": [
    "dataValues = [['\"Sun\"','\"big\"','1'],['\"Planet\"','\"medium\"','8'],['\"Moon\"','\"small\"','2']]\n",
    "\n",
    "print(makeOriginal(dataValues))"
   ]
  },
  {
   "cell_type": "code",
   "execution_count": 12,
   "metadata": {},
   "outputs": [],
   "source": [
    "def makeSelect(dataValues,colour='orange'):\n",
    "    # max one item select, update to multiple later\n",
    "    clingoStart = ''\n",
    "    variables = [chr(65+x) for x in range(len(dataValues[0]))]\n",
    "    variString = ','.join(variables)\n",
    "    print(variString)\n",
    "    print(dataValues)\n",
    "    for dataVal in dataValues:\n",
    "        for y in range(len(dataVal)):\n",
    "            clingoStart += 'data('+variString+','+colour+') :- data('+variString+',_), '+variables[y]+'='+dataVal[y]+'.\\n' \n",
    "        \n",
    "    return clingoStart"
   ]
  },
  {
   "cell_type": "code",
   "execution_count": 53,
   "metadata": {},
   "outputs": [],
   "source": [
    "def makeSelect(dataValues,colour='orange'):\n",
    "    clingoStart = ''\n",
    "    variables = [chr(65+x) for x in range(len(dataValues[0]))]  # doesn't work for over 26 variables but easy to fix\n",
    "    clingoStart = ''\n",
    "    variString = ','.join(variables)\n",
    "    for dataVal in dataValues:\n",
    "        for x in range(len(variables)):\n",
    "            for y in range(len(dataVal)):\n",
    "                start = y\n",
    "                end = y+x+1\n",
    "                if end > len(variables):\n",
    "                    end += -len(variables)-1\n",
    "                    templistvar = variables[end:end+1]\n",
    "                    templistvar.extend(variables[start:])\n",
    "                    templistdataVal = dataVal[end:end+1]\n",
    "                    templistdataVal.extend(dataVal[start:])\n",
    "                else:\n",
    "                    templistvar = variables[start:end]\n",
    "                    templistdataVal = dataVal[start:end]\n",
    "                listcomp = [v+'='+d+'.' for v,d in zip(templistvar,templistdataVal)]\n",
    "                #print(\"\".join(listcomp))\n",
    "                finalString = \"\".join(listcomp)\n",
    "                clingoStart += 'data('+variString+','+colour+') :- data('+variString+',_), '+finalString+'\\n' \n",
    "    return clingoStart"
   ]
  },
  {
   "cell_type": "code",
   "execution_count": 49,
   "metadata": {},
   "outputs": [
    {
     "name": "stdout",
     "output_type": "stream",
     "text": [
      "A=\"Sun\".\n",
      "B=\"big\".\n",
      "C=1.\n",
      "A=\"Sun\".B=\"big\".\n",
      "B=\"big\".C=1.\n",
      "A=\"Sun\".C=1.\n",
      "A=\"Sun\".B=\"big\".C=1.\n",
      "A=\"Sun\".B=\"big\".C=1.\n",
      "B=\"big\".C=1.\n",
      "\n"
     ]
    }
   ],
   "source": [
    "variables = ['A','B','C']\n",
    "dataVal = ['\"Sun\"', '\"big\"', '1']\n",
    "#for x in range(len(dataValues)):\n",
    "#for y in range(len(dataValues)):\n",
    "#variableBit = [x+'='+y+'.\\n' for x,y in zip(variString,dataValues)]\n",
    "clingoStart = ''\n",
    "for x in range(len(variables)):\n",
    "    for y in range(len(dataVal)):\n",
    "        start = y\n",
    "        end = y+x+1\n",
    "        if end > len(variables):\n",
    "            end += -len(variables)-1\n",
    "            templistvar = variables[end:end+1]\n",
    "            templistvar.extend(variables[start:])\n",
    "            templistdataVal = dataVal[end:end+1]\n",
    "            templistdataVal.extend(dataVal[start:])\n",
    "#             print(start,end)\n",
    "#             print(templistvar)\n",
    "#             print(templistdataVal)\n",
    "        else:\n",
    "            templistvar = variables[start:end]\n",
    "            templistdataVal = dataVal[start:end]\n",
    "        listcomp = [v+'='+d+'.' for v,d in zip(templistvar,templistdataVal)]\n",
    "        #print(\"\".join(listcomp))\n",
    "        finalString = \"\".join(listcomp)\n",
    "        clingoStart += 'data('+variString+','+colour+') :- data('+variString+',_), '+finalString+'\\n' \n",
    "print(clingoStart)"
   ]
  },
  {
   "cell_type": "code",
   "execution_count": 36,
   "metadata": {},
   "outputs": [
    {
     "name": "stdout",
     "output_type": "stream",
     "text": [
      "['A']\n"
     ]
    }
   ],
   "source": [
    "print(variables[0:1])"
   ]
  },
  {
   "cell_type": "code",
   "execution_count": 54,
   "metadata": {},
   "outputs": [
    {
     "name": "stdout",
     "output_type": "stream",
     "text": [
      "data(A,B,C,orange) :- data(A,B,C,_), A=\"Sun\".\n",
      "data(A,B,C,orange) :- data(A,B,C,_), B=\"big\".\n",
      "data(A,B,C,orange) :- data(A,B,C,_), C=1.\n",
      "data(A,B,C,orange) :- data(A,B,C,_), A=\"Sun\".B=\"big\".\n",
      "data(A,B,C,orange) :- data(A,B,C,_), B=\"big\".C=1.\n",
      "data(A,B,C,orange) :- data(A,B,C,_), A=\"Sun\".C=1.\n",
      "data(A,B,C,orange) :- data(A,B,C,_), A=\"Sun\".B=\"big\".C=1.\n",
      "data(A,B,C,orange) :- data(A,B,C,_), A=\"Sun\".B=\"big\".C=1.\n",
      "data(A,B,C,orange) :- data(A,B,C,_), B=\"big\".C=1.\n",
      "data(A,B,C,orange) :- data(A,B,C,_), A=\"Planet\".\n",
      "data(A,B,C,orange) :- data(A,B,C,_), B=\"medium\".\n",
      "data(A,B,C,orange) :- data(A,B,C,_), C=8.\n",
      "data(A,B,C,orange) :- data(A,B,C,_), A=\"Planet\".B=\"medium\".\n",
      "data(A,B,C,orange) :- data(A,B,C,_), B=\"medium\".C=8.\n",
      "data(A,B,C,orange) :- data(A,B,C,_), A=\"Planet\".C=8.\n",
      "data(A,B,C,orange) :- data(A,B,C,_), A=\"Planet\".B=\"medium\".C=8.\n",
      "data(A,B,C,orange) :- data(A,B,C,_), A=\"Planet\".B=\"medium\".C=8.\n",
      "data(A,B,C,orange) :- data(A,B,C,_), B=\"medium\".C=8.\n",
      "data(A,B,C,orange) :- data(A,B,C,_), A=\"Moon\".\n",
      "data(A,B,C,orange) :- data(A,B,C,_), B=\"small\".\n",
      "data(A,B,C,orange) :- data(A,B,C,_), C=2.\n",
      "data(A,B,C,orange) :- data(A,B,C,_), A=\"Moon\".B=\"small\".\n",
      "data(A,B,C,orange) :- data(A,B,C,_), B=\"small\".C=2.\n",
      "data(A,B,C,orange) :- data(A,B,C,_), A=\"Moon\".C=2.\n",
      "data(A,B,C,orange) :- data(A,B,C,_), A=\"Moon\".B=\"small\".C=2.\n",
      "data(A,B,C,orange) :- data(A,B,C,_), A=\"Moon\".B=\"small\".C=2.\n",
      "data(A,B,C,orange) :- data(A,B,C,_), B=\"small\".C=2.\n",
      "\n"
     ]
    }
   ],
   "source": [
    "dataValues = [['\"Sun\"','\"big\"','1'],['\"Planet\"','\"medium\"','8'],['\"Moon\"','\"small\"','2']]\n",
    "\n",
    "print(makeSelect(dataValues))"
   ]
  },
  {
   "cell_type": "code",
   "execution_count": 99,
   "metadata": {},
   "outputs": [],
   "source": [
    "def makeProject(dataValues,colour='red'):\n",
    "    # right now only removes one column, remove N-1 later\n",
    "    clingoStart = ''\n",
    "    variables = [chr(65+x) for x in range(len(dataValues[0]))] # doesn't work for over 26 variables but easy to fix\n",
    "    variString = ','.join(variables)\n",
    "    for loop in range(len(variables)-1):\n",
    "        for x in range(len(variables)):\n",
    "            newVariables = [x for x in variables]\n",
    "            otherNewVariables = [x for x in variables]\n",
    "            start = x\n",
    "            end = x + loop +1\n",
    "            if end > len(variables)-1:\n",
    "                end += - len(variables)\n",
    "                donotRemove = [val for val in range(end,start)]\n",
    "                removeKeys = [val for val in range(len(variables)) if val not in donotRemove]\n",
    "            else:\n",
    "                removeKeys = [val for val in range(start,end)]\n",
    "\n",
    "            for remove in removeKeys:\n",
    "                newVariables[remove] = '_'\n",
    "                otherNewVariables[remove] = '\"\"'\n",
    "            newVariString = ','.join(newVariables)\n",
    "            otherNewVariString = ','.join(otherNewVariables)\n",
    "            clingoStart += 'data('+otherNewVariString+','+colour+') :- data('+newVariString+',_).\\n' \n",
    "\n",
    "    return clingoStart"
   ]
  },
  {
   "cell_type": "code",
   "execution_count": 58,
   "metadata": {},
   "outputs": [
    {
     "name": "stdout",
     "output_type": "stream",
     "text": [
      "DH\n"
     ]
    }
   ],
   "source": [
    "x = 150\n",
    "string = ''\n",
    "\n",
    "while x > 90:\n",
    "    x += - 26\n",
    "    z += 1\n",
    "string += chr(65+z)\n",
    "string += chr(x) \n",
    "print(string)"
   ]
  },
  {
   "cell_type": "code",
   "execution_count": 64,
   "metadata": {},
   "outputs": [
    {
     "name": "stdout",
     "output_type": "stream",
     "text": [
      "[3, 4, 5, 6, 7, 8, 9, 10, 11, 12, 13, 14]\n"
     ]
    }
   ],
   "source": [
    "x = [y for y in range(3,15)]\n",
    "print(x)"
   ]
  },
  {
   "cell_type": "code",
   "execution_count": 100,
   "metadata": {},
   "outputs": [
    {
     "name": "stdout",
     "output_type": "stream",
     "text": [
      "data(\"\",B,C,red) :- data(_,B,C,_).\n",
      "data(A,\"\",C,red) :- data(A,_,C,_).\n",
      "data(A,B,\"\",red) :- data(A,B,_,_).\n",
      "data(\"\",\"\",C,red) :- data(_,_,C,_).\n",
      "data(A,\"\",\"\",red) :- data(A,_,_,_).\n",
      "data(\"\",B,\"\",red) :- data(_,B,_,_).\n",
      "\n"
     ]
    }
   ],
   "source": [
    "print(makeProject(dataValues))"
   ]
  },
  {
   "cell_type": "code",
   "execution_count": null,
   "metadata": {},
   "outputs": [],
   "source": [
    "def makeJoin():\n",
    "    "
   ]
  },
  {
   "cell_type": "code",
   "execution_count": null,
   "metadata": {},
   "outputs": [],
   "source": [
    "data(X,Y,'',colour) :- data(X,Y,_,_)"
   ]
  },
  {
   "cell_type": "code",
   "execution_count": 266,
   "metadata": {},
   "outputs": [
    {
     "ename": "AttributeError",
     "evalue": "'list' object has no attribute 'replace'",
     "output_type": "error",
     "traceback": [
      "\u001b[0;31m---------------------------------------------------------------------------\u001b[0m",
      "\u001b[0;31mAttributeError\u001b[0m                            Traceback (most recent call last)",
      "\u001b[0;32m<ipython-input-266-64387aaf0505>\u001b[0m in \u001b[0;36m<module>\u001b[0;34m\u001b[0m\n\u001b[1;32m      1\u001b[0m \u001b[0mtemlist\u001b[0m \u001b[0;34m=\u001b[0m \u001b[0;34m[\u001b[0m\u001b[0;36m0\u001b[0m\u001b[0;34m,\u001b[0m\u001b[0;36m1\u001b[0m\u001b[0;34m]\u001b[0m\u001b[0;34m\u001b[0m\u001b[0;34m\u001b[0m\u001b[0m\n\u001b[1;32m      2\u001b[0m \u001b[0mnewtemlist\u001b[0m \u001b[0;34m=\u001b[0m \u001b[0;34m[\u001b[0m\u001b[0mx\u001b[0m \u001b[0;32mfor\u001b[0m \u001b[0mx\u001b[0m \u001b[0;32min\u001b[0m \u001b[0mtemlist\u001b[0m\u001b[0;34m]\u001b[0m\u001b[0;34m\u001b[0m\u001b[0;34m\u001b[0m\u001b[0m\n\u001b[0;32m----> 3\u001b[0;31m \u001b[0mnewtemlist\u001b[0m\u001b[0;34m.\u001b[0m\u001b[0mreplace\u001b[0m\u001b[0;34m(\u001b[0m\u001b[0;36m0\u001b[0m\u001b[0;34m,\u001b[0m\u001b[0;34m'zebra'\u001b[0m\u001b[0;34m)\u001b[0m\u001b[0;34m\u001b[0m\u001b[0;34m\u001b[0m\u001b[0m\n\u001b[0m\u001b[1;32m      4\u001b[0m \u001b[0mprint\u001b[0m\u001b[0;34m(\u001b[0m\u001b[0mtemlist\u001b[0m\u001b[0;34m,\u001b[0m\u001b[0mnewtemlist\u001b[0m\u001b[0;34m)\u001b[0m\u001b[0;34m\u001b[0m\u001b[0;34m\u001b[0m\u001b[0m\n",
      "\u001b[0;31mAttributeError\u001b[0m: 'list' object has no attribute 'replace'"
     ]
    }
   ],
   "source": [
    "temlist = [0,1]\n",
    "newtemlist = [x for x in temlist]\n",
    "newtemlist.replace(0,'zebra')\n",
    "print(temlist,newtemlist)"
   ]
  },
  {
   "cell_type": "code",
   "execution_count": 224,
   "metadata": {},
   "outputs": [
    {
     "name": "stdout",
     "output_type": "stream",
     "text": [
      "data(\"Sun\",\"big\",1,black)\n",
      "data(\"Planet\",\"medium\",8,black)\n",
      "data(\"Moon\",\"small\",2,black)\n",
      "\n"
     ]
    }
   ],
   "source": [
    "\n",
    "clingoStart = ''\n",
    "for x in dataValues:\n",
    "    clingoStart += 'data('\n",
    "    for y in x:\n",
    "        clingoStart += str(y)+','\n",
    "    clingoStart = clingoStart[:-1]\n",
    "    clingoStart += ')'\n",
    "    clingoStart += ('\\n')\n",
    "    \n",
    "print(clingoStart)"
   ]
  },
  {
   "cell_type": "code",
   "execution_count": null,
   "metadata": {},
   "outputs": [],
   "source": [
    "for x in dataValues:\n",
    "    "
   ]
  },
  {
   "cell_type": "code",
   "execution_count": 202,
   "metadata": {},
   "outputs": [],
   "source": [
    "%%clingo --donot-run --donot-display_input -lci hamming_gv_rules\n",
    "\n",
    "data(\"Sun\",\"big\",1,black).\n",
    "data(\"Moon\",\"small\",2,black).\n",
    "data(\"Planet\",\"medium\",8,black).\n",
    "\n"
   ]
  },
  {
   "cell_type": "code",
   "execution_count": 204,
   "metadata": {},
   "outputs": [
    {
     "name": "stdout",
     "output_type": "stream",
     "text": [
      "Output:\n"
     ]
    },
    {
     "data": {
      "text/html": [
       "\n",
       "        <style>\n",
       "        .highlight .hll { background-color: #ffffcc }\n",
       ".highlight  { background: #f8f8f8; }\n",
       ".highlight .c { color: #408080; font-style: italic } /* Comment */\n",
       ".highlight .err { border: 1px solid #FF0000 } /* Error */\n",
       ".highlight .k { color: #008000; font-weight: bold } /* Keyword */\n",
       ".highlight .o { color: #666666 } /* Operator */\n",
       ".highlight .ch { color: #408080; font-style: italic } /* Comment.Hashbang */\n",
       ".highlight .cm { color: #408080; font-style: italic } /* Comment.Multiline */\n",
       ".highlight .cp { color: #BC7A00 } /* Comment.Preproc */\n",
       ".highlight .cpf { color: #408080; font-style: italic } /* Comment.PreprocFile */\n",
       ".highlight .c1 { color: #408080; font-style: italic } /* Comment.Single */\n",
       ".highlight .cs { color: #408080; font-style: italic } /* Comment.Special */\n",
       ".highlight .gd { color: #A00000 } /* Generic.Deleted */\n",
       ".highlight .ge { font-style: italic } /* Generic.Emph */\n",
       ".highlight .gr { color: #FF0000 } /* Generic.Error */\n",
       ".highlight .gh { color: #000080; font-weight: bold } /* Generic.Heading */\n",
       ".highlight .gi { color: #00A000 } /* Generic.Inserted */\n",
       ".highlight .go { color: #888888 } /* Generic.Output */\n",
       ".highlight .gp { color: #000080; font-weight: bold } /* Generic.Prompt */\n",
       ".highlight .gs { font-weight: bold } /* Generic.Strong */\n",
       ".highlight .gu { color: #800080; font-weight: bold } /* Generic.Subheading */\n",
       ".highlight .gt { color: #0044DD } /* Generic.Traceback */\n",
       ".highlight .kc { color: #008000; font-weight: bold } /* Keyword.Constant */\n",
       ".highlight .kd { color: #008000; font-weight: bold } /* Keyword.Declaration */\n",
       ".highlight .kn { color: #008000; font-weight: bold } /* Keyword.Namespace */\n",
       ".highlight .kp { color: #008000 } /* Keyword.Pseudo */\n",
       ".highlight .kr { color: #008000; font-weight: bold } /* Keyword.Reserved */\n",
       ".highlight .kt { color: #B00040 } /* Keyword.Type */\n",
       ".highlight .m { color: #666666 } /* Literal.Number */\n",
       ".highlight .s { color: #BA2121 } /* Literal.String */\n",
       ".highlight .na { color: #7D9029 } /* Name.Attribute */\n",
       ".highlight .nb { color: #008000 } /* Name.Builtin */\n",
       ".highlight .nc { color: #0000FF; font-weight: bold } /* Name.Class */\n",
       ".highlight .no { color: #880000 } /* Name.Constant */\n",
       ".highlight .nd { color: #AA22FF } /* Name.Decorator */\n",
       ".highlight .ni { color: #999999; font-weight: bold } /* Name.Entity */\n",
       ".highlight .ne { color: #D2413A; font-weight: bold } /* Name.Exception */\n",
       ".highlight .nf { color: #0000FF } /* Name.Function */\n",
       ".highlight .nl { color: #A0A000 } /* Name.Label */\n",
       ".highlight .nn { color: #0000FF; font-weight: bold } /* Name.Namespace */\n",
       ".highlight .nt { color: #008000; font-weight: bold } /* Name.Tag */\n",
       ".highlight .nv { color: #19177C } /* Name.Variable */\n",
       ".highlight .ow { color: #AA22FF; font-weight: bold } /* Operator.Word */\n",
       ".highlight .w { color: #bbbbbb } /* Text.Whitespace */\n",
       ".highlight .mb { color: #666666 } /* Literal.Number.Bin */\n",
       ".highlight .mf { color: #666666 } /* Literal.Number.Float */\n",
       ".highlight .mh { color: #666666 } /* Literal.Number.Hex */\n",
       ".highlight .mi { color: #666666 } /* Literal.Number.Integer */\n",
       ".highlight .mo { color: #666666 } /* Literal.Number.Oct */\n",
       ".highlight .sa { color: #BA2121 } /* Literal.String.Affix */\n",
       ".highlight .sb { color: #BA2121 } /* Literal.String.Backtick */\n",
       ".highlight .sc { color: #BA2121 } /* Literal.String.Char */\n",
       ".highlight .dl { color: #BA2121 } /* Literal.String.Delimiter */\n",
       ".highlight .sd { color: #BA2121; font-style: italic } /* Literal.String.Doc */\n",
       ".highlight .s2 { color: #BA2121 } /* Literal.String.Double */\n",
       ".highlight .se { color: #BB6622; font-weight: bold } /* Literal.String.Escape */\n",
       ".highlight .sh { color: #BA2121 } /* Literal.String.Heredoc */\n",
       ".highlight .si { color: #BB6688; font-weight: bold } /* Literal.String.Interpol */\n",
       ".highlight .sx { color: #008000 } /* Literal.String.Other */\n",
       ".highlight .sr { color: #BB6688 } /* Literal.String.Regex */\n",
       ".highlight .s1 { color: #BA2121 } /* Literal.String.Single */\n",
       ".highlight .ss { color: #19177C } /* Literal.String.Symbol */\n",
       ".highlight .bp { color: #008000 } /* Name.Builtin.Pseudo */\n",
       ".highlight .fm { color: #0000FF } /* Name.Function.Magic */\n",
       ".highlight .vc { color: #19177C } /* Name.Variable.Class */\n",
       ".highlight .vg { color: #19177C } /* Name.Variable.Global */\n",
       ".highlight .vi { color: #19177C } /* Name.Variable.Instance */\n",
       ".highlight .vm { color: #19177C } /* Name.Variable.Magic */\n",
       ".highlight .il { color: #666666 } /* Literal.Number.Integer.Long */\n",
       "        </style>\n",
       "        "
      ],
      "text/plain": [
       "<IPython.core.display.HTML object>"
      ]
     },
     "metadata": {},
     "output_type": "display_data"
    },
    {
     "data": {
      "text/html": [
       "<div class=\"highlight\"><pre><span></span><span class=\"lineno\">1 </span><span class=\"nv\">Answer</span><span class=\"s s-Atom\">:</span> <span class=\"mi\">1</span>\n",
       "<span class=\"lineno\">2 </span><span class=\"nf\">data</span><span class=\"p\">(</span><span class=\"s2\">&quot;Sun&quot;</span><span class=\"p\">,</span><span class=\"mi\">100</span><span class=\"p\">,</span><span class=\"mi\">1</span><span class=\"p\">)</span> <span class=\"nf\">data</span><span class=\"p\">(</span><span class=\"s2\">&quot;Moon&quot;</span><span class=\"p\">,</span><span class=\"mi\">10</span><span class=\"p\">,</span><span class=\"mi\">2</span><span class=\"p\">)</span> <span class=\"nf\">data</span><span class=\"p\">(</span><span class=\"s2\">&quot;Planet&quot;</span><span class=\"p\">,</span><span class=\"mi\">1</span><span class=\"p\">,</span><span class=\"mi\">8</span><span class=\"p\">)</span> <span class=\"nf\">data</span><span class=\"p\">(</span><span class=\"s2\">&quot;database&quot;</span><span class=\"p\">,</span><span class=\"s2\">&quot;Sun&quot;</span><span class=\"p\">,</span><span class=\"mi\">100</span><span class=\"p\">,</span><span class=\"mi\">1</span><span class=\"p\">,</span><span class=\"s2\">&quot;Join\\nSun&quot;</span><span class=\"p\">,</span><span class=\"s s-Atom\">blue</span><span class=\"p\">,</span><span class=\"s2\">&quot;Sun&quot;</span><span class=\"p\">,</span><span class=\"mi\">100</span><span class=\"p\">,</span><span class=\"mi\">1</span><span class=\"p\">)</span> <span class=\"nf\">data</span><span class=\"p\">(</span><span class=\"s2\">&quot;database&quot;</span><span class=\"p\">,</span><span class=\"s2\">&quot;Moon&quot;</span><span class=\"p\">,</span><span class=\"mi\">10</span><span class=\"p\">,</span><span class=\"mi\">2</span><span class=\"p\">,</span><span class=\"s2\">&quot;Join\\nSun&quot;</span><span class=\"p\">,</span><span class=\"s s-Atom\">blue</span><span class=\"p\">,</span><span class=\"s2\">&quot;Moon&quot;</span><span class=\"p\">,</span><span class=\"mi\">10</span><span class=\"p\">,</span><span class=\"mi\">2</span><span class=\"p\">)</span> <span class=\"nf\">data</span><span class=\"p\">(</span><span class=\"s2\">&quot;database&quot;</span><span class=\"p\">,</span><span class=\"s2\">&quot;Planet&quot;</span><span class=\"p\">,</span><span class=\"mi\">1</span><span class=\"p\">,</span><span class=\"mi\">8</span><span class=\"p\">,</span><span class=\"s2\">&quot;Join\\nSun&quot;</span><span class=\"p\">,</span><span class=\"s s-Atom\">blue</span><span class=\"p\">,</span><span class=\"s2\">&quot;Planet&quot;</span><span class=\"p\">,</span><span class=\"mi\">1</span><span class=\"p\">,</span><span class=\"mi\">8</span><span class=\"p\">)</span> <span class=\"nf\">data</span><span class=\"p\">(</span><span class=\"s2\">&quot;database&quot;</span><span class=\"p\">,</span><span class=\"s2\">&quot;Sun&quot;</span><span class=\"p\">,</span><span class=\"mi\">100</span><span class=\"p\">,</span><span class=\"mi\">1</span><span class=\"p\">,</span><span class=\"s2\">&quot;JoinMoon&quot;</span><span class=\"p\">,</span><span class=\"s s-Atom\">green</span><span class=\"p\">,</span><span class=\"s2\">&quot;Sun&quot;</span><span class=\"p\">,</span><span class=\"mi\">100</span><span class=\"p\">,</span><span class=\"mi\">1</span><span class=\"p\">)</span> <span class=\"nf\">data</span><span class=\"p\">(</span><span class=\"s2\">&quot;database&quot;</span><span class=\"p\">,</span><span class=\"s2\">&quot;Moon&quot;</span><span class=\"p\">,</span><span class=\"mi\">10</span><span class=\"p\">,</span><span class=\"mi\">2</span><span class=\"p\">,</span><span class=\"s2\">&quot;JoinMoon&quot;</span><span class=\"p\">,</span><span class=\"s s-Atom\">green</span><span class=\"p\">,</span><span class=\"s2\">&quot;Moon&quot;</span><span class=\"p\">,</span><span class=\"mi\">10</span><span class=\"p\">,</span><span class=\"mi\">2</span><span class=\"p\">)</span> <span class=\"nf\">data</span><span class=\"p\">(</span><span class=\"s2\">&quot;database&quot;</span><span class=\"p\">,</span><span class=\"s2\">&quot;Planet&quot;</span><span class=\"p\">,</span><span class=\"mi\">1</span><span class=\"p\">,</span><span class=\"mi\">8</span><span class=\"p\">,</span><span class=\"s2\">&quot;JoinMoon&quot;</span><span class=\"p\">,</span><span class=\"s s-Atom\">green</span><span class=\"p\">,</span><span class=\"s2\">&quot;Planet&quot;</span><span class=\"p\">,</span><span class=\"mi\">1</span><span class=\"p\">,</span><span class=\"mi\">8</span><span class=\"p\">)</span> <span class=\"nf\">data</span><span class=\"p\">(</span><span class=\"s2\">&quot;database&quot;</span><span class=\"p\">,</span><span class=\"s2\">&quot;Sun&quot;</span><span class=\"p\">,</span><span class=\"mi\">100</span><span class=\"p\">,</span><span class=\"mi\">1</span><span class=\"p\">,</span><span class=\"s2\">&quot;JoinPlanet&quot;</span><span class=\"p\">,</span><span class=\"s s-Atom\">red</span><span class=\"p\">,</span><span class=\"s2\">&quot;Sun&quot;</span><span class=\"p\">,</span><span class=\"mi\">100</span><span class=\"p\">,</span><span class=\"mi\">1</span><span class=\"p\">)</span> <span class=\"nf\">data</span><span class=\"p\">(</span><span class=\"s2\">&quot;database&quot;</span><span class=\"p\">,</span><span class=\"s2\">&quot;Moon&quot;</span><span class=\"p\">,</span><span class=\"mi\">10</span><span class=\"p\">,</span><span class=\"mi\">2</span><span class=\"p\">,</span><span class=\"s2\">&quot;JoinPlanet&quot;</span><span class=\"p\">,</span><span class=\"s s-Atom\">red</span><span class=\"p\">,</span><span class=\"s2\">&quot;Moon&quot;</span><span class=\"p\">,</span><span class=\"mi\">10</span><span class=\"p\">,</span><span class=\"mi\">2</span><span class=\"p\">)</span> <span class=\"nf\">data</span><span class=\"p\">(</span><span class=\"s2\">&quot;database&quot;</span><span class=\"p\">,</span><span class=\"s2\">&quot;Planet&quot;</span><span class=\"p\">,</span><span class=\"mi\">1</span><span class=\"p\">,</span><span class=\"mi\">8</span><span class=\"p\">,</span><span class=\"s2\">&quot;JoinPlanet&quot;</span><span class=\"p\">,</span><span class=\"s s-Atom\">red</span><span class=\"p\">,</span><span class=\"s2\">&quot;Planet&quot;</span><span class=\"p\">,</span><span class=\"mi\">1</span><span class=\"p\">,</span><span class=\"mi\">8</span><span class=\"p\">)</span> <span class=\"nf\">data</span><span class=\"p\">(</span><span class=\"s2\">&quot;Join\\nSun&quot;</span><span class=\"p\">,</span><span class=\"s2\">&quot;Sun&quot;</span><span class=\"p\">,</span><span class=\"mi\">100</span><span class=\"p\">,</span><span class=\"mi\">1</span><span class=\"p\">,</span><span class=\"s2\">&quot;Select&quot;</span><span class=\"p\">,</span><span class=\"s s-Atom\">orange</span><span class=\"p\">)</span> <span class=\"nf\">data</span><span class=\"p\">(</span><span class=\"s2\">&quot;Join\\nSun&quot;</span><span class=\"p\">,</span><span class=\"s2\">&quot;Moon&quot;</span><span class=\"p\">,</span><span class=\"mi\">10</span><span class=\"p\">,</span><span class=\"mi\">2</span><span class=\"p\">,</span><span class=\"s2\">&quot;Select&quot;</span><span class=\"p\">,</span><span class=\"s s-Atom\">orange</span><span class=\"p\">)</span> <span class=\"nf\">data</span><span class=\"p\">(</span><span class=\"s2\">&quot;Join\\nSun&quot;</span><span class=\"p\">,</span><span class=\"s2\">&quot;Planet&quot;</span><span class=\"p\">,</span><span class=\"mi\">1</span><span class=\"p\">,</span><span class=\"mi\">8</span><span class=\"p\">,</span><span class=\"s2\">&quot;Select&quot;</span><span class=\"p\">,</span><span class=\"s s-Atom\">orange</span><span class=\"p\">)</span> <span class=\"nf\">data</span><span class=\"p\">(</span><span class=\"s2\">&quot;JoinMoon&quot;</span><span class=\"p\">,</span><span class=\"s2\">&quot;Sun&quot;</span><span class=\"p\">,</span><span class=\"mi\">100</span><span class=\"p\">,</span><span class=\"mi\">1</span><span class=\"p\">,</span><span class=\"s2\">&quot;Select&quot;</span><span class=\"p\">,</span><span class=\"s s-Atom\">orange</span><span class=\"p\">)</span> <span class=\"nf\">data</span><span class=\"p\">(</span><span class=\"s2\">&quot;JoinMoon&quot;</span><span class=\"p\">,</span><span class=\"s2\">&quot;Moon&quot;</span><span class=\"p\">,</span><span class=\"mi\">10</span><span class=\"p\">,</span><span class=\"mi\">2</span><span class=\"p\">,</span><span class=\"s2\">&quot;Select&quot;</span><span class=\"p\">,</span><span class=\"s s-Atom\">orange</span><span class=\"p\">)</span> <span class=\"nf\">data</span><span class=\"p\">(</span><span class=\"s2\">&quot;JoinMoon&quot;</span><span class=\"p\">,</span><span class=\"s2\">&quot;Planet&quot;</span><span class=\"p\">,</span><span class=\"mi\">1</span><span class=\"p\">,</span><span class=\"mi\">8</span><span class=\"p\">,</span><span class=\"s2\">&quot;Select&quot;</span><span class=\"p\">,</span><span class=\"s s-Atom\">orange</span><span class=\"p\">)</span> <span class=\"nf\">data</span><span class=\"p\">(</span><span class=\"s2\">&quot;JoinPlanet&quot;</span><span class=\"p\">,</span><span class=\"s2\">&quot;Sun&quot;</span><span class=\"p\">,</span><span class=\"mi\">100</span><span class=\"p\">,</span><span class=\"mi\">1</span><span class=\"p\">,</span><span class=\"s2\">&quot;Select&quot;</span><span class=\"p\">,</span><span class=\"s s-Atom\">orange</span><span class=\"p\">)</span> <span class=\"nf\">data</span><span class=\"p\">(</span><span class=\"s2\">&quot;JoinPlanet&quot;</span><span class=\"p\">,</span><span class=\"s2\">&quot;Moon&quot;</span><span class=\"p\">,</span><span class=\"mi\">10</span><span class=\"p\">,</span><span class=\"mi\">2</span><span class=\"p\">,</span><span class=\"s2\">&quot;Select&quot;</span><span class=\"p\">,</span><span class=\"s s-Atom\">orange</span><span class=\"p\">)</span> <span class=\"nf\">data</span><span class=\"p\">(</span><span class=\"s2\">&quot;JoinPlanet&quot;</span><span class=\"p\">,</span><span class=\"s2\">&quot;Planet&quot;</span><span class=\"p\">,</span><span class=\"mi\">1</span><span class=\"p\">,</span><span class=\"mi\">8</span><span class=\"p\">,</span><span class=\"s2\">&quot;Select&quot;</span><span class=\"p\">,</span><span class=\"s s-Atom\">orange</span><span class=\"p\">)</span>\n",
       "<span class=\"lineno\">3 </span><span class=\"nv\">SATISFIABLE</span>\n",
       "<span class=\"lineno\">4 </span>\n",
       "<span class=\"lineno\">5 </span><span class=\"nv\">Models</span>       <span class=\"s s-Atom\">:</span> <span class=\"mi\">1</span>\n",
       "<span class=\"lineno\">6 </span><span class=\"nv\">Calls</span>        <span class=\"s s-Atom\">:</span> <span class=\"mi\">1</span>\n",
       "<span class=\"lineno\">7 </span><span class=\"nv\">Time</span>         <span class=\"s s-Atom\">:</span> <span class=\"mf\">0.001</span><span class=\"nf\">s</span> <span class=\"p\">(</span><span class=\"nv\">Solving</span><span class=\"s s-Atom\">:</span> <span class=\"mf\">0.00</span><span class=\"s s-Atom\">s</span> <span class=\"mi\">1</span><span class=\"s s-Atom\">st</span> <span class=\"nv\">Model</span><span class=\"s s-Atom\">:</span> <span class=\"mf\">0.00</span><span class=\"s s-Atom\">s</span> <span class=\"nv\">Unsat</span><span class=\"s s-Atom\">:</span> <span class=\"mf\">0.00</span><span class=\"s s-Atom\">s</span><span class=\"p\">)</span>\n",
       "<span class=\"lineno\">8 </span><span class=\"nv\">CPU</span> <span class=\"nv\">Time</span>     <span class=\"s s-Atom\">:</span> <span class=\"mf\">0.000</span><span class=\"s s-Atom\">s</span>\n",
       "</pre></div>\n"
      ],
      "text/plain": [
       "'Answer: 1\\ndata(\"Sun\",100,1) data(\"Moon\",10,2) data(\"Planet\",1,8) data(\"database\",\"Sun\",100,1,\"Join\\\\nSun\",blue,\"Sun\",100,1) data(\"database\",\"Moon\",10,2,\"Join\\\\nSun\",blue,\"Moon\",10,2) data(\"database\",\"Planet\",1,8,\"Join\\\\nSun\",blue,\"Planet\",1,8) data(\"database\",\"Sun\",100,1,\"JoinMoon\",green,\"Sun\",100,1) data(\"database\",\"Moon\",10,2,\"JoinMoon\",green,\"Moon\",10,2) data(\"database\",\"Planet\",1,8,\"JoinMoon\",green,\"Planet\",1,8) data(\"database\",\"Sun\",100,1,\"JoinPlanet\",red,\"Sun\",100,1) data(\"database\",\"Moon\",10,2,\"JoinPlanet\",red,\"Moon\",10,2) data(\"database\",\"Planet\",1,8,\"JoinPlanet\",red,\"Planet\",1,8) data(\"Join\\\\nSun\",\"Sun\",100,1,\"Select\",orange) data(\"Join\\\\nSun\",\"Moon\",10,2,\"Select\",orange) data(\"Join\\\\nSun\",\"Planet\",1,8,\"Select\",orange) data(\"JoinMoon\",\"Sun\",100,1,\"Select\",orange) data(\"JoinMoon\",\"Moon\",10,2,\"Select\",orange) data(\"JoinMoon\",\"Planet\",1,8,\"Select\",orange) data(\"JoinPlanet\",\"Sun\",100,1,\"Select\",orange) data(\"JoinPlanet\",\"Moon\",10,2,\"Select\",orange) data(\"JoinPlanet\",\"Planet\",1,8,\"Select\",orange)\\nSATISFIABLE\\n\\nModels       : 1\\nCalls        : 1\\nTime         : 0.001s (Solving: 0.00s 1st Model: 0.00s Unsat: 0.00s)\\nCPU Time     : 0.000s'"
      ]
     },
     "metadata": {},
     "output_type": "display_data"
    }
   ],
   "source": [
    "%%clingo -l hamming_gv_rules --donot-display_input --save_meta_data_to md --saveto sail_out\n",
    "\n",
    "\n",
    "%query1(X,Y,Z) :- data(X,Y,Z).\n",
    "\n",
    "data(X,Y,Z,orange) :- data(X,Y,Z,_).\n",
    "\n",
    "\n",
    "data(\"database\",X,Y,Z,\"Join\\nSun\",blue,A,B,C) :- data(X,Y,Z), data(A,B,C), A=X.\n",
    "data(\"database\",X,Y,Z,\"JoinMoon\",green,A,B,C) :- data(X,Y,Z), data(A,B,C), B=Y.\n",
    "data(\"database\",X,Y,Z,\"JoinPlanet\",red,A,B,C) :- data(X,Y,Z), data(A,B,C), C=Z.\n",
    "\n",
    "data(N,X,Y,Z,\"Select\",orange) :- data(_,X,Y,Z,N,Colour,A,B,C).\n",
    "\n",
    "\n",
    "%result(N,\"Sun\",Y,Z,\"Result\",6) :- select(_,X,Y,Z,N,5).\n",
    "\n"
   ]
  },
  {
   "cell_type": "code",
   "execution_count": 196,
   "metadata": {},
   "outputs": [
    {
     "name": "stdout",
     "output_type": "stream",
     "text": [
      "Output:\n"
     ]
    },
    {
     "data": {
      "text/html": [
       "\n",
       "        <style>\n",
       "        .highlight .hll { background-color: #ffffcc }\n",
       ".highlight  { background: #f8f8f8; }\n",
       ".highlight .c { color: #408080; font-style: italic } /* Comment */\n",
       ".highlight .err { border: 1px solid #FF0000 } /* Error */\n",
       ".highlight .k { color: #008000; font-weight: bold } /* Keyword */\n",
       ".highlight .o { color: #666666 } /* Operator */\n",
       ".highlight .ch { color: #408080; font-style: italic } /* Comment.Hashbang */\n",
       ".highlight .cm { color: #408080; font-style: italic } /* Comment.Multiline */\n",
       ".highlight .cp { color: #BC7A00 } /* Comment.Preproc */\n",
       ".highlight .cpf { color: #408080; font-style: italic } /* Comment.PreprocFile */\n",
       ".highlight .c1 { color: #408080; font-style: italic } /* Comment.Single */\n",
       ".highlight .cs { color: #408080; font-style: italic } /* Comment.Special */\n",
       ".highlight .gd { color: #A00000 } /* Generic.Deleted */\n",
       ".highlight .ge { font-style: italic } /* Generic.Emph */\n",
       ".highlight .gr { color: #FF0000 } /* Generic.Error */\n",
       ".highlight .gh { color: #000080; font-weight: bold } /* Generic.Heading */\n",
       ".highlight .gi { color: #00A000 } /* Generic.Inserted */\n",
       ".highlight .go { color: #888888 } /* Generic.Output */\n",
       ".highlight .gp { color: #000080; font-weight: bold } /* Generic.Prompt */\n",
       ".highlight .gs { font-weight: bold } /* Generic.Strong */\n",
       ".highlight .gu { color: #800080; font-weight: bold } /* Generic.Subheading */\n",
       ".highlight .gt { color: #0044DD } /* Generic.Traceback */\n",
       ".highlight .kc { color: #008000; font-weight: bold } /* Keyword.Constant */\n",
       ".highlight .kd { color: #008000; font-weight: bold } /* Keyword.Declaration */\n",
       ".highlight .kn { color: #008000; font-weight: bold } /* Keyword.Namespace */\n",
       ".highlight .kp { color: #008000 } /* Keyword.Pseudo */\n",
       ".highlight .kr { color: #008000; font-weight: bold } /* Keyword.Reserved */\n",
       ".highlight .kt { color: #B00040 } /* Keyword.Type */\n",
       ".highlight .m { color: #666666 } /* Literal.Number */\n",
       ".highlight .s { color: #BA2121 } /* Literal.String */\n",
       ".highlight .na { color: #7D9029 } /* Name.Attribute */\n",
       ".highlight .nb { color: #008000 } /* Name.Builtin */\n",
       ".highlight .nc { color: #0000FF; font-weight: bold } /* Name.Class */\n",
       ".highlight .no { color: #880000 } /* Name.Constant */\n",
       ".highlight .nd { color: #AA22FF } /* Name.Decorator */\n",
       ".highlight .ni { color: #999999; font-weight: bold } /* Name.Entity */\n",
       ".highlight .ne { color: #D2413A; font-weight: bold } /* Name.Exception */\n",
       ".highlight .nf { color: #0000FF } /* Name.Function */\n",
       ".highlight .nl { color: #A0A000 } /* Name.Label */\n",
       ".highlight .nn { color: #0000FF; font-weight: bold } /* Name.Namespace */\n",
       ".highlight .nt { color: #008000; font-weight: bold } /* Name.Tag */\n",
       ".highlight .nv { color: #19177C } /* Name.Variable */\n",
       ".highlight .ow { color: #AA22FF; font-weight: bold } /* Operator.Word */\n",
       ".highlight .w { color: #bbbbbb } /* Text.Whitespace */\n",
       ".highlight .mb { color: #666666 } /* Literal.Number.Bin */\n",
       ".highlight .mf { color: #666666 } /* Literal.Number.Float */\n",
       ".highlight .mh { color: #666666 } /* Literal.Number.Hex */\n",
       ".highlight .mi { color: #666666 } /* Literal.Number.Integer */\n",
       ".highlight .mo { color: #666666 } /* Literal.Number.Oct */\n",
       ".highlight .sa { color: #BA2121 } /* Literal.String.Affix */\n",
       ".highlight .sb { color: #BA2121 } /* Literal.String.Backtick */\n",
       ".highlight .sc { color: #BA2121 } /* Literal.String.Char */\n",
       ".highlight .dl { color: #BA2121 } /* Literal.String.Delimiter */\n",
       ".highlight .sd { color: #BA2121; font-style: italic } /* Literal.String.Doc */\n",
       ".highlight .s2 { color: #BA2121 } /* Literal.String.Double */\n",
       ".highlight .se { color: #BB6622; font-weight: bold } /* Literal.String.Escape */\n",
       ".highlight .sh { color: #BA2121 } /* Literal.String.Heredoc */\n",
       ".highlight .si { color: #BB6688; font-weight: bold } /* Literal.String.Interpol */\n",
       ".highlight .sx { color: #008000 } /* Literal.String.Other */\n",
       ".highlight .sr { color: #BB6688 } /* Literal.String.Regex */\n",
       ".highlight .s1 { color: #BA2121 } /* Literal.String.Single */\n",
       ".highlight .ss { color: #19177C } /* Literal.String.Symbol */\n",
       ".highlight .bp { color: #008000 } /* Name.Builtin.Pseudo */\n",
       ".highlight .fm { color: #0000FF } /* Name.Function.Magic */\n",
       ".highlight .vc { color: #19177C } /* Name.Variable.Class */\n",
       ".highlight .vg { color: #19177C } /* Name.Variable.Global */\n",
       ".highlight .vi { color: #19177C } /* Name.Variable.Instance */\n",
       ".highlight .vm { color: #19177C } /* Name.Variable.Magic */\n",
       ".highlight .il { color: #666666 } /* Literal.Number.Integer.Long */\n",
       "        </style>\n",
       "        "
      ],
      "text/plain": [
       "<IPython.core.display.HTML object>"
      ]
     },
     "metadata": {},
     "output_type": "display_data"
    },
    {
     "data": {
      "text/html": [
       "<div class=\"highlight\"><pre><span></span><span class=\"lineno\">1 </span><span class=\"nv\">Answer</span><span class=\"s s-Atom\">:</span> <span class=\"mi\">1</span>\n",
       "<span class=\"lineno\">2 </span><span class=\"nf\">data</span><span class=\"p\">(</span><span class=\"s2\">&quot;Sun&quot;</span><span class=\"p\">,</span><span class=\"mi\">100</span><span class=\"p\">,</span><span class=\"mi\">1</span><span class=\"p\">)</span> <span class=\"nf\">data</span><span class=\"p\">(</span><span class=\"s2\">&quot;Moon&quot;</span><span class=\"p\">,</span><span class=\"mi\">10</span><span class=\"p\">,</span><span class=\"mi\">2</span><span class=\"p\">)</span> <span class=\"nf\">data</span><span class=\"p\">(</span><span class=\"s2\">&quot;Planet&quot;</span><span class=\"p\">,</span><span class=\"mi\">1</span><span class=\"p\">,</span><span class=\"mi\">8</span><span class=\"p\">)</span> <span class=\"nf\">query1</span><span class=\"p\">(</span><span class=\"s2\">&quot;Sun&quot;</span><span class=\"p\">,</span><span class=\"mi\">100</span><span class=\"p\">,</span><span class=\"mi\">1</span><span class=\"p\">)</span> <span class=\"nf\">query1</span><span class=\"p\">(</span><span class=\"s2\">&quot;Moon&quot;</span><span class=\"p\">,</span><span class=\"mi\">10</span><span class=\"p\">,</span><span class=\"mi\">2</span><span class=\"p\">)</span> <span class=\"nf\">query1</span><span class=\"p\">(</span><span class=\"s2\">&quot;Planet&quot;</span><span class=\"p\">,</span><span class=\"mi\">1</span><span class=\"p\">,</span><span class=\"mi\">8</span><span class=\"p\">)</span> <span class=\"nf\">join</span><span class=\"p\">(</span><span class=\"s2\">&quot;database&quot;</span><span class=\"p\">,</span><span class=\"s2\">&quot;Sun&quot;</span><span class=\"p\">,</span><span class=\"mi\">100</span><span class=\"p\">,</span><span class=\"mi\">1</span><span class=\"p\">,</span><span class=\"s2\">&quot;Join\\nSun&quot;</span><span class=\"p\">,</span><span class=\"s s-Atom\">blue</span><span class=\"p\">,</span><span class=\"s2\">&quot;Sun&quot;</span><span class=\"p\">,</span><span class=\"mi\">100</span><span class=\"p\">,</span><span class=\"mi\">1</span><span class=\"p\">)</span> <span class=\"nf\">join</span><span class=\"p\">(</span><span class=\"s2\">&quot;database&quot;</span><span class=\"p\">,</span><span class=\"s2\">&quot;Moon&quot;</span><span class=\"p\">,</span><span class=\"mi\">10</span><span class=\"p\">,</span><span class=\"mi\">2</span><span class=\"p\">,</span><span class=\"s2\">&quot;Join\\nSun&quot;</span><span class=\"p\">,</span><span class=\"s s-Atom\">blue</span><span class=\"p\">,</span><span class=\"s2\">&quot;Moon&quot;</span><span class=\"p\">,</span><span class=\"mi\">10</span><span class=\"p\">,</span><span class=\"mi\">2</span><span class=\"p\">)</span> <span class=\"nf\">join</span><span class=\"p\">(</span><span class=\"s2\">&quot;database&quot;</span><span class=\"p\">,</span><span class=\"s2\">&quot;Planet&quot;</span><span class=\"p\">,</span><span class=\"mi\">1</span><span class=\"p\">,</span><span class=\"mi\">8</span><span class=\"p\">,</span><span class=\"s2\">&quot;Join\\nSun&quot;</span><span class=\"p\">,</span><span class=\"s s-Atom\">blue</span><span class=\"p\">,</span><span class=\"s2\">&quot;Planet&quot;</span><span class=\"p\">,</span><span class=\"mi\">1</span><span class=\"p\">,</span><span class=\"mi\">8</span><span class=\"p\">)</span> <span class=\"nf\">join</span><span class=\"p\">(</span><span class=\"s2\">&quot;database&quot;</span><span class=\"p\">,</span><span class=\"s2\">&quot;Sun&quot;</span><span class=\"p\">,</span><span class=\"mi\">100</span><span class=\"p\">,</span><span class=\"mi\">1</span><span class=\"p\">,</span><span class=\"s2\">&quot;JoinMoon&quot;</span><span class=\"p\">,</span><span class=\"s s-Atom\">green</span><span class=\"p\">,</span><span class=\"s2\">&quot;Sun&quot;</span><span class=\"p\">,</span><span class=\"mi\">100</span><span class=\"p\">,</span><span class=\"mi\">1</span><span class=\"p\">)</span> <span class=\"nf\">join</span><span class=\"p\">(</span><span class=\"s2\">&quot;database&quot;</span><span class=\"p\">,</span><span class=\"s2\">&quot;Moon&quot;</span><span class=\"p\">,</span><span class=\"mi\">10</span><span class=\"p\">,</span><span class=\"mi\">2</span><span class=\"p\">,</span><span class=\"s2\">&quot;JoinMoon&quot;</span><span class=\"p\">,</span><span class=\"s s-Atom\">green</span><span class=\"p\">,</span><span class=\"s2\">&quot;Moon&quot;</span><span class=\"p\">,</span><span class=\"mi\">10</span><span class=\"p\">,</span><span class=\"mi\">2</span><span class=\"p\">)</span> <span class=\"nf\">join</span><span class=\"p\">(</span><span class=\"s2\">&quot;database&quot;</span><span class=\"p\">,</span><span class=\"s2\">&quot;Planet&quot;</span><span class=\"p\">,</span><span class=\"mi\">1</span><span class=\"p\">,</span><span class=\"mi\">8</span><span class=\"p\">,</span><span class=\"s2\">&quot;JoinMoon&quot;</span><span class=\"p\">,</span><span class=\"s s-Atom\">green</span><span class=\"p\">,</span><span class=\"s2\">&quot;Planet&quot;</span><span class=\"p\">,</span><span class=\"mi\">1</span><span class=\"p\">,</span><span class=\"mi\">8</span><span class=\"p\">)</span> <span class=\"nf\">join</span><span class=\"p\">(</span><span class=\"s2\">&quot;database&quot;</span><span class=\"p\">,</span><span class=\"s2\">&quot;Sun&quot;</span><span class=\"p\">,</span><span class=\"mi\">100</span><span class=\"p\">,</span><span class=\"mi\">1</span><span class=\"p\">,</span><span class=\"s2\">&quot;JoinPlanet&quot;</span><span class=\"p\">,</span><span class=\"s s-Atom\">red</span><span class=\"p\">,</span><span class=\"s2\">&quot;Sun&quot;</span><span class=\"p\">,</span><span class=\"mi\">100</span><span class=\"p\">,</span><span class=\"mi\">1</span><span class=\"p\">)</span> <span class=\"nf\">join</span><span class=\"p\">(</span><span class=\"s2\">&quot;database&quot;</span><span class=\"p\">,</span><span class=\"s2\">&quot;Moon&quot;</span><span class=\"p\">,</span><span class=\"mi\">10</span><span class=\"p\">,</span><span class=\"mi\">2</span><span class=\"p\">,</span><span class=\"s2\">&quot;JoinPlanet&quot;</span><span class=\"p\">,</span><span class=\"s s-Atom\">red</span><span class=\"p\">,</span><span class=\"s2\">&quot;Moon&quot;</span><span class=\"p\">,</span><span class=\"mi\">10</span><span class=\"p\">,</span><span class=\"mi\">2</span><span class=\"p\">)</span> <span class=\"nf\">join</span><span class=\"p\">(</span><span class=\"s2\">&quot;database&quot;</span><span class=\"p\">,</span><span class=\"s2\">&quot;Planet&quot;</span><span class=\"p\">,</span><span class=\"mi\">1</span><span class=\"p\">,</span><span class=\"mi\">8</span><span class=\"p\">,</span><span class=\"s2\">&quot;JoinPlanet&quot;</span><span class=\"p\">,</span><span class=\"s s-Atom\">red</span><span class=\"p\">,</span><span class=\"s2\">&quot;Planet&quot;</span><span class=\"p\">,</span><span class=\"mi\">1</span><span class=\"p\">,</span><span class=\"mi\">8</span><span class=\"p\">)</span> <span class=\"nf\">select</span><span class=\"p\">(</span><span class=\"s2\">&quot;Join\\nSun&quot;</span><span class=\"p\">,</span><span class=\"s2\">&quot;Sun&quot;</span><span class=\"p\">,</span><span class=\"mi\">100</span><span class=\"p\">,</span><span class=\"mi\">1</span><span class=\"p\">,</span><span class=\"s2\">&quot;Select&quot;</span><span class=\"p\">,</span><span class=\"s s-Atom\">orange</span><span class=\"p\">)</span> <span class=\"nf\">select</span><span class=\"p\">(</span><span class=\"s2\">&quot;Join\\nSun&quot;</span><span class=\"p\">,</span><span class=\"s2\">&quot;Moon&quot;</span><span class=\"p\">,</span><span class=\"mi\">10</span><span class=\"p\">,</span><span class=\"mi\">2</span><span class=\"p\">,</span><span class=\"s2\">&quot;Select&quot;</span><span class=\"p\">,</span><span class=\"s s-Atom\">orange</span><span class=\"p\">)</span> <span class=\"nf\">select</span><span class=\"p\">(</span><span class=\"s2\">&quot;Join\\nSun&quot;</span><span class=\"p\">,</span><span class=\"s2\">&quot;Planet&quot;</span><span class=\"p\">,</span><span class=\"mi\">1</span><span class=\"p\">,</span><span class=\"mi\">8</span><span class=\"p\">,</span><span class=\"s2\">&quot;Select&quot;</span><span class=\"p\">,</span><span class=\"s s-Atom\">orange</span><span class=\"p\">)</span> <span class=\"nf\">select</span><span class=\"p\">(</span><span class=\"s2\">&quot;JoinMoon&quot;</span><span class=\"p\">,</span><span class=\"s2\">&quot;Sun&quot;</span><span class=\"p\">,</span><span class=\"mi\">100</span><span class=\"p\">,</span><span class=\"mi\">1</span><span class=\"p\">,</span><span class=\"s2\">&quot;Select&quot;</span><span class=\"p\">,</span><span class=\"s s-Atom\">orange</span><span class=\"p\">)</span> <span class=\"nf\">select</span><span class=\"p\">(</span><span class=\"s2\">&quot;JoinMoon&quot;</span><span class=\"p\">,</span><span class=\"s2\">&quot;Moon&quot;</span><span class=\"p\">,</span><span class=\"mi\">10</span><span class=\"p\">,</span><span class=\"mi\">2</span><span class=\"p\">,</span><span class=\"s2\">&quot;Select&quot;</span><span class=\"p\">,</span><span class=\"s s-Atom\">orange</span><span class=\"p\">)</span> <span class=\"nf\">select</span><span class=\"p\">(</span><span class=\"s2\">&quot;JoinMoon&quot;</span><span class=\"p\">,</span><span class=\"s2\">&quot;Planet&quot;</span><span class=\"p\">,</span><span class=\"mi\">1</span><span class=\"p\">,</span><span class=\"mi\">8</span><span class=\"p\">,</span><span class=\"s2\">&quot;Select&quot;</span><span class=\"p\">,</span><span class=\"s s-Atom\">orange</span><span class=\"p\">)</span> <span class=\"nf\">select</span><span class=\"p\">(</span><span class=\"s2\">&quot;JoinPlanet&quot;</span><span class=\"p\">,</span><span class=\"s2\">&quot;Sun&quot;</span><span class=\"p\">,</span><span class=\"mi\">100</span><span class=\"p\">,</span><span class=\"mi\">1</span><span class=\"p\">,</span><span class=\"s2\">&quot;Select&quot;</span><span class=\"p\">,</span><span class=\"s s-Atom\">orange</span><span class=\"p\">)</span> <span class=\"nf\">select</span><span class=\"p\">(</span><span class=\"s2\">&quot;JoinPlanet&quot;</span><span class=\"p\">,</span><span class=\"s2\">&quot;Moon&quot;</span><span class=\"p\">,</span><span class=\"mi\">10</span><span class=\"p\">,</span><span class=\"mi\">2</span><span class=\"p\">,</span><span class=\"s2\">&quot;Select&quot;</span><span class=\"p\">,</span><span class=\"s s-Atom\">orange</span><span class=\"p\">)</span> <span class=\"nf\">select</span><span class=\"p\">(</span><span class=\"s2\">&quot;JoinPlanet&quot;</span><span class=\"p\">,</span><span class=\"s2\">&quot;Planet&quot;</span><span class=\"p\">,</span><span class=\"mi\">1</span><span class=\"p\">,</span><span class=\"mi\">8</span><span class=\"p\">,</span><span class=\"s2\">&quot;Select&quot;</span><span class=\"p\">,</span><span class=\"s s-Atom\">orange</span><span class=\"p\">)</span>\n",
       "<span class=\"lineno\">3 </span><span class=\"nv\">SATISFIABLE</span>\n",
       "<span class=\"lineno\">4 </span>\n",
       "<span class=\"lineno\">5 </span><span class=\"nv\">Models</span>       <span class=\"s s-Atom\">:</span> <span class=\"mi\">1</span>\n",
       "<span class=\"lineno\">6 </span><span class=\"nv\">Calls</span>        <span class=\"s s-Atom\">:</span> <span class=\"mi\">1</span>\n",
       "<span class=\"lineno\">7 </span><span class=\"nv\">Time</span>         <span class=\"s s-Atom\">:</span> <span class=\"mf\">0.001</span><span class=\"nf\">s</span> <span class=\"p\">(</span><span class=\"nv\">Solving</span><span class=\"s s-Atom\">:</span> <span class=\"mf\">0.00</span><span class=\"s s-Atom\">s</span> <span class=\"mi\">1</span><span class=\"s s-Atom\">st</span> <span class=\"nv\">Model</span><span class=\"s s-Atom\">:</span> <span class=\"mf\">0.00</span><span class=\"s s-Atom\">s</span> <span class=\"nv\">Unsat</span><span class=\"s s-Atom\">:</span> <span class=\"mf\">0.00</span><span class=\"s s-Atom\">s</span><span class=\"p\">)</span>\n",
       "<span class=\"lineno\">8 </span><span class=\"nv\">CPU</span> <span class=\"nv\">Time</span>     <span class=\"s s-Atom\">:</span> <span class=\"mf\">0.000</span><span class=\"s s-Atom\">s</span>\n",
       "</pre></div>\n"
      ],
      "text/plain": [
       "'Answer: 1\\ndata(\"Sun\",100,1) data(\"Moon\",10,2) data(\"Planet\",1,8) query1(\"Sun\",100,1) query1(\"Moon\",10,2) query1(\"Planet\",1,8) join(\"database\",\"Sun\",100,1,\"Join\\\\nSun\",blue,\"Sun\",100,1) join(\"database\",\"Moon\",10,2,\"Join\\\\nSun\",blue,\"Moon\",10,2) join(\"database\",\"Planet\",1,8,\"Join\\\\nSun\",blue,\"Planet\",1,8) join(\"database\",\"Sun\",100,1,\"JoinMoon\",green,\"Sun\",100,1) join(\"database\",\"Moon\",10,2,\"JoinMoon\",green,\"Moon\",10,2) join(\"database\",\"Planet\",1,8,\"JoinMoon\",green,\"Planet\",1,8) join(\"database\",\"Sun\",100,1,\"JoinPlanet\",red,\"Sun\",100,1) join(\"database\",\"Moon\",10,2,\"JoinPlanet\",red,\"Moon\",10,2) join(\"database\",\"Planet\",1,8,\"JoinPlanet\",red,\"Planet\",1,8) select(\"Join\\\\nSun\",\"Sun\",100,1,\"Select\",orange) select(\"Join\\\\nSun\",\"Moon\",10,2,\"Select\",orange) select(\"Join\\\\nSun\",\"Planet\",1,8,\"Select\",orange) select(\"JoinMoon\",\"Sun\",100,1,\"Select\",orange) select(\"JoinMoon\",\"Moon\",10,2,\"Select\",orange) select(\"JoinMoon\",\"Planet\",1,8,\"Select\",orange) select(\"JoinPlanet\",\"Sun\",100,1,\"Select\",orange) select(\"JoinPlanet\",\"Moon\",10,2,\"Select\",orange) select(\"JoinPlanet\",\"Planet\",1,8,\"Select\",orange)\\nSATISFIABLE\\n\\nModels       : 1\\nCalls        : 1\\nTime         : 0.001s (Solving: 0.00s 1st Model: 0.00s Unsat: 0.00s)\\nCPU Time     : 0.000s'"
      ]
     },
     "metadata": {},
     "output_type": "display_data"
    }
   ],
   "source": [
    "%%clingo -l hamming_gv_rules --donot-display_input --save_meta_data_to md --saveto sail_out\n",
    "\n",
    "\n",
    "query1(X,Y,Z) :- data(X,Y,Z).\n",
    "join(\"database\",X,Y,Z,\"Join\\nSun\",blue,A,B,C) :- query1(X,Y,Z), query1(A,B,C), A=X.\n",
    "join(\"database\",X,Y,Z,\"JoinMoon\",green,A,B,C) :- query1(X,Y,Z), query1(A,B,C), B=Y.\n",
    "join(\"database\",X,Y,Z,\"JoinPlanet\",red,A,B,C) :- query1(X,Y,Z), query1(A,B,C), C=Z.\n",
    "\n",
    "select(N,X,Y,Z,\"Select\",orange) :- join(_,X,Y,Z,N,Colour,A,B,C).\n",
    "\n",
    "\n",
    "%result(N,\"Sun\",Y,Z,\"Result\",6) :- select(_,X,Y,Z,N,5).\n",
    "\n",
    "%graphviz graph graph_type=directed rankdir=LR\n",
    "%graphviz edge join(HEAD,_,_,_,TAIL,_,_,_,_) color=$6\n",
    "%graphviz edge select(HEAD,_,_,_,TAIL,_) color=$6\n",
    "%graphviz edge result(HEAD,_,_,_,TAIL,_) color=$6\n"
   ]
  },
  {
   "cell_type": "code",
   "execution_count": 205,
   "metadata": {},
   "outputs": [
    {
     "name": "stdout",
     "output_type": "stream",
     "text": [
      "Number of Models: 1\n"
     ]
    }
   ],
   "source": [
    "pw_rel_dfs, schemas, pw_objs = load_worlds(sail_out, md, print_parse_tree=False, reasoner='clingo')"
   ]
  },
  {
   "cell_type": "code",
   "execution_count": 206,
   "metadata": {},
   "outputs": [
    {
     "data": {
      "text/plain": [
       "dict_keys(['data_3', 'data_9', 'data_6'])"
      ]
     },
     "execution_count": 206,
     "metadata": {},
     "output_type": "execute_result"
    }
   ],
   "source": [
    "pw_rel_dfs.keys()"
   ]
  },
  {
   "cell_type": "code",
   "execution_count": 213,
   "metadata": {},
   "outputs": [
    {
     "data": {
      "text/html": [
       "<div>\n",
       "<style scoped>\n",
       "    .dataframe tbody tr th:only-of-type {\n",
       "        vertical-align: middle;\n",
       "    }\n",
       "\n",
       "    .dataframe tbody tr th {\n",
       "        vertical-align: top;\n",
       "    }\n",
       "\n",
       "    .dataframe thead th {\n",
       "        text-align: right;\n",
       "    }\n",
       "</style>\n",
       "<table border=\"1\" class=\"dataframe\">\n",
       "  <thead>\n",
       "    <tr style=\"text-align: right;\">\n",
       "      <th></th>\n",
       "      <th>pw</th>\n",
       "      <th>x1</th>\n",
       "      <th>x2</th>\n",
       "      <th>x3</th>\n",
       "      <th>x4</th>\n",
       "      <th>x5</th>\n",
       "      <th>x6</th>\n",
       "    </tr>\n",
       "  </thead>\n",
       "  <tbody>\n",
       "    <tr>\n",
       "      <th>0</th>\n",
       "      <td>1</td>\n",
       "      <td>\"Join\\nSun\"</td>\n",
       "      <td>\"Sun\"</td>\n",
       "      <td>100</td>\n",
       "      <td>1</td>\n",
       "      <td>\"Select\"</td>\n",
       "      <td>orange</td>\n",
       "    </tr>\n",
       "    <tr>\n",
       "      <th>1</th>\n",
       "      <td>1</td>\n",
       "      <td>\"Join\\nSun\"</td>\n",
       "      <td>\"Moon\"</td>\n",
       "      <td>10</td>\n",
       "      <td>2</td>\n",
       "      <td>\"Select\"</td>\n",
       "      <td>orange</td>\n",
       "    </tr>\n",
       "    <tr>\n",
       "      <th>2</th>\n",
       "      <td>1</td>\n",
       "      <td>\"Join\\nSun\"</td>\n",
       "      <td>\"Planet\"</td>\n",
       "      <td>1</td>\n",
       "      <td>8</td>\n",
       "      <td>\"Select\"</td>\n",
       "      <td>orange</td>\n",
       "    </tr>\n",
       "    <tr>\n",
       "      <th>3</th>\n",
       "      <td>1</td>\n",
       "      <td>\"JoinMoon\"</td>\n",
       "      <td>\"Sun\"</td>\n",
       "      <td>100</td>\n",
       "      <td>1</td>\n",
       "      <td>\"Select\"</td>\n",
       "      <td>orange</td>\n",
       "    </tr>\n",
       "    <tr>\n",
       "      <th>4</th>\n",
       "      <td>1</td>\n",
       "      <td>\"JoinMoon\"</td>\n",
       "      <td>\"Moon\"</td>\n",
       "      <td>10</td>\n",
       "      <td>2</td>\n",
       "      <td>\"Select\"</td>\n",
       "      <td>orange</td>\n",
       "    </tr>\n",
       "    <tr>\n",
       "      <th>5</th>\n",
       "      <td>1</td>\n",
       "      <td>\"JoinMoon\"</td>\n",
       "      <td>\"Planet\"</td>\n",
       "      <td>1</td>\n",
       "      <td>8</td>\n",
       "      <td>\"Select\"</td>\n",
       "      <td>orange</td>\n",
       "    </tr>\n",
       "    <tr>\n",
       "      <th>6</th>\n",
       "      <td>1</td>\n",
       "      <td>\"JoinPlanet\"</td>\n",
       "      <td>\"Sun\"</td>\n",
       "      <td>100</td>\n",
       "      <td>1</td>\n",
       "      <td>\"Select\"</td>\n",
       "      <td>orange</td>\n",
       "    </tr>\n",
       "    <tr>\n",
       "      <th>7</th>\n",
       "      <td>1</td>\n",
       "      <td>\"JoinPlanet\"</td>\n",
       "      <td>\"Moon\"</td>\n",
       "      <td>10</td>\n",
       "      <td>2</td>\n",
       "      <td>\"Select\"</td>\n",
       "      <td>orange</td>\n",
       "    </tr>\n",
       "    <tr>\n",
       "      <th>8</th>\n",
       "      <td>1</td>\n",
       "      <td>\"JoinPlanet\"</td>\n",
       "      <td>\"Planet\"</td>\n",
       "      <td>1</td>\n",
       "      <td>8</td>\n",
       "      <td>\"Select\"</td>\n",
       "      <td>orange</td>\n",
       "    </tr>\n",
       "  </tbody>\n",
       "</table>\n",
       "</div>"
      ],
      "text/plain": [
       "   pw            x1        x2   x3 x4        x5      x6\n",
       "0   1   \"Join\\nSun\"     \"Sun\"  100  1  \"Select\"  orange\n",
       "1   1   \"Join\\nSun\"    \"Moon\"   10  2  \"Select\"  orange\n",
       "2   1   \"Join\\nSun\"  \"Planet\"    1  8  \"Select\"  orange\n",
       "3   1    \"JoinMoon\"     \"Sun\"  100  1  \"Select\"  orange\n",
       "4   1    \"JoinMoon\"    \"Moon\"   10  2  \"Select\"  orange\n",
       "5   1    \"JoinMoon\"  \"Planet\"    1  8  \"Select\"  orange\n",
       "6   1  \"JoinPlanet\"     \"Sun\"  100  1  \"Select\"  orange\n",
       "7   1  \"JoinPlanet\"    \"Moon\"   10  2  \"Select\"  orange\n",
       "8   1  \"JoinPlanet\"  \"Planet\"    1  8  \"Select\"  orange"
      ]
     },
     "execution_count": 213,
     "metadata": {},
     "output_type": "execute_result"
    }
   ],
   "source": [
    "pw_rel_dfs['data_6']"
   ]
  },
  {
   "cell_type": "code",
   "execution_count": null,
   "metadata": {},
   "outputs": [],
   "source": [
    "G = nx.Graph()\n",
    "edges = []\n",
    "for i, row in pw_rels_dfs[edge_rel_name].iterrows():\n",
    "    start_node = \"{}\".format(''.join([row[col] for col in edge_init_col_names]))\n",
    "    end_node = \"{}\".format(''.join([row[col] for col in edge_end_col_names]))\n",
    "    G.add_edge(start_node, end_node, penwidth=2)\n",
    "    edges.append((start_node, end_node))\n",
    "for node in G.nodes: G.nodes[node]['fontname'] = 'Helvetica'\n",
    "G.graph['layout'] = 'neato'\n",
    "G.graph['rankdir'] = 'TB'"
   ]
  },
  {
   "cell_type": "code",
   "execution_count": 200,
   "metadata": {},
   "outputs": [
    {
     "data": {
      "image/png": "[encoded data removed]",
      "text/plain": [
       "<IPython.core.display.Image object>"
      ]
     },
     "execution_count": 200,
     "metadata": {},
     "output_type": "execute_result"
    }
   ],
   "source": [
    "g = PWEVisualization.graphviz_from_meta_data(pw_rel_dfs, md['graphviz'])\n",
    "draw(g)"
   ]
  },
  {
   "cell_type": "code",
   "execution_count": 178,
   "metadata": {},
   "outputs": [
    {
     "data": {
      "text/plain": [
       "{'temporal_dec': {},\n",
       " 'attr_def': {},\n",
       " 'graphviz': {'graph': {'styles': [('graph_type', 'direct', 'directed'),\n",
       "    ('rankdir', 'direct', 'LR')],\n",
       "   'graph_type': 'directed'},\n",
       "  'node': {},\n",
       "  'edge': {'join_9': {'head': 4,\n",
       "    'tail': 0,\n",
       "    'styles': [('color', 'arg_idx', 6)],\n",
       "    'ord': 1},\n",
       "   'select_6': {'head': 4,\n",
       "    'tail': 0,\n",
       "    'styles': [('color', 'arg_idx', 6)],\n",
       "    'ord': 1},\n",
       "   'result_6': {'head': 4,\n",
       "    'tail': 0,\n",
       "    'styles': [('color', 'arg_idx', 6)],\n",
       "    'ord': 1}}}}"
      ]
     },
     "execution_count": 178,
     "metadata": {},
     "output_type": "execute_result"
    }
   ],
   "source": [
    "md"
   ]
  },
  {
   "cell_type": "code",
   "execution_count": 8,
   "metadata": {},
   "outputs": [],
   "source": [
    "pw_rels_dfs, rel_schemas, pw_objs  = load_worlds(asp_output=dlv_soln, meta_data=meta_data, reasoner='dlv')"
   ]
  },
  {
   "cell_type": "code",
   "execution_count": 9,
   "metadata": {},
   "outputs": [
    {
     "data": {
      "text/plain": [
       "[{'relation_name': 'q_4', 'arity': 4, 'r_id': 0, 'meta_data': {}},\n",
       " {'relation_name': 'limit_1', 'arity': 1, 'r_id': 1, 'meta_data': {}},\n",
       " {'relation_name': 'n_1', 'arity': 1, 'r_id': 2, 'meta_data': {}},\n",
       " {'relation_name': 'emp_3', 'arity': 3, 'r_id': 3, 'meta_data': {}}]"
      ]
     },
     "execution_count": 9,
     "metadata": {},
     "output_type": "execute_result"
    }
   ],
   "source": [
    "list(map(lambda x: x.__dict__, rel_schemas))\n"
   ]
  },
  {
   "cell_type": "code",
   "execution_count": 54,
   "metadata": {},
   "outputs": [
    {
     "ename": "NameError",
     "evalue": "name 'colorability_viz' is not defined",
     "output_type": "error",
     "traceback": [
      "\u001b[0;31m---------------------------------------------------------------------------\u001b[0m",
      "\u001b[0;31mNameError\u001b[0m                                 Traceback (most recent call last)",
      "\u001b[0;32m<ipython-input-54-1fd4ebdf7086>\u001b[0m in \u001b[0;36m<module>\u001b[0;34m\u001b[0m\n\u001b[0;32m----> 1\u001b[0;31m \u001b[0minput_viz\u001b[0m \u001b[0;34m=\u001b[0m \u001b[0mcolorability_viz\u001b[0m\u001b[0;34m(\u001b[0m\u001b[0mpw_rel_dfs\u001b[0m\u001b[0;34m,\u001b[0m \u001b[0;36m1\u001b[0m\u001b[0;34m,\u001b[0m \u001b[0mfill_type\u001b[0m\u001b[0;34m=\u001b[0m\u001b[0;34m'filled'\u001b[0m\u001b[0;34m)\u001b[0m\u001b[0;34m\u001b[0m\u001b[0;34m\u001b[0m\u001b[0m\n\u001b[0m\u001b[1;32m      2\u001b[0m \u001b[0mdraw\u001b[0m\u001b[0;34m(\u001b[0m\u001b[0minput_viz\u001b[0m\u001b[0;34m)\u001b[0m\u001b[0;34m\u001b[0m\u001b[0;34m\u001b[0m\u001b[0m\n",
      "\u001b[0;31mNameError\u001b[0m: name 'colorability_viz' is not defined"
     ]
    }
   ],
   "source": [
    "input_viz = colorability_viz(pw_rel_dfs, 1, fill_type='filled')\n",
    "draw(input_viz)"
   ]
  },
  {
   "cell_type": "code",
   "execution_count": 11,
   "metadata": {},
   "outputs": [
    {
     "data": {
      "text/html": [
       "<div>\n",
       "<style scoped>\n",
       "    .dataframe tbody tr th:only-of-type {\n",
       "        vertical-align: middle;\n",
       "    }\n",
       "\n",
       "    .dataframe tbody tr th {\n",
       "        vertical-align: top;\n",
       "    }\n",
       "\n",
       "    .dataframe thead th {\n",
       "        text-align: right;\n",
       "    }\n",
       "</style>\n",
       "<table border=\"1\" class=\"dataframe\">\n",
       "  <thead>\n",
       "    <tr style=\"text-align: right;\">\n",
       "      <th></th>\n",
       "      <th>wfs_status</th>\n",
       "      <th>x1</th>\n",
       "      <th>x2</th>\n",
       "      <th>x3</th>\n",
       "      <th>x4</th>\n",
       "    </tr>\n",
       "  </thead>\n",
       "  <tbody>\n",
       "    <tr>\n",
       "      <th>0</th>\n",
       "      <td>true</td>\n",
       "      <td>\"Moon\"</td>\n",
       "      <td>10</td>\n",
       "      <td>2</td>\n",
       "      <td>1</td>\n",
       "    </tr>\n",
       "    <tr>\n",
       "      <th>1</th>\n",
       "      <td>true</td>\n",
       "      <td>\"Planet\"</td>\n",
       "      <td>1</td>\n",
       "      <td>8</td>\n",
       "      <td>1</td>\n",
       "    </tr>\n",
       "    <tr>\n",
       "      <th>2</th>\n",
       "      <td>true</td>\n",
       "      <td>\"Planet\"</td>\n",
       "      <td>1</td>\n",
       "      <td>8</td>\n",
       "      <td>2</td>\n",
       "    </tr>\n",
       "    <tr>\n",
       "      <th>3</th>\n",
       "      <td>true</td>\n",
       "      <td>\"Planet\"</td>\n",
       "      <td>1</td>\n",
       "      <td>8</td>\n",
       "      <td>3</td>\n",
       "    </tr>\n",
       "    <tr>\n",
       "      <th>4</th>\n",
       "      <td>true</td>\n",
       "      <td>\"Planet\"</td>\n",
       "      <td>1</td>\n",
       "      <td>8</td>\n",
       "      <td>4</td>\n",
       "    </tr>\n",
       "    <tr>\n",
       "      <th>5</th>\n",
       "      <td>true</td>\n",
       "      <td>\"Planet\"</td>\n",
       "      <td>1</td>\n",
       "      <td>8</td>\n",
       "      <td>5</td>\n",
       "    </tr>\n",
       "    <tr>\n",
       "      <th>6</th>\n",
       "      <td>true</td>\n",
       "      <td>\"Planet\"</td>\n",
       "      <td>1</td>\n",
       "      <td>8</td>\n",
       "      <td>6</td>\n",
       "    </tr>\n",
       "    <tr>\n",
       "      <th>7</th>\n",
       "      <td>true</td>\n",
       "      <td>\"Planet\"</td>\n",
       "      <td>1</td>\n",
       "      <td>8</td>\n",
       "      <td>7</td>\n",
       "    </tr>\n",
       "  </tbody>\n",
       "</table>\n",
       "</div>"
      ],
      "text/plain": [
       "  wfs_status        x1  x2 x3 x4\n",
       "0       true    \"Moon\"  10  2  1\n",
       "1       true  \"Planet\"   1  8  1\n",
       "2       true  \"Planet\"   1  8  2\n",
       "3       true  \"Planet\"   1  8  3\n",
       "4       true  \"Planet\"   1  8  4\n",
       "5       true  \"Planet\"   1  8  5\n",
       "6       true  \"Planet\"   1  8  6\n",
       "7       true  \"Planet\"   1  8  7"
      ]
     },
     "execution_count": 11,
     "metadata": {},
     "output_type": "execute_result"
    }
   ],
   "source": [
    "pw_rels_dfs['q_4']"
   ]
  },
  {
   "cell_type": "code",
   "execution_count": null,
   "metadata": {},
   "outputs": [],
   "source": []
  }
 ],
 "metadata": {
  "kernelspec": {
   "display_name": "Python 3",
   "language": "python",
   "name": "python3"
  },
  "language_info": {
   "codemirror_mode": {
    "name": "ipython",
    "version": 3
   },
   "file_extension": ".py",
   "mimetype": "text/x-python",
   "name": "python",
   "nbconvert_exporter": "python",
   "pygments_lexer": "ipython3",
   "version": "3.6.9"
  }
 },
 "nbformat": 4,
 "nbformat_minor": 2
}
